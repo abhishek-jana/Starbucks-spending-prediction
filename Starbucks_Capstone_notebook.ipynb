{
 "cells": [
  {
   "cell_type": "markdown",
   "metadata": {},
   "source": [
    "**Define Problem Statement**\n",
    "\n",
    "**EDA**\n",
    "\n",
    "**Data Preparation**\n",
    "\n",
    "**Select ML/DL model**\n",
    "\n",
    "**Hyperparameter Tuning**\n",
    "\n",
    "**Deploy in Web**"
   ]
  },
  {
   "cell_type": "markdown",
   "metadata": {},
   "source": [
    "# Data Sets\n",
    "The data is contained in three files:\n",
    "\n",
    "- portfolio.json - containing offer ids and meta data about each offer (duration, type, etc.)\n",
    "- profile.json - demographic data for each customer\n",
    "- transcript.json - records for transactions, offers received, offers viewed, and offers completed\n",
    "Here is the schema and explanation of each variable in the files:\n",
    "\n",
    "portfolio.json\n",
    "\n",
    "- id (string) - offer id\n",
    "- offer_type (string) - type of offer ie BOGO, discount, informational\n",
    "- difficulty (int) - minimum required spend to complete an offer\n",
    "- reward (int) - reward given for completing an offer\n",
    "- duration (int) - time for offer to be open, in days\n",
    "- channels (list of strings)\n",
    "\n",
    "\n",
    "profile.json\n",
    "\n",
    "- age (int) - age of the customer\n",
    "- became_member_on (int) - date when customer created an app account\n",
    "- gender (str) - gender of the customer (note some entries contain 'O' for other rather than M or F)\n",
    "- id (str) - customer id\n",
    "- income (float) - customer's income\n",
    "\n",
    "\n",
    "transcript.json\n",
    "\n",
    "- event (str) - record description (ie transaction, offer received, offer viewed, etc.)\n",
    "- person (str) - customer id\n",
    "- time (int) - time in hours since start of test. The data begins at time t=0\n",
    "- value - (dict of strings) - either an offer id or transaction amount depending on the record"
   ]
  },
  {
   "cell_type": "markdown",
   "metadata": {},
   "source": [
    "## Define the Problem Statement\n",
    "\n",
    "- Use EDA to find out the spending pattern and offer usage among the consumers\n",
    "\n",
    "- Build a recommendation system to send out offers to customers\n",
    "\n",
    "- Build a machine learning model that predicts how much someone will spend based on demographics and decide on what type of offer should be sent to a new customer or weather to send an offer at all."
   ]
  },
  {
   "cell_type": "markdown",
   "metadata": {},
   "source": [
    "We want to answer few questions from the data:\n",
    "\n",
    "- **How does the offer vary with gender?**\n",
    "\n",
    "- **What kind of offer (BOGO,Discount,Informational) has more success rate?**\n",
    "\n",
    "- **How is the mean expenditure related to Gender, Age and Income?**"
   ]
  },
  {
   "cell_type": "markdown",
   "metadata": {},
   "source": [
    "## Read the Data"
   ]
  },
  {
   "cell_type": "code",
   "execution_count": 1,
   "metadata": {},
   "outputs": [],
   "source": [
    "# import libraries\n",
    "import pandas as pd\n",
    "import numpy as np\n",
    "import math\n",
    "import json\n",
    "import matplotlib.pyplot as plt\n",
    "import seaborn as sns\n",
    "\n",
    "%matplotlib inline\n",
    "\n",
    "# read in the json files\n",
    "portfolio = pd.read_json('data/portfolio.json', orient='records', lines=True)\n",
    "profile = pd.read_json('data/profile.json', orient='records', lines=True)\n",
    "transcript = pd.read_json('data/transcript.json', orient='records', lines=True)"
   ]
  },
  {
   "cell_type": "markdown",
   "metadata": {},
   "source": [
    "# EDA"
   ]
  },
  {
   "cell_type": "code",
   "execution_count": 2,
   "metadata": {},
   "outputs": [
    {
     "data": {
      "text/html": [
       "<div>\n",
       "<style scoped>\n",
       "    .dataframe tbody tr th:only-of-type {\n",
       "        vertical-align: middle;\n",
       "    }\n",
       "\n",
       "    .dataframe tbody tr th {\n",
       "        vertical-align: top;\n",
       "    }\n",
       "\n",
       "    .dataframe thead th {\n",
       "        text-align: right;\n",
       "    }\n",
       "</style>\n",
       "<table border=\"1\" class=\"dataframe\">\n",
       "  <thead>\n",
       "    <tr style=\"text-align: right;\">\n",
       "      <th></th>\n",
       "      <th>reward</th>\n",
       "      <th>channels</th>\n",
       "      <th>difficulty</th>\n",
       "      <th>duration</th>\n",
       "      <th>offer_type</th>\n",
       "      <th>id</th>\n",
       "    </tr>\n",
       "  </thead>\n",
       "  <tbody>\n",
       "    <tr>\n",
       "      <th>0</th>\n",
       "      <td>10</td>\n",
       "      <td>[email, mobile, social]</td>\n",
       "      <td>10</td>\n",
       "      <td>7</td>\n",
       "      <td>bogo</td>\n",
       "      <td>ae264e3637204a6fb9bb56bc8210ddfd</td>\n",
       "    </tr>\n",
       "    <tr>\n",
       "      <th>1</th>\n",
       "      <td>10</td>\n",
       "      <td>[web, email, mobile, social]</td>\n",
       "      <td>10</td>\n",
       "      <td>5</td>\n",
       "      <td>bogo</td>\n",
       "      <td>4d5c57ea9a6940dd891ad53e9dbe8da0</td>\n",
       "    </tr>\n",
       "    <tr>\n",
       "      <th>2</th>\n",
       "      <td>0</td>\n",
       "      <td>[web, email, mobile]</td>\n",
       "      <td>0</td>\n",
       "      <td>4</td>\n",
       "      <td>informational</td>\n",
       "      <td>3f207df678b143eea3cee63160fa8bed</td>\n",
       "    </tr>\n",
       "    <tr>\n",
       "      <th>3</th>\n",
       "      <td>5</td>\n",
       "      <td>[web, email, mobile]</td>\n",
       "      <td>5</td>\n",
       "      <td>7</td>\n",
       "      <td>bogo</td>\n",
       "      <td>9b98b8c7a33c4b65b9aebfe6a799e6d9</td>\n",
       "    </tr>\n",
       "    <tr>\n",
       "      <th>4</th>\n",
       "      <td>5</td>\n",
       "      <td>[web, email]</td>\n",
       "      <td>20</td>\n",
       "      <td>10</td>\n",
       "      <td>discount</td>\n",
       "      <td>0b1e1539f2cc45b7b9fa7c272da2e1d7</td>\n",
       "    </tr>\n",
       "    <tr>\n",
       "      <th>5</th>\n",
       "      <td>3</td>\n",
       "      <td>[web, email, mobile, social]</td>\n",
       "      <td>7</td>\n",
       "      <td>7</td>\n",
       "      <td>discount</td>\n",
       "      <td>2298d6c36e964ae4a3e7e9706d1fb8c2</td>\n",
       "    </tr>\n",
       "    <tr>\n",
       "      <th>6</th>\n",
       "      <td>2</td>\n",
       "      <td>[web, email, mobile, social]</td>\n",
       "      <td>10</td>\n",
       "      <td>10</td>\n",
       "      <td>discount</td>\n",
       "      <td>fafdcd668e3743c1bb461111dcafc2a4</td>\n",
       "    </tr>\n",
       "    <tr>\n",
       "      <th>7</th>\n",
       "      <td>0</td>\n",
       "      <td>[email, mobile, social]</td>\n",
       "      <td>0</td>\n",
       "      <td>3</td>\n",
       "      <td>informational</td>\n",
       "      <td>5a8bc65990b245e5a138643cd4eb9837</td>\n",
       "    </tr>\n",
       "    <tr>\n",
       "      <th>8</th>\n",
       "      <td>5</td>\n",
       "      <td>[web, email, mobile, social]</td>\n",
       "      <td>5</td>\n",
       "      <td>5</td>\n",
       "      <td>bogo</td>\n",
       "      <td>f19421c1d4aa40978ebb69ca19b0e20d</td>\n",
       "    </tr>\n",
       "    <tr>\n",
       "      <th>9</th>\n",
       "      <td>2</td>\n",
       "      <td>[web, email, mobile]</td>\n",
       "      <td>10</td>\n",
       "      <td>7</td>\n",
       "      <td>discount</td>\n",
       "      <td>2906b810c7d4411798c6938adc9daaa5</td>\n",
       "    </tr>\n",
       "  </tbody>\n",
       "</table>\n",
       "</div>"
      ],
      "text/plain": [
       "   reward                      channels  difficulty  duration     offer_type  \\\n",
       "0      10       [email, mobile, social]          10         7           bogo   \n",
       "1      10  [web, email, mobile, social]          10         5           bogo   \n",
       "2       0          [web, email, mobile]           0         4  informational   \n",
       "3       5          [web, email, mobile]           5         7           bogo   \n",
       "4       5                  [web, email]          20        10       discount   \n",
       "5       3  [web, email, mobile, social]           7         7       discount   \n",
       "6       2  [web, email, mobile, social]          10        10       discount   \n",
       "7       0       [email, mobile, social]           0         3  informational   \n",
       "8       5  [web, email, mobile, social]           5         5           bogo   \n",
       "9       2          [web, email, mobile]          10         7       discount   \n",
       "\n",
       "                                 id  \n",
       "0  ae264e3637204a6fb9bb56bc8210ddfd  \n",
       "1  4d5c57ea9a6940dd891ad53e9dbe8da0  \n",
       "2  3f207df678b143eea3cee63160fa8bed  \n",
       "3  9b98b8c7a33c4b65b9aebfe6a799e6d9  \n",
       "4  0b1e1539f2cc45b7b9fa7c272da2e1d7  \n",
       "5  2298d6c36e964ae4a3e7e9706d1fb8c2  \n",
       "6  fafdcd668e3743c1bb461111dcafc2a4  \n",
       "7  5a8bc65990b245e5a138643cd4eb9837  \n",
       "8  f19421c1d4aa40978ebb69ca19b0e20d  \n",
       "9  2906b810c7d4411798c6938adc9daaa5  "
      ]
     },
     "execution_count": 2,
     "metadata": {},
     "output_type": "execute_result"
    }
   ],
   "source": [
    "portfolio"
   ]
  },
  {
   "cell_type": "markdown",
   "metadata": {},
   "source": [
    "Portfolio data has 10 rows for 10 different offers. There are three types of offers : **BOGO, Discount and Informational**. To redeem the offers one has to spend 0, 5, 7, 10 or 20 dollars."
   ]
  },
  {
   "cell_type": "code",
   "execution_count": 3,
   "metadata": {},
   "outputs": [
    {
     "data": {
      "text/html": [
       "<div>\n",
       "<style scoped>\n",
       "    .dataframe tbody tr th:only-of-type {\n",
       "        vertical-align: middle;\n",
       "    }\n",
       "\n",
       "    .dataframe tbody tr th {\n",
       "        vertical-align: top;\n",
       "    }\n",
       "\n",
       "    .dataframe thead th {\n",
       "        text-align: right;\n",
       "    }\n",
       "</style>\n",
       "<table border=\"1\" class=\"dataframe\">\n",
       "  <thead>\n",
       "    <tr style=\"text-align: right;\">\n",
       "      <th></th>\n",
       "      <th>gender</th>\n",
       "      <th>age</th>\n",
       "      <th>id</th>\n",
       "      <th>became_member_on</th>\n",
       "      <th>income</th>\n",
       "    </tr>\n",
       "  </thead>\n",
       "  <tbody>\n",
       "    <tr>\n",
       "      <th>0</th>\n",
       "      <td>None</td>\n",
       "      <td>118</td>\n",
       "      <td>68be06ca386d4c31939f3a4f0e3dd783</td>\n",
       "      <td>20170212</td>\n",
       "      <td>NaN</td>\n",
       "    </tr>\n",
       "    <tr>\n",
       "      <th>1</th>\n",
       "      <td>F</td>\n",
       "      <td>55</td>\n",
       "      <td>0610b486422d4921ae7d2bf64640c50b</td>\n",
       "      <td>20170715</td>\n",
       "      <td>112000.0</td>\n",
       "    </tr>\n",
       "    <tr>\n",
       "      <th>2</th>\n",
       "      <td>None</td>\n",
       "      <td>118</td>\n",
       "      <td>38fe809add3b4fcf9315a9694bb96ff5</td>\n",
       "      <td>20180712</td>\n",
       "      <td>NaN</td>\n",
       "    </tr>\n",
       "    <tr>\n",
       "      <th>3</th>\n",
       "      <td>F</td>\n",
       "      <td>75</td>\n",
       "      <td>78afa995795e4d85b5d9ceeca43f5fef</td>\n",
       "      <td>20170509</td>\n",
       "      <td>100000.0</td>\n",
       "    </tr>\n",
       "    <tr>\n",
       "      <th>4</th>\n",
       "      <td>None</td>\n",
       "      <td>118</td>\n",
       "      <td>a03223e636434f42ac4c3df47e8bac43</td>\n",
       "      <td>20170804</td>\n",
       "      <td>NaN</td>\n",
       "    </tr>\n",
       "    <tr>\n",
       "      <th>5</th>\n",
       "      <td>M</td>\n",
       "      <td>68</td>\n",
       "      <td>e2127556f4f64592b11af22de27a7932</td>\n",
       "      <td>20180426</td>\n",
       "      <td>70000.0</td>\n",
       "    </tr>\n",
       "    <tr>\n",
       "      <th>6</th>\n",
       "      <td>None</td>\n",
       "      <td>118</td>\n",
       "      <td>8ec6ce2a7e7949b1bf142def7d0e0586</td>\n",
       "      <td>20170925</td>\n",
       "      <td>NaN</td>\n",
       "    </tr>\n",
       "    <tr>\n",
       "      <th>7</th>\n",
       "      <td>None</td>\n",
       "      <td>118</td>\n",
       "      <td>68617ca6246f4fbc85e91a2a49552598</td>\n",
       "      <td>20171002</td>\n",
       "      <td>NaN</td>\n",
       "    </tr>\n",
       "    <tr>\n",
       "      <th>8</th>\n",
       "      <td>M</td>\n",
       "      <td>65</td>\n",
       "      <td>389bc3fa690240e798340f5a15918d5c</td>\n",
       "      <td>20180209</td>\n",
       "      <td>53000.0</td>\n",
       "    </tr>\n",
       "    <tr>\n",
       "      <th>9</th>\n",
       "      <td>None</td>\n",
       "      <td>118</td>\n",
       "      <td>8974fc5686fe429db53ddde067b88302</td>\n",
       "      <td>20161122</td>\n",
       "      <td>NaN</td>\n",
       "    </tr>\n",
       "  </tbody>\n",
       "</table>\n",
       "</div>"
      ],
      "text/plain": [
       "  gender  age                                id  became_member_on    income\n",
       "0   None  118  68be06ca386d4c31939f3a4f0e3dd783          20170212       NaN\n",
       "1      F   55  0610b486422d4921ae7d2bf64640c50b          20170715  112000.0\n",
       "2   None  118  38fe809add3b4fcf9315a9694bb96ff5          20180712       NaN\n",
       "3      F   75  78afa995795e4d85b5d9ceeca43f5fef          20170509  100000.0\n",
       "4   None  118  a03223e636434f42ac4c3df47e8bac43          20170804       NaN\n",
       "5      M   68  e2127556f4f64592b11af22de27a7932          20180426   70000.0\n",
       "6   None  118  8ec6ce2a7e7949b1bf142def7d0e0586          20170925       NaN\n",
       "7   None  118  68617ca6246f4fbc85e91a2a49552598          20171002       NaN\n",
       "8      M   65  389bc3fa690240e798340f5a15918d5c          20180209   53000.0\n",
       "9   None  118  8974fc5686fe429db53ddde067b88302          20161122       NaN"
      ]
     },
     "execution_count": 3,
     "metadata": {},
     "output_type": "execute_result"
    }
   ],
   "source": [
    "profile.head(10)"
   ]
  },
  {
   "cell_type": "code",
   "execution_count": 4,
   "metadata": {},
   "outputs": [
    {
     "name": "stdout",
     "output_type": "stream",
     "text": [
      "<class 'pandas.core.frame.DataFrame'>\n",
      "RangeIndex: 17000 entries, 0 to 16999\n",
      "Data columns (total 5 columns):\n",
      " #   Column            Non-Null Count  Dtype  \n",
      "---  ------            --------------  -----  \n",
      " 0   gender            14825 non-null  object \n",
      " 1   age               17000 non-null  int64  \n",
      " 2   id                17000 non-null  object \n",
      " 3   became_member_on  17000 non-null  int64  \n",
      " 4   income            14825 non-null  float64\n",
      "dtypes: float64(1), int64(2), object(2)\n",
      "memory usage: 664.2+ KB\n"
     ]
    }
   ],
   "source": [
    "profile.info()"
   ]
  },
  {
   "cell_type": "code",
   "execution_count": 5,
   "metadata": {},
   "outputs": [
    {
     "data": {
      "text/plain": [
       "array([None, 'F', 'M', 'O'], dtype=object)"
      ]
     },
     "execution_count": 5,
     "metadata": {},
     "output_type": "execute_result"
    }
   ],
   "source": [
    "profile.gender.unique()"
   ]
  },
  {
   "cell_type": "markdown",
   "metadata": {},
   "source": [
    "Profile data is the information of 17000 unique person. The data has some null values. And by looking at the data we can say that there are some people who did not disclose their gender, age, or income. That's why we have the same number of null values in gender and income colume, and corresponding age column has 118 as age. "
   ]
  },
  {
   "cell_type": "code",
   "execution_count": 6,
   "metadata": {},
   "outputs": [
    {
     "data": {
      "image/png": "[encoded data removed]",
      "text/plain": [
       "<Figure size 432x288 with 1 Axes>"
      ]
     },
     "metadata": {
      "needs_background": "light"
     },
     "output_type": "display_data"
    }
   ],
   "source": [
    "profile.groupby('gender')['age'].mean().plot.bar();\n",
    "plt.ylabel('Age');"
   ]
  },
  {
   "cell_type": "markdown",
   "metadata": {},
   "source": [
    "The data has same mean age distribution among the gender."
   ]
  },
  {
   "cell_type": "code",
   "execution_count": 7,
   "metadata": {},
   "outputs": [
    {
     "data": {
      "image/png": "[encoded data removed]",
      "text/plain": [
       "<Figure size 720x360 with 2 Axes>"
      ]
     },
     "metadata": {
      "needs_background": "light"
     },
     "output_type": "display_data"
    }
   ],
   "source": [
    "profile[['age','income']].hist(bins=50,figsize=(10,5));"
   ]
  },
  {
   "cell_type": "markdown",
   "metadata": {},
   "source": [
    "As we can see the age data is nearly a gaussian distribution with 118 as outlier whereas the income data is right skewed."
   ]
  },
  {
   "cell_type": "code",
   "execution_count": 8,
   "metadata": {},
   "outputs": [
    {
     "data": {
      "text/html": [
       "<div>\n",
       "<style scoped>\n",
       "    .dataframe tbody tr th:only-of-type {\n",
       "        vertical-align: middle;\n",
       "    }\n",
       "\n",
       "    .dataframe tbody tr th {\n",
       "        vertical-align: top;\n",
       "    }\n",
       "\n",
       "    .dataframe thead th {\n",
       "        text-align: right;\n",
       "    }\n",
       "</style>\n",
       "<table border=\"1\" class=\"dataframe\">\n",
       "  <thead>\n",
       "    <tr style=\"text-align: right;\">\n",
       "      <th></th>\n",
       "      <th>person</th>\n",
       "      <th>event</th>\n",
       "      <th>value</th>\n",
       "      <th>time</th>\n",
       "    </tr>\n",
       "  </thead>\n",
       "  <tbody>\n",
       "    <tr>\n",
       "      <th>0</th>\n",
       "      <td>78afa995795e4d85b5d9ceeca43f5fef</td>\n",
       "      <td>offer received</td>\n",
       "      <td>{'offer id': '9b98b8c7a33c4b65b9aebfe6a799e6d9'}</td>\n",
       "      <td>0</td>\n",
       "    </tr>\n",
       "    <tr>\n",
       "      <th>1</th>\n",
       "      <td>a03223e636434f42ac4c3df47e8bac43</td>\n",
       "      <td>offer received</td>\n",
       "      <td>{'offer id': '0b1e1539f2cc45b7b9fa7c272da2e1d7'}</td>\n",
       "      <td>0</td>\n",
       "    </tr>\n",
       "    <tr>\n",
       "      <th>2</th>\n",
       "      <td>e2127556f4f64592b11af22de27a7932</td>\n",
       "      <td>offer received</td>\n",
       "      <td>{'offer id': '2906b810c7d4411798c6938adc9daaa5'}</td>\n",
       "      <td>0</td>\n",
       "    </tr>\n",
       "    <tr>\n",
       "      <th>3</th>\n",
       "      <td>8ec6ce2a7e7949b1bf142def7d0e0586</td>\n",
       "      <td>offer received</td>\n",
       "      <td>{'offer id': 'fafdcd668e3743c1bb461111dcafc2a4'}</td>\n",
       "      <td>0</td>\n",
       "    </tr>\n",
       "    <tr>\n",
       "      <th>4</th>\n",
       "      <td>68617ca6246f4fbc85e91a2a49552598</td>\n",
       "      <td>offer received</td>\n",
       "      <td>{'offer id': '4d5c57ea9a6940dd891ad53e9dbe8da0'}</td>\n",
       "      <td>0</td>\n",
       "    </tr>\n",
       "    <tr>\n",
       "      <th>5</th>\n",
       "      <td>389bc3fa690240e798340f5a15918d5c</td>\n",
       "      <td>offer received</td>\n",
       "      <td>{'offer id': 'f19421c1d4aa40978ebb69ca19b0e20d'}</td>\n",
       "      <td>0</td>\n",
       "    </tr>\n",
       "    <tr>\n",
       "      <th>6</th>\n",
       "      <td>c4863c7985cf408faee930f111475da3</td>\n",
       "      <td>offer received</td>\n",
       "      <td>{'offer id': '2298d6c36e964ae4a3e7e9706d1fb8c2'}</td>\n",
       "      <td>0</td>\n",
       "    </tr>\n",
       "    <tr>\n",
       "      <th>7</th>\n",
       "      <td>2eeac8d8feae4a8cad5a6af0499a211d</td>\n",
       "      <td>offer received</td>\n",
       "      <td>{'offer id': '3f207df678b143eea3cee63160fa8bed'}</td>\n",
       "      <td>0</td>\n",
       "    </tr>\n",
       "    <tr>\n",
       "      <th>8</th>\n",
       "      <td>aa4862eba776480b8bb9c68455b8c2e1</td>\n",
       "      <td>offer received</td>\n",
       "      <td>{'offer id': '0b1e1539f2cc45b7b9fa7c272da2e1d7'}</td>\n",
       "      <td>0</td>\n",
       "    </tr>\n",
       "    <tr>\n",
       "      <th>9</th>\n",
       "      <td>31dda685af34476cad5bc968bdb01c53</td>\n",
       "      <td>offer received</td>\n",
       "      <td>{'offer id': '0b1e1539f2cc45b7b9fa7c272da2e1d7'}</td>\n",
       "      <td>0</td>\n",
       "    </tr>\n",
       "  </tbody>\n",
       "</table>\n",
       "</div>"
      ],
      "text/plain": [
       "                             person           event  \\\n",
       "0  78afa995795e4d85b5d9ceeca43f5fef  offer received   \n",
       "1  a03223e636434f42ac4c3df47e8bac43  offer received   \n",
       "2  e2127556f4f64592b11af22de27a7932  offer received   \n",
       "3  8ec6ce2a7e7949b1bf142def7d0e0586  offer received   \n",
       "4  68617ca6246f4fbc85e91a2a49552598  offer received   \n",
       "5  389bc3fa690240e798340f5a15918d5c  offer received   \n",
       "6  c4863c7985cf408faee930f111475da3  offer received   \n",
       "7  2eeac8d8feae4a8cad5a6af0499a211d  offer received   \n",
       "8  aa4862eba776480b8bb9c68455b8c2e1  offer received   \n",
       "9  31dda685af34476cad5bc968bdb01c53  offer received   \n",
       "\n",
       "                                              value  time  \n",
       "0  {'offer id': '9b98b8c7a33c4b65b9aebfe6a799e6d9'}     0  \n",
       "1  {'offer id': '0b1e1539f2cc45b7b9fa7c272da2e1d7'}     0  \n",
       "2  {'offer id': '2906b810c7d4411798c6938adc9daaa5'}     0  \n",
       "3  {'offer id': 'fafdcd668e3743c1bb461111dcafc2a4'}     0  \n",
       "4  {'offer id': '4d5c57ea9a6940dd891ad53e9dbe8da0'}     0  \n",
       "5  {'offer id': 'f19421c1d4aa40978ebb69ca19b0e20d'}     0  \n",
       "6  {'offer id': '2298d6c36e964ae4a3e7e9706d1fb8c2'}     0  \n",
       "7  {'offer id': '3f207df678b143eea3cee63160fa8bed'}     0  \n",
       "8  {'offer id': '0b1e1539f2cc45b7b9fa7c272da2e1d7'}     0  \n",
       "9  {'offer id': '0b1e1539f2cc45b7b9fa7c272da2e1d7'}     0  "
      ]
     },
     "execution_count": 8,
     "metadata": {},
     "output_type": "execute_result"
    }
   ],
   "source": [
    "transcript.head(10)"
   ]
  },
  {
   "cell_type": "code",
   "execution_count": 9,
   "metadata": {},
   "outputs": [
    {
     "name": "stdout",
     "output_type": "stream",
     "text": [
      "<class 'pandas.core.frame.DataFrame'>\n",
      "RangeIndex: 306534 entries, 0 to 306533\n",
      "Data columns (total 4 columns):\n",
      " #   Column  Non-Null Count   Dtype \n",
      "---  ------  --------------   ----- \n",
      " 0   person  306534 non-null  object\n",
      " 1   event   306534 non-null  object\n",
      " 2   value   306534 non-null  object\n",
      " 3   time    306534 non-null  int64 \n",
      "dtypes: int64(1), object(3)\n",
      "memory usage: 9.4+ MB\n"
     ]
    }
   ],
   "source": [
    "transcript.info()"
   ]
  },
  {
   "cell_type": "code",
   "execution_count": 10,
   "metadata": {},
   "outputs": [
    {
     "data": {
      "text/plain": [
       "transaction        138953\n",
       "offer received      76277\n",
       "offer viewed        57725\n",
       "offer completed     33579\n",
       "Name: event, dtype: int64"
      ]
     },
     "execution_count": 10,
     "metadata": {},
     "output_type": "execute_result"
    }
   ],
   "source": [
    "transcript.event.value_counts()"
   ]
  },
  {
   "cell_type": "code",
   "execution_count": 11,
   "metadata": {},
   "outputs": [
    {
     "data": {
      "text/plain": [
       "17000"
      ]
     },
     "execution_count": 11,
     "metadata": {},
     "output_type": "execute_result"
    }
   ],
   "source": [
    "transcript.person.nunique()"
   ]
  },
  {
   "cell_type": "markdown",
   "metadata": {},
   "source": [
    "Transcript data has the transaction details of the 17000 unique person. 4 types of event is regietered, **transaction, offer received and offer viewed** \n",
    "\n",
    "The **value** column has either offer id or amount of transaction.  "
   ]
  },
  {
   "cell_type": "markdown",
   "metadata": {},
   "source": [
    "#### Concatenate profile and transcript column\n",
    "\n",
    "- first change **became_member_on** column to datetime column\n",
    "- join datasets on person/id column"
   ]
  },
  {
   "cell_type": "code",
   "execution_count": 12,
   "metadata": {},
   "outputs": [],
   "source": [
    "profile_data = profile.copy()"
   ]
  },
  {
   "cell_type": "code",
   "execution_count": 13,
   "metadata": {},
   "outputs": [],
   "source": [
    "# change became_member_on to datetime format and drop the column\n",
    "profile_data['date'] = pd.to_datetime(profile_data[\"became_member_on\"],format='%Y%m%d')\n",
    "profile_data.drop('became_member_on',axis=1,inplace=True)"
   ]
  },
  {
   "cell_type": "code",
   "execution_count": 14,
   "metadata": {},
   "outputs": [],
   "source": [
    "transcript_data = transcript.copy()"
   ]
  },
  {
   "cell_type": "code",
   "execution_count": 15,
   "metadata": {},
   "outputs": [],
   "source": [
    "# join on person/id column\n",
    "new_data = transcript_data.join(profile_data.set_index('id'), on = 'person')"
   ]
  },
  {
   "cell_type": "markdown",
   "metadata": {},
   "source": [
    "Extract offer id and transaction amount and replace the value column"
   ]
  },
  {
   "cell_type": "code",
   "execution_count": 16,
   "metadata": {},
   "outputs": [],
   "source": [
    "# extract offer id and transaction amount and replace the value column\n",
    "\n",
    "new_data['value'] = new_data.apply(lambda x : list(x['value'].values())[0],axis = 1)"
   ]
  },
  {
   "cell_type": "markdown",
   "metadata": {},
   "source": [
    "Change gender from None to unknown"
   ]
  },
  {
   "cell_type": "code",
   "execution_count": 17,
   "metadata": {},
   "outputs": [],
   "source": [
    "new_data['gender'] = new_data['gender'].apply(lambda x: 'Unknown' if x == None else x)"
   ]
  },
  {
   "cell_type": "code",
   "execution_count": 18,
   "metadata": {},
   "outputs": [
    {
     "data": {
      "text/plain": [
       "array(['F', 'Unknown', 'M', 'O'], dtype=object)"
      ]
     },
     "execution_count": 18,
     "metadata": {},
     "output_type": "execute_result"
    }
   ],
   "source": [
    "# check the gender column one more time\n",
    "new_data.gender.unique()"
   ]
  },
  {
   "cell_type": "markdown",
   "metadata": {},
   "source": [
    "Since we have **offer id** and **transaction amount** in the same column, we can spit the dataset into offer data and transaction data for further analysis"
   ]
  },
  {
   "cell_type": "code",
   "execution_count": 370,
   "metadata": {},
   "outputs": [],
   "source": [
    "offer_data = new_data[new_data['event'] != 'transaction']\n",
    "transaction_data = new_data[new_data['event'] == 'transaction']\n",
    "#Convert value amount to float\n",
    "transaction_data = transaction_data.copy() # to avoid settingwithcopy warning\n",
    "transaction_data.loc[:,'value'] = transaction_data.loc[:,'value'].astype(float)"
   ]
  },
  {
   "cell_type": "markdown",
   "metadata": {},
   "source": [
    "## Join portfolio data with offer data\n",
    "\n",
    "This will help us find out what type of offers are more popular among consumers"
   ]
  },
  {
   "cell_type": "code",
   "execution_count": 23,
   "metadata": {},
   "outputs": [],
   "source": [
    "offer_data = offer_data.join(portfolio.set_index('id'), on = 'value')"
   ]
  },
  {
   "cell_type": "code",
   "execution_count": 24,
   "metadata": {},
   "outputs": [
    {
     "data": {
      "text/plain": [
       "array([ 5, 20, 10,  7,  0])"
      ]
     },
     "execution_count": 24,
     "metadata": {},
     "output_type": "execute_result"
    }
   ],
   "source": [
    "offer_data.difficulty.unique()"
   ]
  },
  {
   "cell_type": "code",
   "execution_count": 25,
   "metadata": {},
   "outputs": [
    {
     "data": {
      "text/html": [
       "<div>\n",
       "<style scoped>\n",
       "    .dataframe tbody tr th:only-of-type {\n",
       "        vertical-align: middle;\n",
       "    }\n",
       "\n",
       "    .dataframe tbody tr th {\n",
       "        vertical-align: top;\n",
       "    }\n",
       "\n",
       "    .dataframe thead th {\n",
       "        text-align: right;\n",
       "    }\n",
       "</style>\n",
       "<table border=\"1\" class=\"dataframe\">\n",
       "  <thead>\n",
       "    <tr style=\"text-align: right;\">\n",
       "      <th></th>\n",
       "      <th>person</th>\n",
       "      <th>event</th>\n",
       "      <th>value</th>\n",
       "      <th>time</th>\n",
       "      <th>gender</th>\n",
       "      <th>age</th>\n",
       "      <th>income</th>\n",
       "      <th>date</th>\n",
       "      <th>reward</th>\n",
       "      <th>channels</th>\n",
       "      <th>difficulty</th>\n",
       "      <th>duration</th>\n",
       "      <th>offer_type</th>\n",
       "    </tr>\n",
       "  </thead>\n",
       "  <tbody>\n",
       "    <tr>\n",
       "      <th>0</th>\n",
       "      <td>78afa995795e4d85b5d9ceeca43f5fef</td>\n",
       "      <td>offer received</td>\n",
       "      <td>9b98b8c7a33c4b65b9aebfe6a799e6d9</td>\n",
       "      <td>0</td>\n",
       "      <td>F</td>\n",
       "      <td>75</td>\n",
       "      <td>100000.0</td>\n",
       "      <td>2017-05-09</td>\n",
       "      <td>5</td>\n",
       "      <td>[web, email, mobile]</td>\n",
       "      <td>5</td>\n",
       "      <td>7</td>\n",
       "      <td>bogo</td>\n",
       "    </tr>\n",
       "    <tr>\n",
       "      <th>1</th>\n",
       "      <td>a03223e636434f42ac4c3df47e8bac43</td>\n",
       "      <td>offer received</td>\n",
       "      <td>0b1e1539f2cc45b7b9fa7c272da2e1d7</td>\n",
       "      <td>0</td>\n",
       "      <td>Unknown</td>\n",
       "      <td>118</td>\n",
       "      <td>NaN</td>\n",
       "      <td>2017-08-04</td>\n",
       "      <td>5</td>\n",
       "      <td>[web, email]</td>\n",
       "      <td>20</td>\n",
       "      <td>10</td>\n",
       "      <td>discount</td>\n",
       "    </tr>\n",
       "    <tr>\n",
       "      <th>2</th>\n",
       "      <td>e2127556f4f64592b11af22de27a7932</td>\n",
       "      <td>offer received</td>\n",
       "      <td>2906b810c7d4411798c6938adc9daaa5</td>\n",
       "      <td>0</td>\n",
       "      <td>M</td>\n",
       "      <td>68</td>\n",
       "      <td>70000.0</td>\n",
       "      <td>2018-04-26</td>\n",
       "      <td>2</td>\n",
       "      <td>[web, email, mobile]</td>\n",
       "      <td>10</td>\n",
       "      <td>7</td>\n",
       "      <td>discount</td>\n",
       "    </tr>\n",
       "    <tr>\n",
       "      <th>3</th>\n",
       "      <td>8ec6ce2a7e7949b1bf142def7d0e0586</td>\n",
       "      <td>offer received</td>\n",
       "      <td>fafdcd668e3743c1bb461111dcafc2a4</td>\n",
       "      <td>0</td>\n",
       "      <td>Unknown</td>\n",
       "      <td>118</td>\n",
       "      <td>NaN</td>\n",
       "      <td>2017-09-25</td>\n",
       "      <td>2</td>\n",
       "      <td>[web, email, mobile, social]</td>\n",
       "      <td>10</td>\n",
       "      <td>10</td>\n",
       "      <td>discount</td>\n",
       "    </tr>\n",
       "    <tr>\n",
       "      <th>4</th>\n",
       "      <td>68617ca6246f4fbc85e91a2a49552598</td>\n",
       "      <td>offer received</td>\n",
       "      <td>4d5c57ea9a6940dd891ad53e9dbe8da0</td>\n",
       "      <td>0</td>\n",
       "      <td>Unknown</td>\n",
       "      <td>118</td>\n",
       "      <td>NaN</td>\n",
       "      <td>2017-10-02</td>\n",
       "      <td>10</td>\n",
       "      <td>[web, email, mobile, social]</td>\n",
       "      <td>10</td>\n",
       "      <td>5</td>\n",
       "      <td>bogo</td>\n",
       "    </tr>\n",
       "  </tbody>\n",
       "</table>\n",
       "</div>"
      ],
      "text/plain": [
       "                             person           event  \\\n",
       "0  78afa995795e4d85b5d9ceeca43f5fef  offer received   \n",
       "1  a03223e636434f42ac4c3df47e8bac43  offer received   \n",
       "2  e2127556f4f64592b11af22de27a7932  offer received   \n",
       "3  8ec6ce2a7e7949b1bf142def7d0e0586  offer received   \n",
       "4  68617ca6246f4fbc85e91a2a49552598  offer received   \n",
       "\n",
       "                              value  time   gender  age    income       date  \\\n",
       "0  9b98b8c7a33c4b65b9aebfe6a799e6d9     0        F   75  100000.0 2017-05-09   \n",
       "1  0b1e1539f2cc45b7b9fa7c272da2e1d7     0  Unknown  118       NaN 2017-08-04   \n",
       "2  2906b810c7d4411798c6938adc9daaa5     0        M   68   70000.0 2018-04-26   \n",
       "3  fafdcd668e3743c1bb461111dcafc2a4     0  Unknown  118       NaN 2017-09-25   \n",
       "4  4d5c57ea9a6940dd891ad53e9dbe8da0     0  Unknown  118       NaN 2017-10-02   \n",
       "\n",
       "   reward                      channels  difficulty  duration offer_type  \n",
       "0       5          [web, email, mobile]           5         7       bogo  \n",
       "1       5                  [web, email]          20        10   discount  \n",
       "2       2          [web, email, mobile]          10         7   discount  \n",
       "3       2  [web, email, mobile, social]          10        10   discount  \n",
       "4      10  [web, email, mobile, social]          10         5       bogo  "
      ]
     },
     "execution_count": 25,
     "metadata": {},
     "output_type": "execute_result"
    }
   ],
   "source": [
    "offer_data.head()"
   ]
  },
  {
   "cell_type": "markdown",
   "metadata": {},
   "source": [
    "## What are the popular types of offers?\n",
    "\n",
    "We can make a plot of what percentage of the distributed offer was BOGO, Discount, and Informational and finally find out what percentage of the offers were received, viewed and completed"
   ]
  },
  {
   "cell_type": "code",
   "execution_count": 27,
   "metadata": {},
   "outputs": [
    {
     "data": {
      "text/plain": [
       "offer_type\n",
       "bogo             30499\n",
       "discount         30543\n",
       "informational    15235\n",
       "Name: offer_type, dtype: int64"
      ]
     },
     "execution_count": 27,
     "metadata": {},
     "output_type": "execute_result"
    }
   ],
   "source": [
    "# total number of offer received  \n",
    "offer_received = offer_data[offer_data['event'] == 'offer received']\n",
    "# total number of offer received grouped by offer type\n",
    "offer_received.groupby('offer_type')['offer_type'].count()"
   ]
  },
  {
   "cell_type": "code",
   "execution_count": 29,
   "metadata": {},
   "outputs": [
    {
     "data": {
      "text/plain": [
       "offer_type     event          \n",
       "bogo           offer completed    0.205422\n",
       "               offer received     0.399845\n",
       "               offer viewed       0.333639\n",
       "discount       offer completed    0.234802\n",
       "               offer received     0.400422\n",
       "               offer viewed       0.281146\n",
       "informational  offer received     0.199733\n",
       "               offer viewed       0.141996\n",
       "Name: event, dtype: float64"
      ]
     },
     "execution_count": 29,
     "metadata": {},
     "output_type": "execute_result"
    }
   ],
   "source": [
    "# percentage of offer received grouped by offer type\n",
    "(offer_data.groupby(['offer_type','event'])['event'].count()/offer_received.shape[0])"
   ]
  },
  {
   "cell_type": "code",
   "execution_count": 46,
   "metadata": {},
   "outputs": [],
   "source": [
    "def offer_type_by_event(data = offer_data):\n",
    "    \"\"\"\n",
    "    Plot of percentage of offer received vs grouped by offer type\n",
    "    INPUT:\n",
    "    data : input offer data\n",
    "    OUTPUT:\n",
    "    Plot of percentage of offer received vs grouped by offer type\n",
    "    \"\"\"\n",
    "    # total number of offer received  \n",
    "    offer_received = offer_data[offer_data['event'] == 'offer received']\n",
    "    # percentage of offer received grouped by offer type\n",
    "    res = (data.groupby(['offer_type','event'])['event'].count()/offer_received.shape[0])\n",
    "    res.unstack().plot(kind='bar',rot = 360);\n",
    "    plt.ylabel('percentage of offer received');\n",
    "    plt.title('percentage of offer received vs grouped by offer type');"
   ]
  },
  {
   "cell_type": "code",
   "execution_count": 47,
   "metadata": {},
   "outputs": [
    {
     "data": {
      "image/png": "[encoded data removed]",
      "text/plain": [
       "<Figure size 432x288 with 1 Axes>"
      ]
     },
     "metadata": {
      "needs_background": "light"
     },
     "output_type": "display_data"
    }
   ],
   "source": [
    "offer_type_by_event()"
   ]
  },
  {
   "cell_type": "markdown",
   "metadata": {},
   "source": [
    "We can see that the informational offers don't need to be completed. Althogh, **BOGO and Discount** offers were distributed evenly,\n",
    "\n",
    "- BOGO offers were viewed more that discount offers.\n",
    "- But, Discount offers were completed more.\n",
    "\n",
    "So, discount offers were more popular in terms of completion. "
   ]
  },
  {
   "cell_type": "markdown",
   "metadata": {},
   "source": [
    "## Distribution of transaction and offer among gender\n",
    "\n",
    "let's find out how offer data is distributed with gender.\n",
    "\n",
    "Since there is no offer completion for 'informational' offer, we can ignore the rows containing 'informational' offer to find out the relation between offer viewed and offer completion "
   ]
  },
  {
   "cell_type": "code",
   "execution_count": 56,
   "metadata": {},
   "outputs": [],
   "source": [
    "def average_offer_by_gender(data = offer_data, profile_info = profile_data):\n",
    "    '''\n",
    "    Input:\n",
    "    data : data to plot offer type vs percentage of offer\n",
    "    profile_info: profile data of all customers\n",
    "    \n",
    "    Output:\n",
    "    plot of gender vs average number of offers\n",
    "    '''\n",
    "    res = data[data['event'] == 'offer received'].gender.value_counts()/profile_info.gender.fillna('Unknown').value_counts()\n",
    "    res.plot.bar();\n",
    "    plt.title('Average offer received by gender')\n",
    "    plt.xlabel('Gender')\n",
    "    plt.ylabel('average offer received per person');\n",
    "\n",
    "def offer_with_gender(data = offer_data):\n",
    "    '''\n",
    "    Input:\n",
    "    data : data to plot offer type vs percentage of offer\n",
    "    \n",
    "    Output:\n",
    "    plot of offer type vs percentage of offer\n",
    "    '''\n",
    "    gender = data.gender.unique()\n",
    "    cols = ['b','r','g','c']\n",
    "    for i,gen in enumerate(gender): \n",
    "        data = data[data['offer_type'] != 'informational' ]\n",
    "        res = data[data['gender'] == gen].event.value_counts()\n",
    "        res[1:] = res[1:]/res[0]\n",
    "        res[:1] =  res[:1]/data[data['gender'] == gen].shape[0] # divide by total offer data by gender\n",
    "        plt.bar(np.arange(res.shape[0] - 1)+i/5,res.values[1:],width = 0.20 , color = cols[i],label = gen)\n",
    "    plt.xticks(np.arange(res.shape[0] - 1) + 0.25, (res.index[1:]))\n",
    "    plt.xlabel('offer type');\n",
    "    plt.legend(loc = 'best');\n",
    "    plt.ylabel('percentage');\n",
    "    plt.title('distribution of offers by Gender');\n",
    "    "
   ]
  },
  {
   "cell_type": "code",
   "execution_count": 57,
   "metadata": {},
   "outputs": [
    {
     "data": {
      "image/png": "[encoded data removed]",
      "text/plain": [
       "<Figure size 432x288 with 1 Axes>"
      ]
     },
     "metadata": {
      "needs_background": "light"
     },
     "output_type": "display_data"
    }
   ],
   "source": [
    "average_offer_by_gender()"
   ]
  },
  {
   "cell_type": "code",
   "execution_count": 58,
   "metadata": {},
   "outputs": [
    {
     "data": {
      "image/png": "[encoded data removed]",
      "text/plain": [
       "<Figure size 432x288 with 1 Axes>"
      ]
     },
     "metadata": {
      "needs_background": "light"
     },
     "output_type": "display_data"
    }
   ],
   "source": [
    "offer_with_gender()"
   ]
  },
  {
   "cell_type": "markdown",
   "metadata": {},
   "source": [
    "From the 'Average offer received by gender' plot we see that the average offer received per person by gender is **nearly the same**.\n",
    "\n",
    "The 'distribution of offers by Gender' plot shows the percentage of **offer viewed** among offer received by gender and percentage of **offer completed** among offer received by gender.\n",
    "\n",
    "Clearly, we see that,\n",
    "- **Other** customers viewd the most offers and \n",
    "- **Male** customers viewd the least offers. \n",
    "- **Female** customers completed the most offers and, \n",
    "- **Unknown** group completed the least offers. \n",
    "\n",
    "We can say, given an offer, the chance of redeeming the offer is higher among **Female** and **Other** genders!"
   ]
  },
  {
   "cell_type": "markdown",
   "metadata": {},
   "source": [
    "From the transaction data, let's try to find out how **gender,age and income** relates to average transaction amount"
   ]
  },
  {
   "cell_type": "code",
   "execution_count": 64,
   "metadata": {},
   "outputs": [],
   "source": [
    "\n",
    "def average_transaction(data = transaction_data):\n",
    "    \"\"\"\n",
    "    Plot of avg expenditure vs gender, avg expenditure vs age and avg expenditure vs income\n",
    "    INPUT:\n",
    "    data: transaction data\n",
    "    \"\"\"\n",
    "    cols = ['gender','age','income']\n",
    "\n",
    "    for col in cols:\n",
    "        data.groupby([col])['value'].mean().plot.bar(figsize = (20,5));\n",
    "        plt.ylabel('mean transaction');\n",
    "        plt.title(f'avg expenditure vs {col}')\n",
    "        plt.show();"
   ]
  },
  {
   "cell_type": "code",
   "execution_count": 65,
   "metadata": {},
   "outputs": [
    {
     "data": {
      "image/png": "[encoded data removed]",
      "text/plain": [
       "<Figure size 1440x360 with 1 Axes>"
      ]
     },
     "metadata": {
      "needs_background": "light"
     },
     "output_type": "display_data"
    },
    {
     "data": {
      "image/png": "[encoded data removed]",
      "text/plain": [
       "<Figure size 1440x360 with 1 Axes>"
      ]
     },
     "metadata": {
      "needs_background": "light"
     },
     "output_type": "display_data"
    },
    {
     "data": {
      "image/png": "[encoded data removed]",
      "text/plain": [
       "<Figure size 1440x360 with 1 Axes>"
      ]
     },
     "metadata": {
      "needs_background": "light"
     },
     "output_type": "display_data"
    }
   ],
   "source": [
    "average_transaction()"
   ]
  },
  {
   "cell_type": "markdown",
   "metadata": {},
   "source": [
    "We can clearly see the expected trend in **age** and **income** vs expenditure. With age and income, mean expenditure increases.\n",
    "\n",
    "In the gender plot, we see **women** tend to spend the most and group with no demographic data (**Unknown** gender) tend to spend the lowest."
   ]
  },
  {
   "cell_type": "markdown",
   "metadata": {},
   "source": [
    "### Building a Recommendation System"
   ]
  },
  {
   "cell_type": "markdown",
   "metadata": {},
   "source": [
    "I will try to build a recommedation system and try to recommend ideal users for each offer.\n",
    "\n",
    "We need to remember few things before doing that.\n",
    "\n",
    "- We need to identify users who completed offers without actually opening the offers. We don't need to send out offers to these users as most likely they don't care about the offers.\n",
    "\n",
    "- If an user spends an average of more than \\\\$20, they are most likely don't rely on offers.\n",
    "\n",
    "- Since we have offer values of \\\\$5, \\\\$7, \\\\$10 and \\\\$20, we can come up with a general rule, that if an user spends an average of \\\\$15, we can recommend them a \\\\$20 offer to spend a little more.\n",
    "- Finally we would want to make recommendations for new users too. For, that we can train a ML model based on demgraphic data and other features to predict an amount the user will spend. And depending on the value, we can recommend them a offer or not! (for example, if the user is expected to spend more than \\\\$20, or very less than \\\\$5). "
   ]
  },
  {
   "cell_type": "code",
   "execution_count": 87,
   "metadata": {},
   "outputs": [
    {
     "data": {
      "text/plain": [
       "person\n",
       "0009655768c64bdeb2e877511632db8f    3\n",
       "0011e0d4e6b944f998e987f904e8c1e5    3\n",
       "0020c2b971eb4e9188eac86d93036a77    3\n",
       "0020ccbbb6d84e358d3414a3ff76cffd    3\n",
       "003d66b6608740288d6cc97a6903f4f0    3\n",
       "                                   ..\n",
       "fff29fb549084123bd046dbc5ceb4faa    6\n",
       "fff3ba4757bd42088c044ca26d73817a    3\n",
       "fff7576017104bcc8677a8d63322b5e1    3\n",
       "fffad4f4828548d1b5583907f2e9906b    3\n",
       "ffff82501cea40309d5fdd7edcca4a07    6\n",
       "Name: event, Length: 12774, dtype: int64"
      ]
     },
     "execution_count": 87,
     "metadata": {},
     "output_type": "execute_result"
    }
   ],
   "source": [
    "offer_data[offer_data['event'] == 'offer completed'].groupby('person')['event'].count()"
   ]
  },
  {
   "cell_type": "markdown",
   "metadata": {},
   "source": [
    "We need to be careful on the fact that, a customer can fulfill an offer even without opening an offer. We need to first identify these customers. Let's try to do that. Also, since 'informational' offers don't need to be completed we need to exclude that and add it later. \n",
    "\n",
    "let's group the data with respect to **person** and **event**. "
   ]
  },
  {
   "cell_type": "code",
   "execution_count": 104,
   "metadata": {},
   "outputs": [],
   "source": [
    "offer_data_informational = offer_data[offer_data['offer_type'] == 'informational']"
   ]
  },
  {
   "cell_type": "code",
   "execution_count": 105,
   "metadata": {},
   "outputs": [],
   "source": [
    "offer_data_not_informational = offer_data[offer_data['offer_type'] != 'informational']"
   ]
  },
  {
   "cell_type": "code",
   "execution_count": 116,
   "metadata": {},
   "outputs": [
    {
     "data": {
      "text/html": [
       "<div>\n",
       "<style scoped>\n",
       "    .dataframe tbody tr th:only-of-type {\n",
       "        vertical-align: middle;\n",
       "    }\n",
       "\n",
       "    .dataframe tbody tr th {\n",
       "        vertical-align: top;\n",
       "    }\n",
       "\n",
       "    .dataframe thead th {\n",
       "        text-align: right;\n",
       "    }\n",
       "</style>\n",
       "<table border=\"1\" class=\"dataframe\">\n",
       "  <thead>\n",
       "    <tr style=\"text-align: right;\">\n",
       "      <th>event</th>\n",
       "      <th>offer completed</th>\n",
       "      <th>offer received</th>\n",
       "      <th>offer viewed</th>\n",
       "    </tr>\n",
       "    <tr>\n",
       "      <th>person</th>\n",
       "      <th></th>\n",
       "      <th></th>\n",
       "      <th></th>\n",
       "    </tr>\n",
       "  </thead>\n",
       "  <tbody>\n",
       "    <tr>\n",
       "      <th>0009655768c64bdeb2e877511632db8f</th>\n",
       "      <td>3.0</td>\n",
       "      <td>3.0</td>\n",
       "      <td>2.0</td>\n",
       "    </tr>\n",
       "    <tr>\n",
       "      <th>00116118485d4dfda04fdbaba9a87b5c</th>\n",
       "      <td>0.0</td>\n",
       "      <td>2.0</td>\n",
       "      <td>2.0</td>\n",
       "    </tr>\n",
       "    <tr>\n",
       "      <th>0011e0d4e6b944f998e987f904e8c1e5</th>\n",
       "      <td>3.0</td>\n",
       "      <td>3.0</td>\n",
       "      <td>3.0</td>\n",
       "    </tr>\n",
       "    <tr>\n",
       "      <th>0020c2b971eb4e9188eac86d93036a77</th>\n",
       "      <td>3.0</td>\n",
       "      <td>4.0</td>\n",
       "      <td>2.0</td>\n",
       "    </tr>\n",
       "    <tr>\n",
       "      <th>0020ccbbb6d84e358d3414a3ff76cffd</th>\n",
       "      <td>3.0</td>\n",
       "      <td>3.0</td>\n",
       "      <td>3.0</td>\n",
       "    </tr>\n",
       "    <tr>\n",
       "      <th>...</th>\n",
       "      <td>...</td>\n",
       "      <td>...</td>\n",
       "      <td>...</td>\n",
       "    </tr>\n",
       "    <tr>\n",
       "      <th>fff3ba4757bd42088c044ca26d73817a</th>\n",
       "      <td>3.0</td>\n",
       "      <td>4.0</td>\n",
       "      <td>2.0</td>\n",
       "    </tr>\n",
       "    <tr>\n",
       "      <th>fff7576017104bcc8677a8d63322b5e1</th>\n",
       "      <td>3.0</td>\n",
       "      <td>5.0</td>\n",
       "      <td>4.0</td>\n",
       "    </tr>\n",
       "    <tr>\n",
       "      <th>fff8957ea8b240a6b5e634b6ee8eafcf</th>\n",
       "      <td>0.0</td>\n",
       "      <td>2.0</td>\n",
       "      <td>2.0</td>\n",
       "    </tr>\n",
       "    <tr>\n",
       "      <th>fffad4f4828548d1b5583907f2e9906b</th>\n",
       "      <td>3.0</td>\n",
       "      <td>3.0</td>\n",
       "      <td>3.0</td>\n",
       "    </tr>\n",
       "    <tr>\n",
       "      <th>ffff82501cea40309d5fdd7edcca4a07</th>\n",
       "      <td>6.0</td>\n",
       "      <td>6.0</td>\n",
       "      <td>6.0</td>\n",
       "    </tr>\n",
       "  </tbody>\n",
       "</table>\n",
       "<p>16928 rows × 3 columns</p>\n",
       "</div>"
      ],
      "text/plain": [
       "event                             offer completed  offer received  \\\n",
       "person                                                              \n",
       "0009655768c64bdeb2e877511632db8f              3.0             3.0   \n",
       "00116118485d4dfda04fdbaba9a87b5c              0.0             2.0   \n",
       "0011e0d4e6b944f998e987f904e8c1e5              3.0             3.0   \n",
       "0020c2b971eb4e9188eac86d93036a77              3.0             4.0   \n",
       "0020ccbbb6d84e358d3414a3ff76cffd              3.0             3.0   \n",
       "...                                           ...             ...   \n",
       "fff3ba4757bd42088c044ca26d73817a              3.0             4.0   \n",
       "fff7576017104bcc8677a8d63322b5e1              3.0             5.0   \n",
       "fff8957ea8b240a6b5e634b6ee8eafcf              0.0             2.0   \n",
       "fffad4f4828548d1b5583907f2e9906b              3.0             3.0   \n",
       "ffff82501cea40309d5fdd7edcca4a07              6.0             6.0   \n",
       "\n",
       "event                             offer viewed  \n",
       "person                                          \n",
       "0009655768c64bdeb2e877511632db8f           2.0  \n",
       "00116118485d4dfda04fdbaba9a87b5c           2.0  \n",
       "0011e0d4e6b944f998e987f904e8c1e5           3.0  \n",
       "0020c2b971eb4e9188eac86d93036a77           2.0  \n",
       "0020ccbbb6d84e358d3414a3ff76cffd           3.0  \n",
       "...                                        ...  \n",
       "fff3ba4757bd42088c044ca26d73817a           2.0  \n",
       "fff7576017104bcc8677a8d63322b5e1           4.0  \n",
       "fff8957ea8b240a6b5e634b6ee8eafcf           2.0  \n",
       "fffad4f4828548d1b5583907f2e9906b           3.0  \n",
       "ffff82501cea40309d5fdd7edcca4a07           6.0  \n",
       "\n",
       "[16928 rows x 3 columns]"
      ]
     },
     "execution_count": 116,
     "metadata": {},
     "output_type": "execute_result"
    }
   ],
   "source": [
    "offer_data_not_informational.groupby(['person','event'])['event'].count().unstack().fillna(0)"
   ]
  },
  {
   "cell_type": "markdown",
   "metadata": {},
   "source": [
    "## How to decide whom to send BOGO, discount and Informational| offers?\n",
    "\n",
    "There can be two possibilities for BOGO and Discount offers, \n",
    "- We can set a threshold ratio of **offer viewed/offer received** and say if the value is more than the threshold percentage, they have a better chance of opening an offer.\n",
    "- Similarly we can set a threshold ratio of **offer completed/offer viewed** and say if the value is more than the threshold percentage, they have a better chance of completing an offer.\n",
    "\n",
    "But there's a catch! We can have people who actually completed an offer without even opening the offer. In that case the ratio of **offer completed/offer viewed** will be greater than 1. We don't need to send them offers as they will most likely wouldn't mind about offers. So, we need to set an upper bound too!\n",
    "\n",
    "Finally, we can use the informational offer data, and build a separate recommendation system than BOGO and Discount offers, since one doesn't need to spend anything for this type of offers. "
   ]
  },
  {
   "cell_type": "markdown",
   "metadata": {},
   "source": [
    "#### How to build the recommendation system?\n",
    "\n",
    "For BOGO and Discount offer data,\n",
    "\n",
    "- We will use **rank based recommendation**\n",
    "- There will be User-User Based **Collaborative Filtering**, in which, we will recommend top n users for each offer.\n",
    "- We will use ML to make **content based recommendation** for new users. We will train a model based on demographic data to predict the mean expenditure. Depending on that value, we will recommend offers.\n",
    "\n",
    "For Informational offers,\n",
    "\n",
    "- We will use rank based recommendation. Since there are only two offers in this category, we will just predict top n users for similar new offers.\n",
    "\n",
    " "
   ]
  },
  {
   "cell_type": "code",
   "execution_count": 150,
   "metadata": {},
   "outputs": [],
   "source": [
    "# write a function that will split the offer data into offer_type (BOGO, discount vs informational)\n",
    "\n",
    "def split_offer_data(data = offer_data):\n",
    "    \"\"\"\n",
    "    Function to split offer_data in offer type\n",
    "    INPUT:\n",
    "    offer_data : pandas dataframe\n",
    "    \n",
    "    OUTPUT:\n",
    "    informational_offer_data: dataframe containing only 'informational' offer_type\n",
    "    no_informational_offer_data: dataframe containing 'BOGO and discount' offer_type\n",
    "    \"\"\"\n",
    "    info = data[data['offer_type'] == 'informational']\n",
    "    no_info = data[data['offer_type'] != 'informational']\n",
    "    return info, no_info\n",
    "\n",
    "# function that will return a dataframe with person as index and events as columns\n",
    "\n",
    "def person_info(data = offer_data):\n",
    "    \"\"\"\n",
    "    Function to return a dataframe with person as index and events as columns\n",
    "\n",
    "    INPUT:\n",
    "    offer_data : pandas dataframe  \n",
    "    \n",
    "    OUTPUT:\n",
    "    no_info_person_df : df containing person as index and \"offer completed, offer received, offer viewed, completed/viewed, viewed/received\" \n",
    "    as columns \n",
    "    info_person_df : df containing person as index and \"offer received, offer viewed,viewed/received\" \n",
    "    as columns \n",
    "    \"\"\"\n",
    "    info_data,no_info_data = split_offer_data(data)\n",
    "    no_info_person_df = no_info_data.groupby(['person','event'])['event'].count().unstack().fillna(0)\n",
    "    no_info_person_df['completed/viewed'] = (no_info_person_df.loc[:,'offer completed']/no_info_person_df.loc[:,'offer viewed']).fillna(0)\n",
    "    no_info_person_df['viewed/received'] = (no_info_person_df.loc[:,'offer viewed']/no_info_person_df.loc[:,'offer received']).fillna(0)\n",
    "    no_info_person_df.replace([np.inf], 0, inplace = True) # inf occurs in completed/viewed col\n",
    "    \n",
    "    info_person_df = info_data.groupby(['person','event'])['event'].count().unstack().fillna(0)\n",
    "    info_person_df['viewed/received'] = (info_person_df.loc[:,'offer viewed']/info_person_df.loc[:,'offer received']).fillna(0)\n",
    "    \n",
    "    return no_info_person_df,info_person_df\n",
    "\n"
   ]
  },
  {
   "cell_type": "markdown",
   "metadata": {},
   "source": [
    "Let's have a look at the data"
   ]
  },
  {
   "cell_type": "code",
   "execution_count": 151,
   "metadata": {},
   "outputs": [],
   "source": [
    "no_info_data, info_data = person_info()"
   ]
  },
  {
   "cell_type": "code",
   "execution_count": 152,
   "metadata": {},
   "outputs": [
    {
     "data": {
      "text/html": [
       "<div>\n",
       "<style scoped>\n",
       "    .dataframe tbody tr th:only-of-type {\n",
       "        vertical-align: middle;\n",
       "    }\n",
       "\n",
       "    .dataframe tbody tr th {\n",
       "        vertical-align: top;\n",
       "    }\n",
       "\n",
       "    .dataframe thead th {\n",
       "        text-align: right;\n",
       "    }\n",
       "</style>\n",
       "<table border=\"1\" class=\"dataframe\">\n",
       "  <thead>\n",
       "    <tr style=\"text-align: right;\">\n",
       "      <th>event</th>\n",
       "      <th>offer completed</th>\n",
       "      <th>offer received</th>\n",
       "      <th>offer viewed</th>\n",
       "      <th>completed/viewed</th>\n",
       "      <th>viewed/received</th>\n",
       "    </tr>\n",
       "  </thead>\n",
       "  <tbody>\n",
       "    <tr>\n",
       "      <th>count</th>\n",
       "      <td>16928.000000</td>\n",
       "      <td>16928.000000</td>\n",
       "      <td>16928.000000</td>\n",
       "      <td>16928.000000</td>\n",
       "      <td>16928.000000</td>\n",
       "    </tr>\n",
       "    <tr>\n",
       "      <th>mean</th>\n",
       "      <td>1.983637</td>\n",
       "      <td>3.605978</td>\n",
       "      <td>2.770203</td>\n",
       "      <td>0.738188</td>\n",
       "      <td>0.771803</td>\n",
       "    </tr>\n",
       "    <tr>\n",
       "      <th>std</th>\n",
       "      <td>1.603787</td>\n",
       "      <td>1.183817</td>\n",
       "      <td>1.252258</td>\n",
       "      <td>0.636747</td>\n",
       "      <td>0.256611</td>\n",
       "    </tr>\n",
       "    <tr>\n",
       "      <th>min</th>\n",
       "      <td>0.000000</td>\n",
       "      <td>1.000000</td>\n",
       "      <td>0.000000</td>\n",
       "      <td>0.000000</td>\n",
       "      <td>0.000000</td>\n",
       "    </tr>\n",
       "    <tr>\n",
       "      <th>25%</th>\n",
       "      <td>1.000000</td>\n",
       "      <td>3.000000</td>\n",
       "      <td>2.000000</td>\n",
       "      <td>0.000000</td>\n",
       "      <td>0.600000</td>\n",
       "    </tr>\n",
       "    <tr>\n",
       "      <th>50%</th>\n",
       "      <td>2.000000</td>\n",
       "      <td>4.000000</td>\n",
       "      <td>3.000000</td>\n",
       "      <td>0.750000</td>\n",
       "      <td>0.800000</td>\n",
       "    </tr>\n",
       "    <tr>\n",
       "      <th>75%</th>\n",
       "      <td>3.000000</td>\n",
       "      <td>4.000000</td>\n",
       "      <td>4.000000</td>\n",
       "      <td>1.000000</td>\n",
       "      <td>1.000000</td>\n",
       "    </tr>\n",
       "    <tr>\n",
       "      <th>90%</th>\n",
       "      <td>4.000000</td>\n",
       "      <td>5.000000</td>\n",
       "      <td>4.000000</td>\n",
       "      <td>1.500000</td>\n",
       "      <td>1.000000</td>\n",
       "    </tr>\n",
       "    <tr>\n",
       "      <th>max</th>\n",
       "      <td>6.000000</td>\n",
       "      <td>6.000000</td>\n",
       "      <td>6.000000</td>\n",
       "      <td>5.000000</td>\n",
       "      <td>1.000000</td>\n",
       "    </tr>\n",
       "  </tbody>\n",
       "</table>\n",
       "</div>"
      ],
      "text/plain": [
       "event  offer completed  offer received  offer viewed  completed/viewed  \\\n",
       "count     16928.000000    16928.000000  16928.000000      16928.000000   \n",
       "mean          1.983637        3.605978      2.770203          0.738188   \n",
       "std           1.603787        1.183817      1.252258          0.636747   \n",
       "min           0.000000        1.000000      0.000000          0.000000   \n",
       "25%           1.000000        3.000000      2.000000          0.000000   \n",
       "50%           2.000000        4.000000      3.000000          0.750000   \n",
       "75%           3.000000        4.000000      4.000000          1.000000   \n",
       "90%           4.000000        5.000000      4.000000          1.500000   \n",
       "max           6.000000        6.000000      6.000000          5.000000   \n",
       "\n",
       "event  viewed/received  \n",
       "count     16928.000000  \n",
       "mean          0.771803  \n",
       "std           0.256611  \n",
       "min           0.000000  \n",
       "25%           0.600000  \n",
       "50%           0.800000  \n",
       "75%           1.000000  \n",
       "90%           1.000000  \n",
       "max           1.000000  "
      ]
     },
     "execution_count": 152,
     "metadata": {},
     "output_type": "execute_result"
    }
   ],
   "source": [
    "no_info_data.describe(percentiles=[0.25,0.75,0.9])"
   ]
  },
  {
   "cell_type": "code",
   "execution_count": 153,
   "metadata": {},
   "outputs": [
    {
     "data": {
      "text/html": [
       "<div>\n",
       "<style scoped>\n",
       "    .dataframe tbody tr th:only-of-type {\n",
       "        vertical-align: middle;\n",
       "    }\n",
       "\n",
       "    .dataframe tbody tr th {\n",
       "        vertical-align: top;\n",
       "    }\n",
       "\n",
       "    .dataframe thead th {\n",
       "        text-align: right;\n",
       "    }\n",
       "</style>\n",
       "<table border=\"1\" class=\"dataframe\">\n",
       "  <thead>\n",
       "    <tr style=\"text-align: right;\">\n",
       "      <th>event</th>\n",
       "      <th>offer received</th>\n",
       "      <th>offer viewed</th>\n",
       "      <th>viewed/received</th>\n",
       "    </tr>\n",
       "  </thead>\n",
       "  <tbody>\n",
       "    <tr>\n",
       "      <th>count</th>\n",
       "      <td>10547.000000</td>\n",
       "      <td>10547.000000</td>\n",
       "      <td>10547.000000</td>\n",
       "    </tr>\n",
       "    <tr>\n",
       "      <th>mean</th>\n",
       "      <td>1.444487</td>\n",
       "      <td>1.026927</td>\n",
       "      <td>0.711436</td>\n",
       "    </tr>\n",
       "    <tr>\n",
       "      <th>std</th>\n",
       "      <td>0.664753</td>\n",
       "      <td>0.737906</td>\n",
       "      <td>0.412456</td>\n",
       "    </tr>\n",
       "    <tr>\n",
       "      <th>min</th>\n",
       "      <td>1.000000</td>\n",
       "      <td>0.000000</td>\n",
       "      <td>0.000000</td>\n",
       "    </tr>\n",
       "    <tr>\n",
       "      <th>25%</th>\n",
       "      <td>1.000000</td>\n",
       "      <td>1.000000</td>\n",
       "      <td>0.500000</td>\n",
       "    </tr>\n",
       "    <tr>\n",
       "      <th>50%</th>\n",
       "      <td>1.000000</td>\n",
       "      <td>1.000000</td>\n",
       "      <td>1.000000</td>\n",
       "    </tr>\n",
       "    <tr>\n",
       "      <th>75%</th>\n",
       "      <td>2.000000</td>\n",
       "      <td>1.000000</td>\n",
       "      <td>1.000000</td>\n",
       "    </tr>\n",
       "    <tr>\n",
       "      <th>max</th>\n",
       "      <td>5.000000</td>\n",
       "      <td>5.000000</td>\n",
       "      <td>1.000000</td>\n",
       "    </tr>\n",
       "  </tbody>\n",
       "</table>\n",
       "</div>"
      ],
      "text/plain": [
       "event  offer received  offer viewed  viewed/received\n",
       "count    10547.000000  10547.000000     10547.000000\n",
       "mean         1.444487      1.026927         0.711436\n",
       "std          0.664753      0.737906         0.412456\n",
       "min          1.000000      0.000000         0.000000\n",
       "25%          1.000000      1.000000         0.500000\n",
       "50%          1.000000      1.000000         1.000000\n",
       "75%          2.000000      1.000000         1.000000\n",
       "max          5.000000      5.000000         1.000000"
      ]
     },
     "execution_count": 153,
     "metadata": {},
     "output_type": "execute_result"
    }
   ],
   "source": [
    "info_data.describe()"
   ]
  },
  {
   "cell_type": "markdown",
   "metadata": {},
   "source": [
    "**no_info_data** is with BOGO and discount offers and **info_data** is with informational offers only.\n",
    "\n",
    "Now, form the above table if we look at **completed/viewed** and **viewed/received** data column in 'no_info_data' and look at **viewed/received** data column in 'info_data' we can have an estimate of the threshold value to use.\n",
    "\n",
    "-no_info_data: completed/viewed has **mean 0.74** and **1.5 is 90th pecentile** of the data. viewed/received has **mean 0.77** and **1 is the 90th percentile** of the data.\n",
    "\n",
    "-info_data: viewed/received has **mean 0.71** and **1 is the 75th pecentile** of the data."
   ]
  },
  {
   "cell_type": "markdown",
   "metadata": {},
   "source": [
    "## Rank based recommendation:\n",
    "\n",
    "In this method we will return n top person for BOGO/discount offers and n top person for informational offers. They will be qualified for future similar offers."
   ]
  },
  {
   "cell_type": "code",
   "execution_count": 210,
   "metadata": {},
   "outputs": [],
   "source": [
    "def get_n_top_info_user(data = offer_data, threshold = 0.7, topn = 10):\n",
    "    \"\"\"\n",
    "    Function to return n top info offer users for future offers\n",
    "    INPUT:\n",
    "    offer_data : pandas dataframe\n",
    "    threshold: only select users who viewed atleast threshold of the offers \n",
    "    topn: top users to return\n",
    "    OUTPUT:\n",
    "    array of n top users/ all users for topn = 'max'\n",
    "    \"\"\"\n",
    "    \n",
    "    _ , info_data = person_info(data)\n",
    "    \n",
    "    info_data = info_data[info_data['viewed/received'] > threshold].sort_values(by=['viewed/received','offer received'],ascending = False)\n",
    "    \n",
    "    if type(topn) == int:\n",
    "        return info_data[:topn].index.values\n",
    "    if topn == 'max':\n",
    "        return info_data.index.values\n",
    "    else:\n",
    "        print (\"Enter the correct topn, either 'max' of integer\")\n"
   ]
  },
  {
   "cell_type": "markdown",
   "metadata": {},
   "source": [
    "To get n top non info users first we will filter out user according to certain threshold values in 'viewed/received' and 'completed/viewed' coulmns. Then we will look at their mean transaction value. If the value is greater than 20 then we will discard that user, as the greatest offer is \\\\$5 discount on \\\\$20 purchase. So the user doesn't care about the offers."
   ]
  },
  {
   "cell_type": "code",
   "execution_count": 272,
   "metadata": {},
   "outputs": [],
   "source": [
    "def get_n_top_non_info_user(data1 = offer_data, data2 = transaction_data, completed_thresh_lower = 0.7,completed_thresh_upper = 1.5,viewed_thresh = 0.75,topn = 10):\n",
    "    \"\"\"\n",
    "    Function to return n top non info offer users for future offers\n",
    "    INPUT:\n",
    "    data1 : pandas dataframe of offer data\n",
    "    data2 : pandas dataframe of transaction data\n",
    "    completed_thresh_lower : users who completed atleast the given value of the offers\n",
    "    completed_thresh_upper : users who completed less than the given value of the offers\n",
    "    viewed_thresh : select users who viewed atleast the given of the offers\n",
    "    topn: top users to return\n",
    "    OUTPUT:\n",
    "    n top users\n",
    "    \"\"\"\n",
    "    no_info_data ,_ = person_info(data1)\n",
    "    mean_transaction = data2.groupby(['person'])['value'].mean()\n",
    "    #discard users spending more than $20 \n",
    "    mean_transaction [mean_transaction <= 20.0 ] # value of higest offer value\n",
    "    # Filter no_info_data according to the threshold value\n",
    "    no_info_data = no_info_data.loc[(no_info_data['viewed/received'] > viewed_thresh) & (no_info_data['completed/viewed'] > completed_thresh_lower) & (no_info_data['completed/viewed'] < completed_thresh_upper)]\n",
    "    no_info_data = no_info_data.join(mean_transaction,on = 'person').dropna()\n",
    "    no_info_data = no_info_data.sort_values(by=['viewed/received','completed/viewed','offer received','value'],ascending = False)\n",
    "    \n",
    "    if type(topn) == int:\n",
    "        return no_info_data[:topn].index.values\n",
    "    if topn == 'max':\n",
    "        return no_info_data.index.values\n",
    "    else:\n",
    "        print (\"Enter the correct topn, either 'max' of integer\")\n",
    "\n",
    "\n"
   ]
  },
  {
   "cell_type": "code",
   "execution_count": 273,
   "metadata": {},
   "outputs": [
    {
     "data": {
      "text/plain": [
       "array(['23d67a23296a485781e69c109a10a1cf',\n",
       "       '6dba14f698ae4030ab7354cd5cfe7119',\n",
       "       'eece6a9a7bdd4ea1b0f812f34fc619d6',\n",
       "       '05bbe7decb6d43b684221df448979612',\n",
       "       '116b28e2983c44039eb8b20292742c94'], dtype=object)"
      ]
     },
     "execution_count": 273,
     "metadata": {},
     "output_type": "execute_result"
    }
   ],
   "source": [
    "get_n_top_info_user(topn = 5)"
   ]
  },
  {
   "cell_type": "code",
   "execution_count": 274,
   "metadata": {},
   "outputs": [
    {
     "data": {
      "text/plain": [
       "array(['d167940f7af04f4681daaa6d1bfd80a1',\n",
       "       'a2633655a62e4287a3b651d926a774a6',\n",
       "       '4d4216b868fe43ddb9c9f0b77212c0cb',\n",
       "       'bb465e90882143b6a49f99d9d810dc3f',\n",
       "       '17b29dcb0f924294a0d1de2ca59c763f'], dtype=object)"
      ]
     },
     "execution_count": 274,
     "metadata": {},
     "output_type": "execute_result"
    }
   ],
   "source": [
    "get_n_top_non_info_user(topn = 5)"
   ]
  },
  {
   "cell_type": "markdown",
   "metadata": {},
   "source": [
    "#### User-User Based Collaborative Filtering for BOGO/Discount data\n",
    "\n",
    "Now that we have created a rank-based recommendation for new offers, **what if we want to send out the existing offers to our existing users who haven't received some offers yet?** \n",
    "\n",
    "We will try to find top n users for each existing offer. To do so we will create a user_item matrix.\n",
    "\n",
    "- We will reformat the offer_data dataframe to be shaped with users as the columns and offers as the rows.\n",
    "- Each user should only appear in each coulmn once.\n",
    "- Each offer should only show up in one row.\n",
    "- If a user has interacted with an offer, then place a 1 where the user-column meets for that offer-row. It does not matter how many times a user has interacted with the offer, all entries where a user has interacted with an offer should be a 1.\n",
    "- If a user has not interacted with an offer, then place a zero where the user-column meets for that offer-row.\n"
   ]
  },
  {
   "cell_type": "code",
   "execution_count": 237,
   "metadata": {},
   "outputs": [],
   "source": [
    "user_item = offer_data.groupby(['value','person'])['person'].count().unstack().fillna(0)"
   ]
  },
  {
   "cell_type": "code",
   "execution_count": 238,
   "metadata": {},
   "outputs": [],
   "source": [
    "user_item.iloc[user_item > 0] = 1"
   ]
  },
  {
   "cell_type": "code",
   "execution_count": 239,
   "metadata": {},
   "outputs": [
    {
     "data": {
      "text/html": [
       "<div>\n",
       "<style scoped>\n",
       "    .dataframe tbody tr th:only-of-type {\n",
       "        vertical-align: middle;\n",
       "    }\n",
       "\n",
       "    .dataframe tbody tr th {\n",
       "        vertical-align: top;\n",
       "    }\n",
       "\n",
       "    .dataframe thead th {\n",
       "        text-align: right;\n",
       "    }\n",
       "</style>\n",
       "<table border=\"1\" class=\"dataframe\">\n",
       "  <thead>\n",
       "    <tr style=\"text-align: right;\">\n",
       "      <th>person</th>\n",
       "      <th>0009655768c64bdeb2e877511632db8f</th>\n",
       "      <th>00116118485d4dfda04fdbaba9a87b5c</th>\n",
       "      <th>0011e0d4e6b944f998e987f904e8c1e5</th>\n",
       "      <th>0020c2b971eb4e9188eac86d93036a77</th>\n",
       "      <th>0020ccbbb6d84e358d3414a3ff76cffd</th>\n",
       "      <th>003d66b6608740288d6cc97a6903f4f0</th>\n",
       "      <th>00426fe3ffde4c6b9cb9ad6d077a13ea</th>\n",
       "      <th>004b041fbfe44859945daa2c7f79ee64</th>\n",
       "      <th>004c5799adbf42868b9cff0396190900</th>\n",
       "      <th>005500a7188546ff8a767329a2f7c76a</th>\n",
       "      <th>...</th>\n",
       "      <th>ffecb1f8543f4bf7bade023de366d6bf</th>\n",
       "      <th>ffed75d3abc64b488982f50ed12878b5</th>\n",
       "      <th>ffede3b700ac41d6a266fa1ba74b4f16</th>\n",
       "      <th>fff0f0aac6c547b9b263080f09a5586a</th>\n",
       "      <th>fff29fb549084123bd046dbc5ceb4faa</th>\n",
       "      <th>fff3ba4757bd42088c044ca26d73817a</th>\n",
       "      <th>fff7576017104bcc8677a8d63322b5e1</th>\n",
       "      <th>fff8957ea8b240a6b5e634b6ee8eafcf</th>\n",
       "      <th>fffad4f4828548d1b5583907f2e9906b</th>\n",
       "      <th>ffff82501cea40309d5fdd7edcca4a07</th>\n",
       "    </tr>\n",
       "    <tr>\n",
       "      <th>value</th>\n",
       "      <th></th>\n",
       "      <th></th>\n",
       "      <th></th>\n",
       "      <th></th>\n",
       "      <th></th>\n",
       "      <th></th>\n",
       "      <th></th>\n",
       "      <th></th>\n",
       "      <th></th>\n",
       "      <th></th>\n",
       "      <th></th>\n",
       "      <th></th>\n",
       "      <th></th>\n",
       "      <th></th>\n",
       "      <th></th>\n",
       "      <th></th>\n",
       "      <th></th>\n",
       "      <th></th>\n",
       "      <th></th>\n",
       "      <th></th>\n",
       "      <th></th>\n",
       "    </tr>\n",
       "  </thead>\n",
       "  <tbody>\n",
       "    <tr>\n",
       "      <th>0b1e1539f2cc45b7b9fa7c272da2e1d7</th>\n",
       "      <td>0.0</td>\n",
       "      <td>0.0</td>\n",
       "      <td>1.0</td>\n",
       "      <td>0.0</td>\n",
       "      <td>0.0</td>\n",
       "      <td>1.0</td>\n",
       "      <td>1.0</td>\n",
       "      <td>0.0</td>\n",
       "      <td>0.0</td>\n",
       "      <td>0.0</td>\n",
       "      <td>...</td>\n",
       "      <td>1.0</td>\n",
       "      <td>0.0</td>\n",
       "      <td>1.0</td>\n",
       "      <td>0.0</td>\n",
       "      <td>0.0</td>\n",
       "      <td>0.0</td>\n",
       "      <td>0.0</td>\n",
       "      <td>0.0</td>\n",
       "      <td>0.0</td>\n",
       "      <td>1.0</td>\n",
       "    </tr>\n",
       "    <tr>\n",
       "      <th>2298d6c36e964ae4a3e7e9706d1fb8c2</th>\n",
       "      <td>0.0</td>\n",
       "      <td>0.0</td>\n",
       "      <td>1.0</td>\n",
       "      <td>0.0</td>\n",
       "      <td>1.0</td>\n",
       "      <td>0.0</td>\n",
       "      <td>0.0</td>\n",
       "      <td>0.0</td>\n",
       "      <td>0.0</td>\n",
       "      <td>0.0</td>\n",
       "      <td>...</td>\n",
       "      <td>0.0</td>\n",
       "      <td>0.0</td>\n",
       "      <td>0.0</td>\n",
       "      <td>0.0</td>\n",
       "      <td>0.0</td>\n",
       "      <td>0.0</td>\n",
       "      <td>0.0</td>\n",
       "      <td>0.0</td>\n",
       "      <td>0.0</td>\n",
       "      <td>0.0</td>\n",
       "    </tr>\n",
       "    <tr>\n",
       "      <th>2906b810c7d4411798c6938adc9daaa5</th>\n",
       "      <td>1.0</td>\n",
       "      <td>0.0</td>\n",
       "      <td>0.0</td>\n",
       "      <td>0.0</td>\n",
       "      <td>0.0</td>\n",
       "      <td>0.0</td>\n",
       "      <td>1.0</td>\n",
       "      <td>0.0</td>\n",
       "      <td>0.0</td>\n",
       "      <td>1.0</td>\n",
       "      <td>...</td>\n",
       "      <td>1.0</td>\n",
       "      <td>0.0</td>\n",
       "      <td>0.0</td>\n",
       "      <td>0.0</td>\n",
       "      <td>0.0</td>\n",
       "      <td>1.0</td>\n",
       "      <td>0.0</td>\n",
       "      <td>0.0</td>\n",
       "      <td>0.0</td>\n",
       "      <td>1.0</td>\n",
       "    </tr>\n",
       "    <tr>\n",
       "      <th>3f207df678b143eea3cee63160fa8bed</th>\n",
       "      <td>1.0</td>\n",
       "      <td>0.0</td>\n",
       "      <td>1.0</td>\n",
       "      <td>0.0</td>\n",
       "      <td>0.0</td>\n",
       "      <td>1.0</td>\n",
       "      <td>0.0</td>\n",
       "      <td>1.0</td>\n",
       "      <td>0.0</td>\n",
       "      <td>0.0</td>\n",
       "      <td>...</td>\n",
       "      <td>0.0</td>\n",
       "      <td>0.0</td>\n",
       "      <td>0.0</td>\n",
       "      <td>1.0</td>\n",
       "      <td>0.0</td>\n",
       "      <td>0.0</td>\n",
       "      <td>0.0</td>\n",
       "      <td>1.0</td>\n",
       "      <td>0.0</td>\n",
       "      <td>0.0</td>\n",
       "    </tr>\n",
       "    <tr>\n",
       "      <th>4d5c57ea9a6940dd891ad53e9dbe8da0</th>\n",
       "      <td>0.0</td>\n",
       "      <td>0.0</td>\n",
       "      <td>0.0</td>\n",
       "      <td>1.0</td>\n",
       "      <td>0.0</td>\n",
       "      <td>0.0</td>\n",
       "      <td>0.0</td>\n",
       "      <td>0.0</td>\n",
       "      <td>0.0</td>\n",
       "      <td>0.0</td>\n",
       "      <td>...</td>\n",
       "      <td>0.0</td>\n",
       "      <td>1.0</td>\n",
       "      <td>1.0</td>\n",
       "      <td>1.0</td>\n",
       "      <td>1.0</td>\n",
       "      <td>0.0</td>\n",
       "      <td>1.0</td>\n",
       "      <td>1.0</td>\n",
       "      <td>0.0</td>\n",
       "      <td>0.0</td>\n",
       "    </tr>\n",
       "    <tr>\n",
       "      <th>5a8bc65990b245e5a138643cd4eb9837</th>\n",
       "      <td>1.0</td>\n",
       "      <td>0.0</td>\n",
       "      <td>1.0</td>\n",
       "      <td>1.0</td>\n",
       "      <td>1.0</td>\n",
       "      <td>1.0</td>\n",
       "      <td>1.0</td>\n",
       "      <td>0.0</td>\n",
       "      <td>0.0</td>\n",
       "      <td>0.0</td>\n",
       "      <td>...</td>\n",
       "      <td>1.0</td>\n",
       "      <td>0.0</td>\n",
       "      <td>0.0</td>\n",
       "      <td>0.0</td>\n",
       "      <td>0.0</td>\n",
       "      <td>1.0</td>\n",
       "      <td>0.0</td>\n",
       "      <td>0.0</td>\n",
       "      <td>1.0</td>\n",
       "      <td>0.0</td>\n",
       "    </tr>\n",
       "    <tr>\n",
       "      <th>9b98b8c7a33c4b65b9aebfe6a799e6d9</th>\n",
       "      <td>0.0</td>\n",
       "      <td>0.0</td>\n",
       "      <td>1.0</td>\n",
       "      <td>0.0</td>\n",
       "      <td>1.0</td>\n",
       "      <td>0.0</td>\n",
       "      <td>0.0</td>\n",
       "      <td>0.0</td>\n",
       "      <td>0.0</td>\n",
       "      <td>1.0</td>\n",
       "      <td>...</td>\n",
       "      <td>1.0</td>\n",
       "      <td>0.0</td>\n",
       "      <td>0.0</td>\n",
       "      <td>0.0</td>\n",
       "      <td>0.0</td>\n",
       "      <td>1.0</td>\n",
       "      <td>1.0</td>\n",
       "      <td>0.0</td>\n",
       "      <td>1.0</td>\n",
       "      <td>1.0</td>\n",
       "    </tr>\n",
       "    <tr>\n",
       "      <th>ae264e3637204a6fb9bb56bc8210ddfd</th>\n",
       "      <td>0.0</td>\n",
       "      <td>0.0</td>\n",
       "      <td>0.0</td>\n",
       "      <td>1.0</td>\n",
       "      <td>0.0</td>\n",
       "      <td>0.0</td>\n",
       "      <td>0.0</td>\n",
       "      <td>0.0</td>\n",
       "      <td>1.0</td>\n",
       "      <td>1.0</td>\n",
       "      <td>...</td>\n",
       "      <td>0.0</td>\n",
       "      <td>1.0</td>\n",
       "      <td>0.0</td>\n",
       "      <td>0.0</td>\n",
       "      <td>1.0</td>\n",
       "      <td>0.0</td>\n",
       "      <td>1.0</td>\n",
       "      <td>0.0</td>\n",
       "      <td>0.0</td>\n",
       "      <td>0.0</td>\n",
       "    </tr>\n",
       "    <tr>\n",
       "      <th>f19421c1d4aa40978ebb69ca19b0e20d</th>\n",
       "      <td>1.0</td>\n",
       "      <td>1.0</td>\n",
       "      <td>0.0</td>\n",
       "      <td>0.0</td>\n",
       "      <td>1.0</td>\n",
       "      <td>0.0</td>\n",
       "      <td>0.0</td>\n",
       "      <td>1.0</td>\n",
       "      <td>1.0</td>\n",
       "      <td>0.0</td>\n",
       "      <td>...</td>\n",
       "      <td>0.0</td>\n",
       "      <td>0.0</td>\n",
       "      <td>1.0</td>\n",
       "      <td>0.0</td>\n",
       "      <td>1.0</td>\n",
       "      <td>0.0</td>\n",
       "      <td>0.0</td>\n",
       "      <td>0.0</td>\n",
       "      <td>1.0</td>\n",
       "      <td>0.0</td>\n",
       "    </tr>\n",
       "    <tr>\n",
       "      <th>fafdcd668e3743c1bb461111dcafc2a4</th>\n",
       "      <td>1.0</td>\n",
       "      <td>0.0</td>\n",
       "      <td>0.0</td>\n",
       "      <td>1.0</td>\n",
       "      <td>0.0</td>\n",
       "      <td>1.0</td>\n",
       "      <td>1.0</td>\n",
       "      <td>1.0</td>\n",
       "      <td>1.0</td>\n",
       "      <td>0.0</td>\n",
       "      <td>...</td>\n",
       "      <td>0.0</td>\n",
       "      <td>0.0</td>\n",
       "      <td>1.0</td>\n",
       "      <td>0.0</td>\n",
       "      <td>1.0</td>\n",
       "      <td>1.0</td>\n",
       "      <td>1.0</td>\n",
       "      <td>1.0</td>\n",
       "      <td>0.0</td>\n",
       "      <td>1.0</td>\n",
       "    </tr>\n",
       "  </tbody>\n",
       "</table>\n",
       "<p>10 rows × 16994 columns</p>\n",
       "</div>"
      ],
      "text/plain": [
       "person                            0009655768c64bdeb2e877511632db8f  \\\n",
       "value                                                                \n",
       "0b1e1539f2cc45b7b9fa7c272da2e1d7                               0.0   \n",
       "2298d6c36e964ae4a3e7e9706d1fb8c2                               0.0   \n",
       "2906b810c7d4411798c6938adc9daaa5                               1.0   \n",
       "3f207df678b143eea3cee63160fa8bed                               1.0   \n",
       "4d5c57ea9a6940dd891ad53e9dbe8da0                               0.0   \n",
       "5a8bc65990b245e5a138643cd4eb9837                               1.0   \n",
       "9b98b8c7a33c4b65b9aebfe6a799e6d9                               0.0   \n",
       "ae264e3637204a6fb9bb56bc8210ddfd                               0.0   \n",
       "f19421c1d4aa40978ebb69ca19b0e20d                               1.0   \n",
       "fafdcd668e3743c1bb461111dcafc2a4                               1.0   \n",
       "\n",
       "person                            00116118485d4dfda04fdbaba9a87b5c  \\\n",
       "value                                                                \n",
       "0b1e1539f2cc45b7b9fa7c272da2e1d7                               0.0   \n",
       "2298d6c36e964ae4a3e7e9706d1fb8c2                               0.0   \n",
       "2906b810c7d4411798c6938adc9daaa5                               0.0   \n",
       "3f207df678b143eea3cee63160fa8bed                               0.0   \n",
       "4d5c57ea9a6940dd891ad53e9dbe8da0                               0.0   \n",
       "5a8bc65990b245e5a138643cd4eb9837                               0.0   \n",
       "9b98b8c7a33c4b65b9aebfe6a799e6d9                               0.0   \n",
       "ae264e3637204a6fb9bb56bc8210ddfd                               0.0   \n",
       "f19421c1d4aa40978ebb69ca19b0e20d                               1.0   \n",
       "fafdcd668e3743c1bb461111dcafc2a4                               0.0   \n",
       "\n",
       "person                            0011e0d4e6b944f998e987f904e8c1e5  \\\n",
       "value                                                                \n",
       "0b1e1539f2cc45b7b9fa7c272da2e1d7                               1.0   \n",
       "2298d6c36e964ae4a3e7e9706d1fb8c2                               1.0   \n",
       "2906b810c7d4411798c6938adc9daaa5                               0.0   \n",
       "3f207df678b143eea3cee63160fa8bed                               1.0   \n",
       "4d5c57ea9a6940dd891ad53e9dbe8da0                               0.0   \n",
       "5a8bc65990b245e5a138643cd4eb9837                               1.0   \n",
       "9b98b8c7a33c4b65b9aebfe6a799e6d9                               1.0   \n",
       "ae264e3637204a6fb9bb56bc8210ddfd                               0.0   \n",
       "f19421c1d4aa40978ebb69ca19b0e20d                               0.0   \n",
       "fafdcd668e3743c1bb461111dcafc2a4                               0.0   \n",
       "\n",
       "person                            0020c2b971eb4e9188eac86d93036a77  \\\n",
       "value                                                                \n",
       "0b1e1539f2cc45b7b9fa7c272da2e1d7                               0.0   \n",
       "2298d6c36e964ae4a3e7e9706d1fb8c2                               0.0   \n",
       "2906b810c7d4411798c6938adc9daaa5                               0.0   \n",
       "3f207df678b143eea3cee63160fa8bed                               0.0   \n",
       "4d5c57ea9a6940dd891ad53e9dbe8da0                               1.0   \n",
       "5a8bc65990b245e5a138643cd4eb9837                               1.0   \n",
       "9b98b8c7a33c4b65b9aebfe6a799e6d9                               0.0   \n",
       "ae264e3637204a6fb9bb56bc8210ddfd                               1.0   \n",
       "f19421c1d4aa40978ebb69ca19b0e20d                               0.0   \n",
       "fafdcd668e3743c1bb461111dcafc2a4                               1.0   \n",
       "\n",
       "person                            0020ccbbb6d84e358d3414a3ff76cffd  \\\n",
       "value                                                                \n",
       "0b1e1539f2cc45b7b9fa7c272da2e1d7                               0.0   \n",
       "2298d6c36e964ae4a3e7e9706d1fb8c2                               1.0   \n",
       "2906b810c7d4411798c6938adc9daaa5                               0.0   \n",
       "3f207df678b143eea3cee63160fa8bed                               0.0   \n",
       "4d5c57ea9a6940dd891ad53e9dbe8da0                               0.0   \n",
       "5a8bc65990b245e5a138643cd4eb9837                               1.0   \n",
       "9b98b8c7a33c4b65b9aebfe6a799e6d9                               1.0   \n",
       "ae264e3637204a6fb9bb56bc8210ddfd                               0.0   \n",
       "f19421c1d4aa40978ebb69ca19b0e20d                               1.0   \n",
       "fafdcd668e3743c1bb461111dcafc2a4                               0.0   \n",
       "\n",
       "person                            003d66b6608740288d6cc97a6903f4f0  \\\n",
       "value                                                                \n",
       "0b1e1539f2cc45b7b9fa7c272da2e1d7                               1.0   \n",
       "2298d6c36e964ae4a3e7e9706d1fb8c2                               0.0   \n",
       "2906b810c7d4411798c6938adc9daaa5                               0.0   \n",
       "3f207df678b143eea3cee63160fa8bed                               1.0   \n",
       "4d5c57ea9a6940dd891ad53e9dbe8da0                               0.0   \n",
       "5a8bc65990b245e5a138643cd4eb9837                               1.0   \n",
       "9b98b8c7a33c4b65b9aebfe6a799e6d9                               0.0   \n",
       "ae264e3637204a6fb9bb56bc8210ddfd                               0.0   \n",
       "f19421c1d4aa40978ebb69ca19b0e20d                               0.0   \n",
       "fafdcd668e3743c1bb461111dcafc2a4                               1.0   \n",
       "\n",
       "person                            00426fe3ffde4c6b9cb9ad6d077a13ea  \\\n",
       "value                                                                \n",
       "0b1e1539f2cc45b7b9fa7c272da2e1d7                               1.0   \n",
       "2298d6c36e964ae4a3e7e9706d1fb8c2                               0.0   \n",
       "2906b810c7d4411798c6938adc9daaa5                               1.0   \n",
       "3f207df678b143eea3cee63160fa8bed                               0.0   \n",
       "4d5c57ea9a6940dd891ad53e9dbe8da0                               0.0   \n",
       "5a8bc65990b245e5a138643cd4eb9837                               1.0   \n",
       "9b98b8c7a33c4b65b9aebfe6a799e6d9                               0.0   \n",
       "ae264e3637204a6fb9bb56bc8210ddfd                               0.0   \n",
       "f19421c1d4aa40978ebb69ca19b0e20d                               0.0   \n",
       "fafdcd668e3743c1bb461111dcafc2a4                               1.0   \n",
       "\n",
       "person                            004b041fbfe44859945daa2c7f79ee64  \\\n",
       "value                                                                \n",
       "0b1e1539f2cc45b7b9fa7c272da2e1d7                               0.0   \n",
       "2298d6c36e964ae4a3e7e9706d1fb8c2                               0.0   \n",
       "2906b810c7d4411798c6938adc9daaa5                               0.0   \n",
       "3f207df678b143eea3cee63160fa8bed                               1.0   \n",
       "4d5c57ea9a6940dd891ad53e9dbe8da0                               0.0   \n",
       "5a8bc65990b245e5a138643cd4eb9837                               0.0   \n",
       "9b98b8c7a33c4b65b9aebfe6a799e6d9                               0.0   \n",
       "ae264e3637204a6fb9bb56bc8210ddfd                               0.0   \n",
       "f19421c1d4aa40978ebb69ca19b0e20d                               1.0   \n",
       "fafdcd668e3743c1bb461111dcafc2a4                               1.0   \n",
       "\n",
       "person                            004c5799adbf42868b9cff0396190900  \\\n",
       "value                                                                \n",
       "0b1e1539f2cc45b7b9fa7c272da2e1d7                               0.0   \n",
       "2298d6c36e964ae4a3e7e9706d1fb8c2                               0.0   \n",
       "2906b810c7d4411798c6938adc9daaa5                               0.0   \n",
       "3f207df678b143eea3cee63160fa8bed                               0.0   \n",
       "4d5c57ea9a6940dd891ad53e9dbe8da0                               0.0   \n",
       "5a8bc65990b245e5a138643cd4eb9837                               0.0   \n",
       "9b98b8c7a33c4b65b9aebfe6a799e6d9                               0.0   \n",
       "ae264e3637204a6fb9bb56bc8210ddfd                               1.0   \n",
       "f19421c1d4aa40978ebb69ca19b0e20d                               1.0   \n",
       "fafdcd668e3743c1bb461111dcafc2a4                               1.0   \n",
       "\n",
       "person                            005500a7188546ff8a767329a2f7c76a  ...  \\\n",
       "value                                                               ...   \n",
       "0b1e1539f2cc45b7b9fa7c272da2e1d7                               0.0  ...   \n",
       "2298d6c36e964ae4a3e7e9706d1fb8c2                               0.0  ...   \n",
       "2906b810c7d4411798c6938adc9daaa5                               1.0  ...   \n",
       "3f207df678b143eea3cee63160fa8bed                               0.0  ...   \n",
       "4d5c57ea9a6940dd891ad53e9dbe8da0                               0.0  ...   \n",
       "5a8bc65990b245e5a138643cd4eb9837                               0.0  ...   \n",
       "9b98b8c7a33c4b65b9aebfe6a799e6d9                               1.0  ...   \n",
       "ae264e3637204a6fb9bb56bc8210ddfd                               1.0  ...   \n",
       "f19421c1d4aa40978ebb69ca19b0e20d                               0.0  ...   \n",
       "fafdcd668e3743c1bb461111dcafc2a4                               0.0  ...   \n",
       "\n",
       "person                            ffecb1f8543f4bf7bade023de366d6bf  \\\n",
       "value                                                                \n",
       "0b1e1539f2cc45b7b9fa7c272da2e1d7                               1.0   \n",
       "2298d6c36e964ae4a3e7e9706d1fb8c2                               0.0   \n",
       "2906b810c7d4411798c6938adc9daaa5                               1.0   \n",
       "3f207df678b143eea3cee63160fa8bed                               0.0   \n",
       "4d5c57ea9a6940dd891ad53e9dbe8da0                               0.0   \n",
       "5a8bc65990b245e5a138643cd4eb9837                               1.0   \n",
       "9b98b8c7a33c4b65b9aebfe6a799e6d9                               1.0   \n",
       "ae264e3637204a6fb9bb56bc8210ddfd                               0.0   \n",
       "f19421c1d4aa40978ebb69ca19b0e20d                               0.0   \n",
       "fafdcd668e3743c1bb461111dcafc2a4                               0.0   \n",
       "\n",
       "person                            ffed75d3abc64b488982f50ed12878b5  \\\n",
       "value                                                                \n",
       "0b1e1539f2cc45b7b9fa7c272da2e1d7                               0.0   \n",
       "2298d6c36e964ae4a3e7e9706d1fb8c2                               0.0   \n",
       "2906b810c7d4411798c6938adc9daaa5                               0.0   \n",
       "3f207df678b143eea3cee63160fa8bed                               0.0   \n",
       "4d5c57ea9a6940dd891ad53e9dbe8da0                               1.0   \n",
       "5a8bc65990b245e5a138643cd4eb9837                               0.0   \n",
       "9b98b8c7a33c4b65b9aebfe6a799e6d9                               0.0   \n",
       "ae264e3637204a6fb9bb56bc8210ddfd                               1.0   \n",
       "f19421c1d4aa40978ebb69ca19b0e20d                               0.0   \n",
       "fafdcd668e3743c1bb461111dcafc2a4                               0.0   \n",
       "\n",
       "person                            ffede3b700ac41d6a266fa1ba74b4f16  \\\n",
       "value                                                                \n",
       "0b1e1539f2cc45b7b9fa7c272da2e1d7                               1.0   \n",
       "2298d6c36e964ae4a3e7e9706d1fb8c2                               0.0   \n",
       "2906b810c7d4411798c6938adc9daaa5                               0.0   \n",
       "3f207df678b143eea3cee63160fa8bed                               0.0   \n",
       "4d5c57ea9a6940dd891ad53e9dbe8da0                               1.0   \n",
       "5a8bc65990b245e5a138643cd4eb9837                               0.0   \n",
       "9b98b8c7a33c4b65b9aebfe6a799e6d9                               0.0   \n",
       "ae264e3637204a6fb9bb56bc8210ddfd                               0.0   \n",
       "f19421c1d4aa40978ebb69ca19b0e20d                               1.0   \n",
       "fafdcd668e3743c1bb461111dcafc2a4                               1.0   \n",
       "\n",
       "person                            fff0f0aac6c547b9b263080f09a5586a  \\\n",
       "value                                                                \n",
       "0b1e1539f2cc45b7b9fa7c272da2e1d7                               0.0   \n",
       "2298d6c36e964ae4a3e7e9706d1fb8c2                               0.0   \n",
       "2906b810c7d4411798c6938adc9daaa5                               0.0   \n",
       "3f207df678b143eea3cee63160fa8bed                               1.0   \n",
       "4d5c57ea9a6940dd891ad53e9dbe8da0                               1.0   \n",
       "5a8bc65990b245e5a138643cd4eb9837                               0.0   \n",
       "9b98b8c7a33c4b65b9aebfe6a799e6d9                               0.0   \n",
       "ae264e3637204a6fb9bb56bc8210ddfd                               0.0   \n",
       "f19421c1d4aa40978ebb69ca19b0e20d                               0.0   \n",
       "fafdcd668e3743c1bb461111dcafc2a4                               0.0   \n",
       "\n",
       "person                            fff29fb549084123bd046dbc5ceb4faa  \\\n",
       "value                                                                \n",
       "0b1e1539f2cc45b7b9fa7c272da2e1d7                               0.0   \n",
       "2298d6c36e964ae4a3e7e9706d1fb8c2                               0.0   \n",
       "2906b810c7d4411798c6938adc9daaa5                               0.0   \n",
       "3f207df678b143eea3cee63160fa8bed                               0.0   \n",
       "4d5c57ea9a6940dd891ad53e9dbe8da0                               1.0   \n",
       "5a8bc65990b245e5a138643cd4eb9837                               0.0   \n",
       "9b98b8c7a33c4b65b9aebfe6a799e6d9                               0.0   \n",
       "ae264e3637204a6fb9bb56bc8210ddfd                               1.0   \n",
       "f19421c1d4aa40978ebb69ca19b0e20d                               1.0   \n",
       "fafdcd668e3743c1bb461111dcafc2a4                               1.0   \n",
       "\n",
       "person                            fff3ba4757bd42088c044ca26d73817a  \\\n",
       "value                                                                \n",
       "0b1e1539f2cc45b7b9fa7c272da2e1d7                               0.0   \n",
       "2298d6c36e964ae4a3e7e9706d1fb8c2                               0.0   \n",
       "2906b810c7d4411798c6938adc9daaa5                               1.0   \n",
       "3f207df678b143eea3cee63160fa8bed                               0.0   \n",
       "4d5c57ea9a6940dd891ad53e9dbe8da0                               0.0   \n",
       "5a8bc65990b245e5a138643cd4eb9837                               1.0   \n",
       "9b98b8c7a33c4b65b9aebfe6a799e6d9                               1.0   \n",
       "ae264e3637204a6fb9bb56bc8210ddfd                               0.0   \n",
       "f19421c1d4aa40978ebb69ca19b0e20d                               0.0   \n",
       "fafdcd668e3743c1bb461111dcafc2a4                               1.0   \n",
       "\n",
       "person                            fff7576017104bcc8677a8d63322b5e1  \\\n",
       "value                                                                \n",
       "0b1e1539f2cc45b7b9fa7c272da2e1d7                               0.0   \n",
       "2298d6c36e964ae4a3e7e9706d1fb8c2                               0.0   \n",
       "2906b810c7d4411798c6938adc9daaa5                               0.0   \n",
       "3f207df678b143eea3cee63160fa8bed                               0.0   \n",
       "4d5c57ea9a6940dd891ad53e9dbe8da0                               1.0   \n",
       "5a8bc65990b245e5a138643cd4eb9837                               0.0   \n",
       "9b98b8c7a33c4b65b9aebfe6a799e6d9                               1.0   \n",
       "ae264e3637204a6fb9bb56bc8210ddfd                               1.0   \n",
       "f19421c1d4aa40978ebb69ca19b0e20d                               0.0   \n",
       "fafdcd668e3743c1bb461111dcafc2a4                               1.0   \n",
       "\n",
       "person                            fff8957ea8b240a6b5e634b6ee8eafcf  \\\n",
       "value                                                                \n",
       "0b1e1539f2cc45b7b9fa7c272da2e1d7                               0.0   \n",
       "2298d6c36e964ae4a3e7e9706d1fb8c2                               0.0   \n",
       "2906b810c7d4411798c6938adc9daaa5                               0.0   \n",
       "3f207df678b143eea3cee63160fa8bed                               1.0   \n",
       "4d5c57ea9a6940dd891ad53e9dbe8da0                               1.0   \n",
       "5a8bc65990b245e5a138643cd4eb9837                               0.0   \n",
       "9b98b8c7a33c4b65b9aebfe6a799e6d9                               0.0   \n",
       "ae264e3637204a6fb9bb56bc8210ddfd                               0.0   \n",
       "f19421c1d4aa40978ebb69ca19b0e20d                               0.0   \n",
       "fafdcd668e3743c1bb461111dcafc2a4                               1.0   \n",
       "\n",
       "person                            fffad4f4828548d1b5583907f2e9906b  \\\n",
       "value                                                                \n",
       "0b1e1539f2cc45b7b9fa7c272da2e1d7                               0.0   \n",
       "2298d6c36e964ae4a3e7e9706d1fb8c2                               0.0   \n",
       "2906b810c7d4411798c6938adc9daaa5                               0.0   \n",
       "3f207df678b143eea3cee63160fa8bed                               0.0   \n",
       "4d5c57ea9a6940dd891ad53e9dbe8da0                               0.0   \n",
       "5a8bc65990b245e5a138643cd4eb9837                               1.0   \n",
       "9b98b8c7a33c4b65b9aebfe6a799e6d9                               1.0   \n",
       "ae264e3637204a6fb9bb56bc8210ddfd                               0.0   \n",
       "f19421c1d4aa40978ebb69ca19b0e20d                               1.0   \n",
       "fafdcd668e3743c1bb461111dcafc2a4                               0.0   \n",
       "\n",
       "person                            ffff82501cea40309d5fdd7edcca4a07  \n",
       "value                                                               \n",
       "0b1e1539f2cc45b7b9fa7c272da2e1d7                               1.0  \n",
       "2298d6c36e964ae4a3e7e9706d1fb8c2                               0.0  \n",
       "2906b810c7d4411798c6938adc9daaa5                               1.0  \n",
       "3f207df678b143eea3cee63160fa8bed                               0.0  \n",
       "4d5c57ea9a6940dd891ad53e9dbe8da0                               0.0  \n",
       "5a8bc65990b245e5a138643cd4eb9837                               0.0  \n",
       "9b98b8c7a33c4b65b9aebfe6a799e6d9                               1.0  \n",
       "ae264e3637204a6fb9bb56bc8210ddfd                               0.0  \n",
       "f19421c1d4aa40978ebb69ca19b0e20d                               0.0  \n",
       "fafdcd668e3743c1bb461111dcafc2a4                               1.0  \n",
       "\n",
       "[10 rows x 16994 columns]"
      ]
     },
     "execution_count": 239,
     "metadata": {},
     "output_type": "execute_result"
    }
   ],
   "source": [
    "user_item"
   ]
  },
  {
   "cell_type": "code",
   "execution_count": 240,
   "metadata": {},
   "outputs": [],
   "source": [
    "\n",
    "def create_user_item_matrix(df = offer_data):\n",
    "    '''\n",
    "    INPUT:\n",
    "    df - pandas dataframe with person, event, value... columns\n",
    "    \n",
    "    OUTPUT:\n",
    "    user_item - user item matrix \n",
    "    \n",
    "    Description:\n",
    "    Return a matrix with user ids as columns and value on the rows with 1 values where a user interacted with \n",
    "    an article and a 0 otherwise\n",
    "    '''\n",
    "    \n",
    "    user_item = offer_data.groupby(['value','person'])['person'].count().unstack().fillna(0)\n",
    "    user_item.iloc[user_item > 0] = 1\n",
    "    return user_item # return the user_item matrix \n",
    "\n",
    "user_item = create_user_item_matrix()"
   ]
  },
  {
   "cell_type": "code",
   "execution_count": 241,
   "metadata": {},
   "outputs": [
    {
     "data": {
      "text/html": [
       "<div>\n",
       "<style scoped>\n",
       "    .dataframe tbody tr th:only-of-type {\n",
       "        vertical-align: middle;\n",
       "    }\n",
       "\n",
       "    .dataframe tbody tr th {\n",
       "        vertical-align: top;\n",
       "    }\n",
       "\n",
       "    .dataframe thead th {\n",
       "        text-align: right;\n",
       "    }\n",
       "</style>\n",
       "<table border=\"1\" class=\"dataframe\">\n",
       "  <thead>\n",
       "    <tr style=\"text-align: right;\">\n",
       "      <th>person</th>\n",
       "      <th>0009655768c64bdeb2e877511632db8f</th>\n",
       "      <th>00116118485d4dfda04fdbaba9a87b5c</th>\n",
       "      <th>0011e0d4e6b944f998e987f904e8c1e5</th>\n",
       "      <th>0020c2b971eb4e9188eac86d93036a77</th>\n",
       "      <th>0020ccbbb6d84e358d3414a3ff76cffd</th>\n",
       "      <th>003d66b6608740288d6cc97a6903f4f0</th>\n",
       "      <th>00426fe3ffde4c6b9cb9ad6d077a13ea</th>\n",
       "      <th>004b041fbfe44859945daa2c7f79ee64</th>\n",
       "      <th>004c5799adbf42868b9cff0396190900</th>\n",
       "      <th>005500a7188546ff8a767329a2f7c76a</th>\n",
       "      <th>...</th>\n",
       "      <th>ffecb1f8543f4bf7bade023de366d6bf</th>\n",
       "      <th>ffed75d3abc64b488982f50ed12878b5</th>\n",
       "      <th>ffede3b700ac41d6a266fa1ba74b4f16</th>\n",
       "      <th>fff0f0aac6c547b9b263080f09a5586a</th>\n",
       "      <th>fff29fb549084123bd046dbc5ceb4faa</th>\n",
       "      <th>fff3ba4757bd42088c044ca26d73817a</th>\n",
       "      <th>fff7576017104bcc8677a8d63322b5e1</th>\n",
       "      <th>fff8957ea8b240a6b5e634b6ee8eafcf</th>\n",
       "      <th>fffad4f4828548d1b5583907f2e9906b</th>\n",
       "      <th>ffff82501cea40309d5fdd7edcca4a07</th>\n",
       "    </tr>\n",
       "    <tr>\n",
       "      <th>value</th>\n",
       "      <th></th>\n",
       "      <th></th>\n",
       "      <th></th>\n",
       "      <th></th>\n",
       "      <th></th>\n",
       "      <th></th>\n",
       "      <th></th>\n",
       "      <th></th>\n",
       "      <th></th>\n",
       "      <th></th>\n",
       "      <th></th>\n",
       "      <th></th>\n",
       "      <th></th>\n",
       "      <th></th>\n",
       "      <th></th>\n",
       "      <th></th>\n",
       "      <th></th>\n",
       "      <th></th>\n",
       "      <th></th>\n",
       "      <th></th>\n",
       "      <th></th>\n",
       "    </tr>\n",
       "  </thead>\n",
       "  <tbody>\n",
       "    <tr>\n",
       "      <th>0b1e1539f2cc45b7b9fa7c272da2e1d7</th>\n",
       "      <td>0.0</td>\n",
       "      <td>0.0</td>\n",
       "      <td>1.0</td>\n",
       "      <td>0.0</td>\n",
       "      <td>0.0</td>\n",
       "      <td>1.0</td>\n",
       "      <td>1.0</td>\n",
       "      <td>0.0</td>\n",
       "      <td>0.0</td>\n",
       "      <td>0.0</td>\n",
       "      <td>...</td>\n",
       "      <td>1.0</td>\n",
       "      <td>0.0</td>\n",
       "      <td>1.0</td>\n",
       "      <td>0.0</td>\n",
       "      <td>0.0</td>\n",
       "      <td>0.0</td>\n",
       "      <td>0.0</td>\n",
       "      <td>0.0</td>\n",
       "      <td>0.0</td>\n",
       "      <td>1.0</td>\n",
       "    </tr>\n",
       "    <tr>\n",
       "      <th>2298d6c36e964ae4a3e7e9706d1fb8c2</th>\n",
       "      <td>0.0</td>\n",
       "      <td>0.0</td>\n",
       "      <td>1.0</td>\n",
       "      <td>0.0</td>\n",
       "      <td>1.0</td>\n",
       "      <td>0.0</td>\n",
       "      <td>0.0</td>\n",
       "      <td>0.0</td>\n",
       "      <td>0.0</td>\n",
       "      <td>0.0</td>\n",
       "      <td>...</td>\n",
       "      <td>0.0</td>\n",
       "      <td>0.0</td>\n",
       "      <td>0.0</td>\n",
       "      <td>0.0</td>\n",
       "      <td>0.0</td>\n",
       "      <td>0.0</td>\n",
       "      <td>0.0</td>\n",
       "      <td>0.0</td>\n",
       "      <td>0.0</td>\n",
       "      <td>0.0</td>\n",
       "    </tr>\n",
       "    <tr>\n",
       "      <th>2906b810c7d4411798c6938adc9daaa5</th>\n",
       "      <td>1.0</td>\n",
       "      <td>0.0</td>\n",
       "      <td>0.0</td>\n",
       "      <td>0.0</td>\n",
       "      <td>0.0</td>\n",
       "      <td>0.0</td>\n",
       "      <td>1.0</td>\n",
       "      <td>0.0</td>\n",
       "      <td>0.0</td>\n",
       "      <td>1.0</td>\n",
       "      <td>...</td>\n",
       "      <td>1.0</td>\n",
       "      <td>0.0</td>\n",
       "      <td>0.0</td>\n",
       "      <td>0.0</td>\n",
       "      <td>0.0</td>\n",
       "      <td>1.0</td>\n",
       "      <td>0.0</td>\n",
       "      <td>0.0</td>\n",
       "      <td>0.0</td>\n",
       "      <td>1.0</td>\n",
       "    </tr>\n",
       "    <tr>\n",
       "      <th>3f207df678b143eea3cee63160fa8bed</th>\n",
       "      <td>1.0</td>\n",
       "      <td>0.0</td>\n",
       "      <td>1.0</td>\n",
       "      <td>0.0</td>\n",
       "      <td>0.0</td>\n",
       "      <td>1.0</td>\n",
       "      <td>0.0</td>\n",
       "      <td>1.0</td>\n",
       "      <td>0.0</td>\n",
       "      <td>0.0</td>\n",
       "      <td>...</td>\n",
       "      <td>0.0</td>\n",
       "      <td>0.0</td>\n",
       "      <td>0.0</td>\n",
       "      <td>1.0</td>\n",
       "      <td>0.0</td>\n",
       "      <td>0.0</td>\n",
       "      <td>0.0</td>\n",
       "      <td>1.0</td>\n",
       "      <td>0.0</td>\n",
       "      <td>0.0</td>\n",
       "    </tr>\n",
       "    <tr>\n",
       "      <th>4d5c57ea9a6940dd891ad53e9dbe8da0</th>\n",
       "      <td>0.0</td>\n",
       "      <td>0.0</td>\n",
       "      <td>0.0</td>\n",
       "      <td>1.0</td>\n",
       "      <td>0.0</td>\n",
       "      <td>0.0</td>\n",
       "      <td>0.0</td>\n",
       "      <td>0.0</td>\n",
       "      <td>0.0</td>\n",
       "      <td>0.0</td>\n",
       "      <td>...</td>\n",
       "      <td>0.0</td>\n",
       "      <td>1.0</td>\n",
       "      <td>1.0</td>\n",
       "      <td>1.0</td>\n",
       "      <td>1.0</td>\n",
       "      <td>0.0</td>\n",
       "      <td>1.0</td>\n",
       "      <td>1.0</td>\n",
       "      <td>0.0</td>\n",
       "      <td>0.0</td>\n",
       "    </tr>\n",
       "    <tr>\n",
       "      <th>5a8bc65990b245e5a138643cd4eb9837</th>\n",
       "      <td>1.0</td>\n",
       "      <td>0.0</td>\n",
       "      <td>1.0</td>\n",
       "      <td>1.0</td>\n",
       "      <td>1.0</td>\n",
       "      <td>1.0</td>\n",
       "      <td>1.0</td>\n",
       "      <td>0.0</td>\n",
       "      <td>0.0</td>\n",
       "      <td>0.0</td>\n",
       "      <td>...</td>\n",
       "      <td>1.0</td>\n",
       "      <td>0.0</td>\n",
       "      <td>0.0</td>\n",
       "      <td>0.0</td>\n",
       "      <td>0.0</td>\n",
       "      <td>1.0</td>\n",
       "      <td>0.0</td>\n",
       "      <td>0.0</td>\n",
       "      <td>1.0</td>\n",
       "      <td>0.0</td>\n",
       "    </tr>\n",
       "    <tr>\n",
       "      <th>9b98b8c7a33c4b65b9aebfe6a799e6d9</th>\n",
       "      <td>0.0</td>\n",
       "      <td>0.0</td>\n",
       "      <td>1.0</td>\n",
       "      <td>0.0</td>\n",
       "      <td>1.0</td>\n",
       "      <td>0.0</td>\n",
       "      <td>0.0</td>\n",
       "      <td>0.0</td>\n",
       "      <td>0.0</td>\n",
       "      <td>1.0</td>\n",
       "      <td>...</td>\n",
       "      <td>1.0</td>\n",
       "      <td>0.0</td>\n",
       "      <td>0.0</td>\n",
       "      <td>0.0</td>\n",
       "      <td>0.0</td>\n",
       "      <td>1.0</td>\n",
       "      <td>1.0</td>\n",
       "      <td>0.0</td>\n",
       "      <td>1.0</td>\n",
       "      <td>1.0</td>\n",
       "    </tr>\n",
       "    <tr>\n",
       "      <th>ae264e3637204a6fb9bb56bc8210ddfd</th>\n",
       "      <td>0.0</td>\n",
       "      <td>0.0</td>\n",
       "      <td>0.0</td>\n",
       "      <td>1.0</td>\n",
       "      <td>0.0</td>\n",
       "      <td>0.0</td>\n",
       "      <td>0.0</td>\n",
       "      <td>0.0</td>\n",
       "      <td>1.0</td>\n",
       "      <td>1.0</td>\n",
       "      <td>...</td>\n",
       "      <td>0.0</td>\n",
       "      <td>1.0</td>\n",
       "      <td>0.0</td>\n",
       "      <td>0.0</td>\n",
       "      <td>1.0</td>\n",
       "      <td>0.0</td>\n",
       "      <td>1.0</td>\n",
       "      <td>0.0</td>\n",
       "      <td>0.0</td>\n",
       "      <td>0.0</td>\n",
       "    </tr>\n",
       "    <tr>\n",
       "      <th>f19421c1d4aa40978ebb69ca19b0e20d</th>\n",
       "      <td>1.0</td>\n",
       "      <td>1.0</td>\n",
       "      <td>0.0</td>\n",
       "      <td>0.0</td>\n",
       "      <td>1.0</td>\n",
       "      <td>0.0</td>\n",
       "      <td>0.0</td>\n",
       "      <td>1.0</td>\n",
       "      <td>1.0</td>\n",
       "      <td>0.0</td>\n",
       "      <td>...</td>\n",
       "      <td>0.0</td>\n",
       "      <td>0.0</td>\n",
       "      <td>1.0</td>\n",
       "      <td>0.0</td>\n",
       "      <td>1.0</td>\n",
       "      <td>0.0</td>\n",
       "      <td>0.0</td>\n",
       "      <td>0.0</td>\n",
       "      <td>1.0</td>\n",
       "      <td>0.0</td>\n",
       "    </tr>\n",
       "    <tr>\n",
       "      <th>fafdcd668e3743c1bb461111dcafc2a4</th>\n",
       "      <td>1.0</td>\n",
       "      <td>0.0</td>\n",
       "      <td>0.0</td>\n",
       "      <td>1.0</td>\n",
       "      <td>0.0</td>\n",
       "      <td>1.0</td>\n",
       "      <td>1.0</td>\n",
       "      <td>1.0</td>\n",
       "      <td>1.0</td>\n",
       "      <td>0.0</td>\n",
       "      <td>...</td>\n",
       "      <td>0.0</td>\n",
       "      <td>0.0</td>\n",
       "      <td>1.0</td>\n",
       "      <td>0.0</td>\n",
       "      <td>1.0</td>\n",
       "      <td>1.0</td>\n",
       "      <td>1.0</td>\n",
       "      <td>1.0</td>\n",
       "      <td>0.0</td>\n",
       "      <td>1.0</td>\n",
       "    </tr>\n",
       "  </tbody>\n",
       "</table>\n",
       "<p>10 rows × 16994 columns</p>\n",
       "</div>"
      ],
      "text/plain": [
       "person                            0009655768c64bdeb2e877511632db8f  \\\n",
       "value                                                                \n",
       "0b1e1539f2cc45b7b9fa7c272da2e1d7                               0.0   \n",
       "2298d6c36e964ae4a3e7e9706d1fb8c2                               0.0   \n",
       "2906b810c7d4411798c6938adc9daaa5                               1.0   \n",
       "3f207df678b143eea3cee63160fa8bed                               1.0   \n",
       "4d5c57ea9a6940dd891ad53e9dbe8da0                               0.0   \n",
       "5a8bc65990b245e5a138643cd4eb9837                               1.0   \n",
       "9b98b8c7a33c4b65b9aebfe6a799e6d9                               0.0   \n",
       "ae264e3637204a6fb9bb56bc8210ddfd                               0.0   \n",
       "f19421c1d4aa40978ebb69ca19b0e20d                               1.0   \n",
       "fafdcd668e3743c1bb461111dcafc2a4                               1.0   \n",
       "\n",
       "person                            00116118485d4dfda04fdbaba9a87b5c  \\\n",
       "value                                                                \n",
       "0b1e1539f2cc45b7b9fa7c272da2e1d7                               0.0   \n",
       "2298d6c36e964ae4a3e7e9706d1fb8c2                               0.0   \n",
       "2906b810c7d4411798c6938adc9daaa5                               0.0   \n",
       "3f207df678b143eea3cee63160fa8bed                               0.0   \n",
       "4d5c57ea9a6940dd891ad53e9dbe8da0                               0.0   \n",
       "5a8bc65990b245e5a138643cd4eb9837                               0.0   \n",
       "9b98b8c7a33c4b65b9aebfe6a799e6d9                               0.0   \n",
       "ae264e3637204a6fb9bb56bc8210ddfd                               0.0   \n",
       "f19421c1d4aa40978ebb69ca19b0e20d                               1.0   \n",
       "fafdcd668e3743c1bb461111dcafc2a4                               0.0   \n",
       "\n",
       "person                            0011e0d4e6b944f998e987f904e8c1e5  \\\n",
       "value                                                                \n",
       "0b1e1539f2cc45b7b9fa7c272da2e1d7                               1.0   \n",
       "2298d6c36e964ae4a3e7e9706d1fb8c2                               1.0   \n",
       "2906b810c7d4411798c6938adc9daaa5                               0.0   \n",
       "3f207df678b143eea3cee63160fa8bed                               1.0   \n",
       "4d5c57ea9a6940dd891ad53e9dbe8da0                               0.0   \n",
       "5a8bc65990b245e5a138643cd4eb9837                               1.0   \n",
       "9b98b8c7a33c4b65b9aebfe6a799e6d9                               1.0   \n",
       "ae264e3637204a6fb9bb56bc8210ddfd                               0.0   \n",
       "f19421c1d4aa40978ebb69ca19b0e20d                               0.0   \n",
       "fafdcd668e3743c1bb461111dcafc2a4                               0.0   \n",
       "\n",
       "person                            0020c2b971eb4e9188eac86d93036a77  \\\n",
       "value                                                                \n",
       "0b1e1539f2cc45b7b9fa7c272da2e1d7                               0.0   \n",
       "2298d6c36e964ae4a3e7e9706d1fb8c2                               0.0   \n",
       "2906b810c7d4411798c6938adc9daaa5                               0.0   \n",
       "3f207df678b143eea3cee63160fa8bed                               0.0   \n",
       "4d5c57ea9a6940dd891ad53e9dbe8da0                               1.0   \n",
       "5a8bc65990b245e5a138643cd4eb9837                               1.0   \n",
       "9b98b8c7a33c4b65b9aebfe6a799e6d9                               0.0   \n",
       "ae264e3637204a6fb9bb56bc8210ddfd                               1.0   \n",
       "f19421c1d4aa40978ebb69ca19b0e20d                               0.0   \n",
       "fafdcd668e3743c1bb461111dcafc2a4                               1.0   \n",
       "\n",
       "person                            0020ccbbb6d84e358d3414a3ff76cffd  \\\n",
       "value                                                                \n",
       "0b1e1539f2cc45b7b9fa7c272da2e1d7                               0.0   \n",
       "2298d6c36e964ae4a3e7e9706d1fb8c2                               1.0   \n",
       "2906b810c7d4411798c6938adc9daaa5                               0.0   \n",
       "3f207df678b143eea3cee63160fa8bed                               0.0   \n",
       "4d5c57ea9a6940dd891ad53e9dbe8da0                               0.0   \n",
       "5a8bc65990b245e5a138643cd4eb9837                               1.0   \n",
       "9b98b8c7a33c4b65b9aebfe6a799e6d9                               1.0   \n",
       "ae264e3637204a6fb9bb56bc8210ddfd                               0.0   \n",
       "f19421c1d4aa40978ebb69ca19b0e20d                               1.0   \n",
       "fafdcd668e3743c1bb461111dcafc2a4                               0.0   \n",
       "\n",
       "person                            003d66b6608740288d6cc97a6903f4f0  \\\n",
       "value                                                                \n",
       "0b1e1539f2cc45b7b9fa7c272da2e1d7                               1.0   \n",
       "2298d6c36e964ae4a3e7e9706d1fb8c2                               0.0   \n",
       "2906b810c7d4411798c6938adc9daaa5                               0.0   \n",
       "3f207df678b143eea3cee63160fa8bed                               1.0   \n",
       "4d5c57ea9a6940dd891ad53e9dbe8da0                               0.0   \n",
       "5a8bc65990b245e5a138643cd4eb9837                               1.0   \n",
       "9b98b8c7a33c4b65b9aebfe6a799e6d9                               0.0   \n",
       "ae264e3637204a6fb9bb56bc8210ddfd                               0.0   \n",
       "f19421c1d4aa40978ebb69ca19b0e20d                               0.0   \n",
       "fafdcd668e3743c1bb461111dcafc2a4                               1.0   \n",
       "\n",
       "person                            00426fe3ffde4c6b9cb9ad6d077a13ea  \\\n",
       "value                                                                \n",
       "0b1e1539f2cc45b7b9fa7c272da2e1d7                               1.0   \n",
       "2298d6c36e964ae4a3e7e9706d1fb8c2                               0.0   \n",
       "2906b810c7d4411798c6938adc9daaa5                               1.0   \n",
       "3f207df678b143eea3cee63160fa8bed                               0.0   \n",
       "4d5c57ea9a6940dd891ad53e9dbe8da0                               0.0   \n",
       "5a8bc65990b245e5a138643cd4eb9837                               1.0   \n",
       "9b98b8c7a33c4b65b9aebfe6a799e6d9                               0.0   \n",
       "ae264e3637204a6fb9bb56bc8210ddfd                               0.0   \n",
       "f19421c1d4aa40978ebb69ca19b0e20d                               0.0   \n",
       "fafdcd668e3743c1bb461111dcafc2a4                               1.0   \n",
       "\n",
       "person                            004b041fbfe44859945daa2c7f79ee64  \\\n",
       "value                                                                \n",
       "0b1e1539f2cc45b7b9fa7c272da2e1d7                               0.0   \n",
       "2298d6c36e964ae4a3e7e9706d1fb8c2                               0.0   \n",
       "2906b810c7d4411798c6938adc9daaa5                               0.0   \n",
       "3f207df678b143eea3cee63160fa8bed                               1.0   \n",
       "4d5c57ea9a6940dd891ad53e9dbe8da0                               0.0   \n",
       "5a8bc65990b245e5a138643cd4eb9837                               0.0   \n",
       "9b98b8c7a33c4b65b9aebfe6a799e6d9                               0.0   \n",
       "ae264e3637204a6fb9bb56bc8210ddfd                               0.0   \n",
       "f19421c1d4aa40978ebb69ca19b0e20d                               1.0   \n",
       "fafdcd668e3743c1bb461111dcafc2a4                               1.0   \n",
       "\n",
       "person                            004c5799adbf42868b9cff0396190900  \\\n",
       "value                                                                \n",
       "0b1e1539f2cc45b7b9fa7c272da2e1d7                               0.0   \n",
       "2298d6c36e964ae4a3e7e9706d1fb8c2                               0.0   \n",
       "2906b810c7d4411798c6938adc9daaa5                               0.0   \n",
       "3f207df678b143eea3cee63160fa8bed                               0.0   \n",
       "4d5c57ea9a6940dd891ad53e9dbe8da0                               0.0   \n",
       "5a8bc65990b245e5a138643cd4eb9837                               0.0   \n",
       "9b98b8c7a33c4b65b9aebfe6a799e6d9                               0.0   \n",
       "ae264e3637204a6fb9bb56bc8210ddfd                               1.0   \n",
       "f19421c1d4aa40978ebb69ca19b0e20d                               1.0   \n",
       "fafdcd668e3743c1bb461111dcafc2a4                               1.0   \n",
       "\n",
       "person                            005500a7188546ff8a767329a2f7c76a  ...  \\\n",
       "value                                                               ...   \n",
       "0b1e1539f2cc45b7b9fa7c272da2e1d7                               0.0  ...   \n",
       "2298d6c36e964ae4a3e7e9706d1fb8c2                               0.0  ...   \n",
       "2906b810c7d4411798c6938adc9daaa5                               1.0  ...   \n",
       "3f207df678b143eea3cee63160fa8bed                               0.0  ...   \n",
       "4d5c57ea9a6940dd891ad53e9dbe8da0                               0.0  ...   \n",
       "5a8bc65990b245e5a138643cd4eb9837                               0.0  ...   \n",
       "9b98b8c7a33c4b65b9aebfe6a799e6d9                               1.0  ...   \n",
       "ae264e3637204a6fb9bb56bc8210ddfd                               1.0  ...   \n",
       "f19421c1d4aa40978ebb69ca19b0e20d                               0.0  ...   \n",
       "fafdcd668e3743c1bb461111dcafc2a4                               0.0  ...   \n",
       "\n",
       "person                            ffecb1f8543f4bf7bade023de366d6bf  \\\n",
       "value                                                                \n",
       "0b1e1539f2cc45b7b9fa7c272da2e1d7                               1.0   \n",
       "2298d6c36e964ae4a3e7e9706d1fb8c2                               0.0   \n",
       "2906b810c7d4411798c6938adc9daaa5                               1.0   \n",
       "3f207df678b143eea3cee63160fa8bed                               0.0   \n",
       "4d5c57ea9a6940dd891ad53e9dbe8da0                               0.0   \n",
       "5a8bc65990b245e5a138643cd4eb9837                               1.0   \n",
       "9b98b8c7a33c4b65b9aebfe6a799e6d9                               1.0   \n",
       "ae264e3637204a6fb9bb56bc8210ddfd                               0.0   \n",
       "f19421c1d4aa40978ebb69ca19b0e20d                               0.0   \n",
       "fafdcd668e3743c1bb461111dcafc2a4                               0.0   \n",
       "\n",
       "person                            ffed75d3abc64b488982f50ed12878b5  \\\n",
       "value                                                                \n",
       "0b1e1539f2cc45b7b9fa7c272da2e1d7                               0.0   \n",
       "2298d6c36e964ae4a3e7e9706d1fb8c2                               0.0   \n",
       "2906b810c7d4411798c6938adc9daaa5                               0.0   \n",
       "3f207df678b143eea3cee63160fa8bed                               0.0   \n",
       "4d5c57ea9a6940dd891ad53e9dbe8da0                               1.0   \n",
       "5a8bc65990b245e5a138643cd4eb9837                               0.0   \n",
       "9b98b8c7a33c4b65b9aebfe6a799e6d9                               0.0   \n",
       "ae264e3637204a6fb9bb56bc8210ddfd                               1.0   \n",
       "f19421c1d4aa40978ebb69ca19b0e20d                               0.0   \n",
       "fafdcd668e3743c1bb461111dcafc2a4                               0.0   \n",
       "\n",
       "person                            ffede3b700ac41d6a266fa1ba74b4f16  \\\n",
       "value                                                                \n",
       "0b1e1539f2cc45b7b9fa7c272da2e1d7                               1.0   \n",
       "2298d6c36e964ae4a3e7e9706d1fb8c2                               0.0   \n",
       "2906b810c7d4411798c6938adc9daaa5                               0.0   \n",
       "3f207df678b143eea3cee63160fa8bed                               0.0   \n",
       "4d5c57ea9a6940dd891ad53e9dbe8da0                               1.0   \n",
       "5a8bc65990b245e5a138643cd4eb9837                               0.0   \n",
       "9b98b8c7a33c4b65b9aebfe6a799e6d9                               0.0   \n",
       "ae264e3637204a6fb9bb56bc8210ddfd                               0.0   \n",
       "f19421c1d4aa40978ebb69ca19b0e20d                               1.0   \n",
       "fafdcd668e3743c1bb461111dcafc2a4                               1.0   \n",
       "\n",
       "person                            fff0f0aac6c547b9b263080f09a5586a  \\\n",
       "value                                                                \n",
       "0b1e1539f2cc45b7b9fa7c272da2e1d7                               0.0   \n",
       "2298d6c36e964ae4a3e7e9706d1fb8c2                               0.0   \n",
       "2906b810c7d4411798c6938adc9daaa5                               0.0   \n",
       "3f207df678b143eea3cee63160fa8bed                               1.0   \n",
       "4d5c57ea9a6940dd891ad53e9dbe8da0                               1.0   \n",
       "5a8bc65990b245e5a138643cd4eb9837                               0.0   \n",
       "9b98b8c7a33c4b65b9aebfe6a799e6d9                               0.0   \n",
       "ae264e3637204a6fb9bb56bc8210ddfd                               0.0   \n",
       "f19421c1d4aa40978ebb69ca19b0e20d                               0.0   \n",
       "fafdcd668e3743c1bb461111dcafc2a4                               0.0   \n",
       "\n",
       "person                            fff29fb549084123bd046dbc5ceb4faa  \\\n",
       "value                                                                \n",
       "0b1e1539f2cc45b7b9fa7c272da2e1d7                               0.0   \n",
       "2298d6c36e964ae4a3e7e9706d1fb8c2                               0.0   \n",
       "2906b810c7d4411798c6938adc9daaa5                               0.0   \n",
       "3f207df678b143eea3cee63160fa8bed                               0.0   \n",
       "4d5c57ea9a6940dd891ad53e9dbe8da0                               1.0   \n",
       "5a8bc65990b245e5a138643cd4eb9837                               0.0   \n",
       "9b98b8c7a33c4b65b9aebfe6a799e6d9                               0.0   \n",
       "ae264e3637204a6fb9bb56bc8210ddfd                               1.0   \n",
       "f19421c1d4aa40978ebb69ca19b0e20d                               1.0   \n",
       "fafdcd668e3743c1bb461111dcafc2a4                               1.0   \n",
       "\n",
       "person                            fff3ba4757bd42088c044ca26d73817a  \\\n",
       "value                                                                \n",
       "0b1e1539f2cc45b7b9fa7c272da2e1d7                               0.0   \n",
       "2298d6c36e964ae4a3e7e9706d1fb8c2                               0.0   \n",
       "2906b810c7d4411798c6938adc9daaa5                               1.0   \n",
       "3f207df678b143eea3cee63160fa8bed                               0.0   \n",
       "4d5c57ea9a6940dd891ad53e9dbe8da0                               0.0   \n",
       "5a8bc65990b245e5a138643cd4eb9837                               1.0   \n",
       "9b98b8c7a33c4b65b9aebfe6a799e6d9                               1.0   \n",
       "ae264e3637204a6fb9bb56bc8210ddfd                               0.0   \n",
       "f19421c1d4aa40978ebb69ca19b0e20d                               0.0   \n",
       "fafdcd668e3743c1bb461111dcafc2a4                               1.0   \n",
       "\n",
       "person                            fff7576017104bcc8677a8d63322b5e1  \\\n",
       "value                                                                \n",
       "0b1e1539f2cc45b7b9fa7c272da2e1d7                               0.0   \n",
       "2298d6c36e964ae4a3e7e9706d1fb8c2                               0.0   \n",
       "2906b810c7d4411798c6938adc9daaa5                               0.0   \n",
       "3f207df678b143eea3cee63160fa8bed                               0.0   \n",
       "4d5c57ea9a6940dd891ad53e9dbe8da0                               1.0   \n",
       "5a8bc65990b245e5a138643cd4eb9837                               0.0   \n",
       "9b98b8c7a33c4b65b9aebfe6a799e6d9                               1.0   \n",
       "ae264e3637204a6fb9bb56bc8210ddfd                               1.0   \n",
       "f19421c1d4aa40978ebb69ca19b0e20d                               0.0   \n",
       "fafdcd668e3743c1bb461111dcafc2a4                               1.0   \n",
       "\n",
       "person                            fff8957ea8b240a6b5e634b6ee8eafcf  \\\n",
       "value                                                                \n",
       "0b1e1539f2cc45b7b9fa7c272da2e1d7                               0.0   \n",
       "2298d6c36e964ae4a3e7e9706d1fb8c2                               0.0   \n",
       "2906b810c7d4411798c6938adc9daaa5                               0.0   \n",
       "3f207df678b143eea3cee63160fa8bed                               1.0   \n",
       "4d5c57ea9a6940dd891ad53e9dbe8da0                               1.0   \n",
       "5a8bc65990b245e5a138643cd4eb9837                               0.0   \n",
       "9b98b8c7a33c4b65b9aebfe6a799e6d9                               0.0   \n",
       "ae264e3637204a6fb9bb56bc8210ddfd                               0.0   \n",
       "f19421c1d4aa40978ebb69ca19b0e20d                               0.0   \n",
       "fafdcd668e3743c1bb461111dcafc2a4                               1.0   \n",
       "\n",
       "person                            fffad4f4828548d1b5583907f2e9906b  \\\n",
       "value                                                                \n",
       "0b1e1539f2cc45b7b9fa7c272da2e1d7                               0.0   \n",
       "2298d6c36e964ae4a3e7e9706d1fb8c2                               0.0   \n",
       "2906b810c7d4411798c6938adc9daaa5                               0.0   \n",
       "3f207df678b143eea3cee63160fa8bed                               0.0   \n",
       "4d5c57ea9a6940dd891ad53e9dbe8da0                               0.0   \n",
       "5a8bc65990b245e5a138643cd4eb9837                               1.0   \n",
       "9b98b8c7a33c4b65b9aebfe6a799e6d9                               1.0   \n",
       "ae264e3637204a6fb9bb56bc8210ddfd                               0.0   \n",
       "f19421c1d4aa40978ebb69ca19b0e20d                               1.0   \n",
       "fafdcd668e3743c1bb461111dcafc2a4                               0.0   \n",
       "\n",
       "person                            ffff82501cea40309d5fdd7edcca4a07  \n",
       "value                                                               \n",
       "0b1e1539f2cc45b7b9fa7c272da2e1d7                               1.0  \n",
       "2298d6c36e964ae4a3e7e9706d1fb8c2                               0.0  \n",
       "2906b810c7d4411798c6938adc9daaa5                               1.0  \n",
       "3f207df678b143eea3cee63160fa8bed                               0.0  \n",
       "4d5c57ea9a6940dd891ad53e9dbe8da0                               0.0  \n",
       "5a8bc65990b245e5a138643cd4eb9837                               0.0  \n",
       "9b98b8c7a33c4b65b9aebfe6a799e6d9                               1.0  \n",
       "ae264e3637204a6fb9bb56bc8210ddfd                               0.0  \n",
       "f19421c1d4aa40978ebb69ca19b0e20d                               0.0  \n",
       "fafdcd668e3743c1bb461111dcafc2a4                               1.0  \n",
       "\n",
       "[10 rows x 16994 columns]"
      ]
     },
     "execution_count": 241,
     "metadata": {},
     "output_type": "execute_result"
    }
   ],
   "source": [
    "user_item"
   ]
  },
  {
   "cell_type": "markdown",
   "metadata": {},
   "source": [
    "We will write a function below which should take a person and provide an ordered list of the most similar users to that user (from most similar to least similar). The returned result should not contain the provided person, as we know that each user is similar to them. Because the results for each user here are binary, it (perhaps) makes sense to compute similarity as the dot product of two users."
   ]
  },
  {
   "cell_type": "code",
   "execution_count": 244,
   "metadata": {},
   "outputs": [],
   "source": [
    "def find_similar_offers(offer, user_item=user_item):\n",
    "    '''\n",
    "    INPUT:\n",
    "    person - (string) an offer\n",
    "    user_item - (pandas dataframe) matrix of offers by users: \n",
    "                1's when a user has interacted with an offer, 0 otherwise\n",
    "    \n",
    "    OUTPUT:\n",
    "    similar_offes - (list) an ordered list where the closest offers (largest dot product offers)\n",
    "                    are listed first\n",
    "    \n",
    "    Description:\n",
    "    Computes the similarity of every pair of offers based on the dot product\n",
    "    Returns an ordered\n",
    "    \n",
    "    '''\n",
    "    # compute similarity of each user to the provided offer\n",
    "    similar_offers_matrix = user_item.dot(np.transpose(user_item))\n",
    "\n",
    "    # sort by similarity\n",
    "    most_similar_offers = similar_offers_matrix.loc[offer].sort_values(ascending=False)\n",
    "\n",
    "    # create list of just the ids\n",
    "    most_similar_offers = list(most_similar_offers.index)\n",
    "   \n",
    "    # remove the own user's id\n",
    "    most_similar_offers.remove(offer)   \n",
    "    return most_similar_offers # return a list of the offers in order from most to least similar"
   ]
  },
  {
   "cell_type": "code",
   "execution_count": 245,
   "metadata": {},
   "outputs": [
    {
     "data": {
      "text/plain": [
       "['3f207df678b143eea3cee63160fa8bed',\n",
       " '5a8bc65990b245e5a138643cd4eb9837',\n",
       " 'ae264e3637204a6fb9bb56bc8210ddfd',\n",
       " 'fafdcd668e3743c1bb461111dcafc2a4',\n",
       " '4d5c57ea9a6940dd891ad53e9dbe8da0']"
      ]
     },
     "execution_count": 245,
     "metadata": {},
     "output_type": "execute_result"
    }
   ],
   "source": [
    "find_similar_offers('9b98b8c7a33c4b65b9aebfe6a799e6d9')[:5]"
   ]
  },
  {
   "cell_type": "code",
   "execution_count": 257,
   "metadata": {},
   "outputs": [],
   "source": [
    "def get_offer_user(offer, user_item=user_item):\n",
    "    '''\n",
    "    INPUT:\n",
    "    offer - (srting) an offer\n",
    "    user_item - (pandas dataframe) matrix of offers by users: \n",
    "                1's when a user has interacted with an offer, 0 otherwise\n",
    "    \n",
    "    OUTPUT:\n",
    "    person - (list) a list of people who received the offer\n",
    "    \n",
    "    Description:\n",
    "    Provides a list of people who received the offer\n",
    "    '''\n",
    "    # Your code here\n",
    "    person_idx = np.where(user_item.loc[offer] == 1)[0]\n",
    "    person_ids = user_item.columns[person_idx].tolist()\n",
    "    person_ids = np.array(person_ids).astype(str)\n",
    "    return person_ids # return the ids \n",
    "\n",
    "def offer_offer_recs(offer, m=10):\n",
    "    '''\n",
    "    INPUT:\n",
    "    offer - (srting) an offer\n",
    "    m - (int) the number of person you want for the offer\n",
    "    \n",
    "    OUTPUT:\n",
    "    recs - (list) a list of recommendations for the offer\n",
    "    \n",
    "    Description:\n",
    "    Loops through the offers based on closeness to the input offer\n",
    "    For each offer - finds persons the offer wasn't sent before and provides them as recs\n",
    "    Does this until m people are found\n",
    "    \n",
    "    '''\n",
    "    \n",
    "    recs = []\n",
    "    sim_offers = find_similar_offers(offer)\n",
    "    person_ids = get_offer_user(offer)\n",
    "    for offer in sim_offers:\n",
    "        rec_people = get_offer_user(offer)\n",
    "        temp_recs = np.setdiff1d(rec_people, person_ids,assume_unique=True)\n",
    "        recs.extend(temp_recs)\n",
    "        # If there are more than m \n",
    "        if len(recs) >= m:\n",
    "            break\n",
    "    if len(recs) < m:\n",
    "        return recs\n",
    "    else:\n",
    "        return recs[:m]"
   ]
  },
  {
   "cell_type": "code",
   "execution_count": 249,
   "metadata": {},
   "outputs": [
    {
     "data": {
      "text/plain": [
       "array(['0009655768c64bdeb2e877511632db8f',\n",
       "       '0011e0d4e6b944f998e987f904e8c1e5',\n",
       "       '003d66b6608740288d6cc97a6903f4f0', ...,\n",
       "       'ffd810f301ad42d6bfe98c4ba6ee4125',\n",
       "       'fff0f0aac6c547b9b263080f09a5586a',\n",
       "       'fff8957ea8b240a6b5e634b6ee8eafcf'], dtype='<U32')"
      ]
     },
     "execution_count": 249,
     "metadata": {},
     "output_type": "execute_result"
    }
   ],
   "source": [
    "get_offer_user('3f207df678b143eea3cee63160fa8bed', user_item=user_item)"
   ]
  },
  {
   "cell_type": "code",
   "execution_count": 261,
   "metadata": {},
   "outputs": [
    {
     "data": {
      "text/plain": [
       "['0020c2b971eb4e9188eac86d93036a77',\n",
       " '00426fe3ffde4c6b9cb9ad6d077a13ea',\n",
       " '004c5799adbf42868b9cff0396190900',\n",
       " '0099bf30e4cb4265875266eb3eb25eab',\n",
       " '00b18b535d6d4f779dea4dc9ac451478',\n",
       " '00b5fb9d842d437e83033ad9e36f7148',\n",
       " '00b901d68f8f4fd68075184cd0f772d2',\n",
       " '00bbce6533f44ddeaf4dd32bcab55441',\n",
       " '00bc42a62f884b41a13cc595856cf7c3',\n",
       " '00c2f812f4604c8893152a5c6572030e']"
      ]
     },
     "execution_count": 261,
     "metadata": {},
     "output_type": "execute_result"
    }
   ],
   "source": [
    "offer_offer_recs('3f207df678b143eea3cee63160fa8bed', m=10)"
   ]
  },
  {
   "cell_type": "markdown",
   "metadata": {},
   "source": [
    "**offer_offer_recs** will give us n number of users who haven't received a particular offer. \n",
    "\n",
    "We can improve the recommendation in combination with the ranked based recommendation.\n",
    "- Instead of arbitrarily choosing when we obtain offers who are all the same closeness to a given offer - choose the offers that have the most total people interactions before choosing those with fewer people interactions.\n",
    "- Instead of arbitrarily choosing users from the offer where the number of recommended persons starts below m and ends exceeding m, choose persons with the most total interactions before choosing those with fewer total interactions.\n"
   ]
  },
  {
   "cell_type": "code",
   "execution_count": 267,
   "metadata": {},
   "outputs": [],
   "source": [
    "def get_top_sorted_offers(offer, df=offer_data, user_item=user_item):\n",
    "    '''\n",
    "    INPUT:\n",
    "    offer - (str)\n",
    "    df - (pandas dataframe) offer data\n",
    "    user_item - (pandas dataframe) matrix of offers by users: \n",
    "                1's when a user has interacted with an offer, 0 otherwise\n",
    "    \n",
    "            \n",
    "    OUTPUT:\n",
    "    neighbors_df - (pandas dataframe) a dataframe with:\n",
    "                    neighbor_id - is a neighbor offer\n",
    "                    similarity - measure of the similarity of each offer to the provided offer\n",
    "                    num_interactions - the number of users received the offer\n",
    "                    \n",
    "    Other Details - sort the neighbors_df by the similarity and then by number of interactions where \n",
    "                    highest of each is higher in the dataframe\n",
    "     \n",
    "    '''\n",
    "      \n",
    "    \n",
    "    # measure of the similarity of each user to the provided user_id\n",
    "    similar_offers_matrix = user_item.dot(np.transpose(user_item))\n",
    "    similarity = similar_offers_matrix.loc[offer].drop(offer)\n",
    "    \n",
    "    # The number of articles viewed by the user\n",
    "    num_interactions = df.groupby('value')['person'].count().drop(offer)\n",
    "    \n",
    "    neighbor_id = num_interactions.index\n",
    "\n",
    "    neighbors_dict = {'neighbor_id':neighbor_id,'similarity':similarity,'num_interactions':num_interactions}\n",
    "    neighbors_df = pd.DataFrame(neighbors_dict)\n",
    "    \n",
    "    neighbors_df = neighbors_df.sort_values(by=['similarity', 'num_interactions'], ascending=False)\n",
    "    \n",
    "    return neighbors_df.reset_index(drop=True) # Return the dataframe specified in the doc_string\n",
    "\n",
    "\n",
    "def offer_offer_recs_improved(offer, m=10):\n",
    "    '''\n",
    "    INPUT:\n",
    "    offer - (srting) an offer\n",
    "    m - (int) the number of person you want for the offer\n",
    "    \n",
    "    OUTPUT:\n",
    "    recs - (list) a list of recommendations for the offer\n",
    "    Description:\n",
    "    Loops through the users based on closeness to the input user_id\n",
    "    For each user - finds articles the user hasn't seen before and provides them as recs\n",
    "    Does this until m recommendations are found\n",
    "    \n",
    "    '''\n",
    "\n",
    "    recs = []\n",
    "    sim_offers = get_top_sorted_offers(offer)['neighbor_id'].values.tolist()\n",
    "    person_ids = get_offer_user(offer)\n",
    "    for offer in sim_offers:\n",
    "        rec_people = get_offer_user(offer)\n",
    "        temp_recs = np.setdiff1d(rec_people, person_ids,assume_unique=True)\n",
    "        recs.extend(temp_recs)\n",
    "        # If there are more than m \n",
    "        if len(recs) >= m:\n",
    "            break\n",
    "    if len(recs) < m:\n",
    "        return recs\n",
    "    else:\n",
    "        return recs[:m]\n",
    "    \n",
    "    return recs"
   ]
  },
  {
   "cell_type": "code",
   "execution_count": 308,
   "metadata": {},
   "outputs": [
    {
     "data": {
      "text/html": [
       "<div>\n",
       "<style scoped>\n",
       "    .dataframe tbody tr th:only-of-type {\n",
       "        vertical-align: middle;\n",
       "    }\n",
       "\n",
       "    .dataframe tbody tr th {\n",
       "        vertical-align: top;\n",
       "    }\n",
       "\n",
       "    .dataframe thead th {\n",
       "        text-align: right;\n",
       "    }\n",
       "</style>\n",
       "<table border=\"1\" class=\"dataframe\">\n",
       "  <thead>\n",
       "    <tr style=\"text-align: right;\">\n",
       "      <th></th>\n",
       "      <th>neighbor_id</th>\n",
       "      <th>similarity</th>\n",
       "      <th>num_interactions</th>\n",
       "    </tr>\n",
       "  </thead>\n",
       "  <tbody>\n",
       "    <tr>\n",
       "      <th>0</th>\n",
       "      <td>fafdcd668e3743c1bb461111dcafc2a4</td>\n",
       "      <td>2147.0</td>\n",
       "      <td>20241</td>\n",
       "    </tr>\n",
       "    <tr>\n",
       "      <th>1</th>\n",
       "      <td>9b98b8c7a33c4b65b9aebfe6a799e6d9</td>\n",
       "      <td>2147.0</td>\n",
       "      <td>16202</td>\n",
       "    </tr>\n",
       "    <tr>\n",
       "      <th>2</th>\n",
       "      <td>4d5c57ea9a6940dd891ad53e9dbe8da0</td>\n",
       "      <td>2130.0</td>\n",
       "      <td>18222</td>\n",
       "    </tr>\n",
       "    <tr>\n",
       "      <th>3</th>\n",
       "      <td>2298d6c36e964ae4a3e7e9706d1fb8c2</td>\n",
       "      <td>2119.0</td>\n",
       "      <td>20139</td>\n",
       "    </tr>\n",
       "    <tr>\n",
       "      <th>4</th>\n",
       "      <td>5a8bc65990b245e5a138643cd4eb9837</td>\n",
       "      <td>2104.0</td>\n",
       "      <td>14305</td>\n",
       "    </tr>\n",
       "    <tr>\n",
       "      <th>5</th>\n",
       "      <td>0b1e1539f2cc45b7b9fa7c272da2e1d7</td>\n",
       "      <td>2083.0</td>\n",
       "      <td>13751</td>\n",
       "    </tr>\n",
       "    <tr>\n",
       "      <th>6</th>\n",
       "      <td>ae264e3637204a6fb9bb56bc8210ddfd</td>\n",
       "      <td>2073.0</td>\n",
       "      <td>18062</td>\n",
       "    </tr>\n",
       "    <tr>\n",
       "      <th>7</th>\n",
       "      <td>f19421c1d4aa40978ebb69ca19b0e20d</td>\n",
       "      <td>2072.0</td>\n",
       "      <td>19131</td>\n",
       "    </tr>\n",
       "    <tr>\n",
       "      <th>8</th>\n",
       "      <td>2906b810c7d4411798c6938adc9daaa5</td>\n",
       "      <td>2034.0</td>\n",
       "      <td>15767</td>\n",
       "    </tr>\n",
       "  </tbody>\n",
       "</table>\n",
       "</div>"
      ],
      "text/plain": [
       "                        neighbor_id  similarity  num_interactions\n",
       "0  fafdcd668e3743c1bb461111dcafc2a4      2147.0             20241\n",
       "1  9b98b8c7a33c4b65b9aebfe6a799e6d9      2147.0             16202\n",
       "2  4d5c57ea9a6940dd891ad53e9dbe8da0      2130.0             18222\n",
       "3  2298d6c36e964ae4a3e7e9706d1fb8c2      2119.0             20139\n",
       "4  5a8bc65990b245e5a138643cd4eb9837      2104.0             14305\n",
       "5  0b1e1539f2cc45b7b9fa7c272da2e1d7      2083.0             13751\n",
       "6  ae264e3637204a6fb9bb56bc8210ddfd      2073.0             18062\n",
       "7  f19421c1d4aa40978ebb69ca19b0e20d      2072.0             19131\n",
       "8  2906b810c7d4411798c6938adc9daaa5      2034.0             15767"
      ]
     },
     "execution_count": 308,
     "metadata": {},
     "output_type": "execute_result"
    }
   ],
   "source": [
    "get_top_sorted_offers('3f207df678b143eea3cee63160fa8bed')"
   ]
  },
  {
   "cell_type": "code",
   "execution_count": 309,
   "metadata": {},
   "outputs": [
    {
     "data": {
      "text/plain": [
       "['0020c2b971eb4e9188eac86d93036a77',\n",
       " '00426fe3ffde4c6b9cb9ad6d077a13ea',\n",
       " '004c5799adbf42868b9cff0396190900',\n",
       " '0099bf30e4cb4265875266eb3eb25eab',\n",
       " '00b18b535d6d4f779dea4dc9ac451478',\n",
       " '00b5fb9d842d437e83033ad9e36f7148',\n",
       " '00b901d68f8f4fd68075184cd0f772d2',\n",
       " '00bbce6533f44ddeaf4dd32bcab55441',\n",
       " '00bc42a62f884b41a13cc595856cf7c3',\n",
       " '00c2f812f4604c8893152a5c6572030e']"
      ]
     },
     "execution_count": 309,
     "metadata": {},
     "output_type": "execute_result"
    }
   ],
   "source": [
    "offer_offer_recs_improved('3f207df678b143eea3cee63160fa8bed')"
   ]
  },
  {
   "cell_type": "markdown",
   "metadata": {},
   "source": [
    "Now, since we have build a recommendation system which recommeds n persons for each offer, we can imporve it further in combination with ranked based recommendation. We used some filtering to get top n persons for informational offer and BOGO/discount offer. In **get_n_top_non_info_user** **get_n_top_info_user** funtions, if we set topn = 'max' we will get all possible users.\n",
    "\n",
    "Finally combine offer_offer_recs_improved function to get n top persons within the database created by the above mentiones functions."
   ]
  },
  {
   "cell_type": "code",
   "execution_count": 317,
   "metadata": {},
   "outputs": [],
   "source": [
    "def make_recs(offer,m = 10):\n",
    "    '''\n",
    "    INPUT:\n",
    "    offer - (srting) an offer\n",
    "    m - (int) the number of person you want for the offer\n",
    "    \n",
    "    OUTPUT:\n",
    "    recs - (list) a list of recommendations for the offer\n",
    "    '''\n",
    "    total_users = np.union1d(get_n_top_info_user(topn = 'max'),get_n_top_non_info_user(topn = 'max'))\n",
    "    recs = offer_offer_recs_improved(offer,m)\n",
    "    total_recs = np.intersect1d(recs,total_users)\n",
    "    while total_recs.shape[0] < m:\n",
    "        recs = offer_offer_recs_improved(offer,m - total_recs.shape[0])\n",
    "        recs = np.intersect1d(recs,total_users)\n",
    "        if (recs.shape[0] > 0):\n",
    "            total_recs = np.concatenate((total_recs , recs))\n",
    "        else:\n",
    "            break\n",
    "    return total_recs\n",
    "        "
   ]
  },
  {
   "cell_type": "code",
   "execution_count": 321,
   "metadata": {},
   "outputs": [
    {
     "data": {
      "text/plain": [
       "array(['0009655768c64bdeb2e877511632db8f',\n",
       "       '0011e0d4e6b944f998e987f904e8c1e5',\n",
       "       '003d66b6608740288d6cc97a6903f4f0',\n",
       "       '004b041fbfe44859945daa2c7f79ee64',\n",
       "       '0056df74b63b4298809f0b375a304cf4',\n",
       "       '0082fd87c18f45f2be70dbcbb0fb8aad',\n",
       "       '00c6035df45840038a72766c6d27a0db',\n",
       "       '0009655768c64bdeb2e877511632db8f',\n",
       "       '0011e0d4e6b944f998e987f904e8c1e5',\n",
       "       '003d66b6608740288d6cc97a6903f4f0'], dtype=object)"
      ]
     },
     "execution_count": 321,
     "metadata": {},
     "output_type": "execute_result"
    }
   ],
   "source": [
    "make_recs('4d5c57ea9a6940dd891ad53e9dbe8da0')"
   ]
  },
  {
   "cell_type": "markdown",
   "metadata": {},
   "source": [
    "### Use ML to make content based recommendation for new users.\n",
    "\n",
    "To train a ML model we will use \"transaction_data\".\n",
    "\n",
    "- We want to predict the value column, given the demograpic information.\n",
    "- In this data, 'person','event','time', and 'date' column is not necessary.\n",
    "- we will groupby the data by 'person' and try to predict the mean value."
   ]
  },
  {
   "cell_type": "code",
   "execution_count": 1139,
   "metadata": {},
   "outputs": [],
   "source": [
    "# Data preparation\n",
    "\n",
    "def data_load(df = transaction_data):\n",
    "    '''\n",
    "    INPUT:\n",
    "    df - (DataFrame) pandas dataframe of transaction data\n",
    "    \n",
    "    OUTPUT:\n",
    "    X: Featurs (gender,age,income columns)\n",
    "    y: target variable(value column)\n",
    "    non_demo_data: mean value of the non demograpic data\n",
    "    Description:\n",
    "    Drop 'event','time','date' columns from the dataframe, groupby the data \n",
    "    by 'person' column.\n",
    "    Take mean of value calumn and max/min of the other columns \n",
    "    \n",
    "    '''\n",
    "    new_df = df.drop(['event','time','date' ],axis = 1)\n",
    "    non_demo_value = np.round(new_df[new_df['age'] == 118]['value'].mean(),decimals = 2)\n",
    "    new_df = new_df[new_df['age'] != 118] # remove outliers\n",
    "    # groupby person\n",
    "    new_df = new_df.groupby('person',as_index = False) \n",
    "\n",
    "    X = new_df[['gender','income','age']].max()\n",
    "    X.drop('person',axis=1,inplace=True) #Drop person column\n",
    "    y = np.round(new_df['value'].mean(),decimals = 2)\n",
    "    y.drop('person',axis=1,inplace=True) #Drop person column\n",
    "    return X,y,non_demo_value"
   ]
  },
  {
   "cell_type": "markdown",
   "metadata": {},
   "source": [
    "#### Data preprocessing"
   ]
  },
  {
   "cell_type": "code",
   "execution_count": 1140,
   "metadata": {},
   "outputs": [],
   "source": [
    "X_data,y_data,non_demo_val = data_load()"
   ]
  },
  {
   "cell_type": "code",
   "execution_count": 1141,
   "metadata": {},
   "outputs": [
    {
     "name": "stdout",
     "output_type": "stream",
     "text": [
      "<class 'pandas.core.frame.DataFrame'>\n",
      "Int64Index: 14492 entries, 0 to 14491\n",
      "Data columns (total 3 columns):\n",
      " #   Column  Non-Null Count  Dtype  \n",
      "---  ------  --------------  -----  \n",
      " 0   gender  14492 non-null  object \n",
      " 1   income  14492 non-null  float64\n",
      " 2   age     14492 non-null  int64  \n",
      "dtypes: float64(1), int64(1), object(1)\n",
      "memory usage: 452.9+ KB\n"
     ]
    }
   ],
   "source": [
    "X_data.info()"
   ]
  },
  {
   "cell_type": "code",
   "execution_count": 1142,
   "metadata": {},
   "outputs": [
    {
     "name": "stdout",
     "output_type": "stream",
     "text": [
      "<class 'pandas.core.frame.DataFrame'>\n",
      "Int64Index: 14492 entries, 0 to 14491\n",
      "Data columns (total 1 columns):\n",
      " #   Column  Non-Null Count  Dtype  \n",
      "---  ------  --------------  -----  \n",
      " 0   value   14492 non-null  float64\n",
      "dtypes: float64(1)\n",
      "memory usage: 226.4 KB\n"
     ]
    }
   ],
   "source": [
    "y_data.info()"
   ]
  },
  {
   "cell_type": "markdown",
   "metadata": {},
   "source": [
    "**How did we handle NaN values?**\n",
    "From the analysis so far, we know that there are some rows with no demographic information. These rows have **age = 118, gender = Unknown and income = NaN**.\n",
    "\n",
    "\n",
    "Since we know, these NaN values are correlated with no information. So we can treat them as outliers, we can simply filter out the value and calculate the mean expenditure and use that value if a new customer doesn't provide any demographic data. "
   ]
  },
  {
   "cell_type": "markdown",
   "metadata": {},
   "source": [
    "#### Data preprocessing using SKLearn\n",
    "\n"
   ]
  },
  {
   "cell_type": "markdown",
   "metadata": {},
   "source": [
    "**Preprocessing Categorical Attribute**"
   ]
  },
  {
   "cell_type": "code",
   "execution_count": 412,
   "metadata": {},
   "outputs": [
    {
     "data": {
      "text/plain": [
       "array([[0., 1., 0., 0.],\n",
       "       [0., 0., 0., 1.],\n",
       "       [0., 0., 1., 0.],\n",
       "       [1., 0., 0., 0.],\n",
       "       [1., 0., 0., 0.]])"
      ]
     },
     "execution_count": 412,
     "metadata": {},
     "output_type": "execute_result"
    }
   ],
   "source": [
    "#Ref: https://harshit-tyagi.medium.com/end-to-end-machine-learning-project-tutorial-part-1-ea6de9710c0\n",
    "\n",
    "from sklearn.preprocessing import OneHotEncoder\n",
    "cat_encoder = OneHotEncoder()\n",
    "data_cat_1hot = cat_encoder.fit_transform(X_data[['gender']])\n",
    "#data_cat_1hot   # returns a sparse matrix\n",
    "data_cat_1hot.toarray()[:5]"
   ]
  },
  {
   "cell_type": "markdown",
   "metadata": {},
   "source": [
    "**Imputation of numerical values**"
   ]
  },
  {
   "cell_type": "code",
   "execution_count": 440,
   "metadata": {},
   "outputs": [
    {
     "data": {
      "text/plain": [
       "array([[7.20e+04, 3.30e+01],\n",
       "       [1.00e-02, 1.18e+02],\n",
       "       [5.70e+04, 4.00e+01],\n",
       "       ...,\n",
       "       [5.60e+04, 7.10e+01],\n",
       "       [3.40e+04, 3.40e+01],\n",
       "       [6.20e+04, 4.50e+01]])"
      ]
     },
     "execution_count": 440,
     "metadata": {},
     "output_type": "execute_result"
    }
   ],
   "source": [
    "# not needed\n",
    "from sklearn.impute import SimpleImputer\n",
    "imp = SimpleImputer(fill_value=0.01, strategy='constant')\n",
    "imp.fit_transform(X_data[['income','age']])\n"
   ]
  },
  {
   "cell_type": "code",
   "execution_count": 1381,
   "metadata": {},
   "outputs": [],
   "source": [
    "from sklearn.pipeline import Pipeline, FeatureUnion\n",
    "from sklearn.impute import SimpleImputer\n",
    "from sklearn.preprocessing import OneHotEncoder,StandardScaler,FunctionTransformer\n",
    "from sklearn.compose import ColumnTransformer\n",
    "from sklearn.base import BaseEstimator, TransformerMixin\n",
    "\n",
    "from sklearn.ensemble import RandomForestRegressor\n",
    "from sklearn.linear_model import LinearRegression\n",
    "from sklearn import svm\n",
    "\n",
    "def numerical_trasnform(df):\n",
    "    '''\n",
    "    INPUT:\n",
    "    df - (DataFrame) pandas dataframe \n",
    "    \n",
    "    OUTPUT:\n",
    "    num_attr : numerical attributes\n",
    "    num_pipeline: numerical pipeline object\n",
    "    Description:\n",
    "    Using Scikit learn to impute NaN values, and standadize     \n",
    "    '''\n",
    "    nums = ['float64','int64']\n",
    "    \n",
    "    num_attr = df.select_dtypes(include = nums)\n",
    "    \n",
    "    num_pipeline = Pipeline([\n",
    "        #('impute',SimpleImputer(fill_value=0.01, strategy='constant')),\n",
    "        ('log',FunctionTransformer(np.log)),\n",
    "        ('std_scaler', StandardScaler()),\n",
    "        ('poly',PolynomialFeatures(2,interaction_only=False,include_bias = False))\n",
    "        \n",
    "    ])\n",
    "    \n",
    "    return num_attr,num_pipeline\n",
    "    "
   ]
  },
  {
   "cell_type": "code",
   "execution_count": 1394,
   "metadata": {},
   "outputs": [],
   "source": [
    "##creating custom attribute adder class\n",
    "\n",
    "class CustomAttrAdder(BaseEstimator, TransformerMixin):\n",
    "    \n",
    "    def fit(self, X, y=None):\n",
    "        return self  # nothing else to do\n",
    "    def transform(self, X):\n",
    "        extra = []\n",
    "        for i in X[:,:-4].T:\n",
    "            extra.append(i.reshape(-1,1)*X[:,-4:])\n",
    "        extra = np.hstack(extra)\n",
    "        return np.c_[X, extra]"
   ]
  },
  {
   "cell_type": "code",
   "execution_count": 1407,
   "metadata": {},
   "outputs": [],
   "source": [
    "def full_data_pipeline(df):\n",
    "    \"\"\"\n",
    "    INPUT:\n",
    "    df - (DataFrame) pandas dataframe \n",
    "    \n",
    "    OUTPUT:\n",
    "    full_data_pipeline : final prepared data pipeline to feed into the ML model\n",
    "    Description:\n",
    "    full data transformation pipeline for both numerical and categorical data\n",
    "    \"\"\"\n",
    "    cat_attr = [\"gender\"]\n",
    "    \n",
    "    num_attr,num_pipeline = numerical_trasnform(df)\n",
    "    full_data_pipeline = ColumnTransformer([\n",
    "        ('num',num_pipeline,list(num_attr)),\n",
    "        ('cat',OneHotEncoder(),cat_attr),\n",
    "        ])\n",
    "    \n",
    "    \n",
    "#     full_data_pipeline = Pipeline([\n",
    "#         ('transform',ColumnTransformer([\n",
    "#         ('num',num_pipeline,list(num_attr)),\n",
    "#         ('cat',OneHotEncoder(),cat_attr),\n",
    "#         ])),\n",
    "#         ('custom',CustomAttrAdder())            \n",
    "#     ])\n",
    "    \n",
    "    return full_data_pipeline\n",
    "    "
   ]
  },
  {
   "cell_type": "markdown",
   "metadata": {},
   "source": [
    "## Train an ML model\n",
    "\n",
    "Since this is a regression problem, we can use various regression methods to find the best model.\n",
    "\n",
    "I used:\n",
    "- Linear Regression\n",
    "- Random Forest Regression\n",
    "- SVM Regressor\n",
    "- XGBoost regressor"
   ]
  },
  {
   "cell_type": "code",
   "execution_count": 1170,
   "metadata": {},
   "outputs": [],
   "source": [
    "#REF : https://scikit-learn.org/stable/auto_examples/inspection/plot_permutation_importance.html#sphx-glr-auto-examples-inspection-plot-permutation-importance-py\n",
    "\n",
    "def rf_model(df):\n",
    "    \"\"\"\n",
    "    OUTPUT:\n",
    "    full_pipeline : full pipeline of the the ML model\n",
    "    \"\"\"\n",
    "    preprocessing = full_data_pipeline(df)\n",
    "    rf = Pipeline([\n",
    "        ('preprocess',preprocessing),\n",
    "        ('rf_regressor', RandomForestRegressor(random_state=42))\n",
    "    ])\n",
    "    \n",
    "    return rf "
   ]
  },
  {
   "cell_type": "code",
   "execution_count": 1171,
   "metadata": {},
   "outputs": [],
   "source": [
    "def lin_model(df):\n",
    "    \"\"\"\n",
    "    OUTPUT:\n",
    "    full_pipeline : full pipeline of the the ML model\n",
    "    \"\"\"\n",
    "    preprocessing = full_data_pipeline(df)\n",
    "    lin = Pipeline([\n",
    "        ('preprocess',preprocessing),\n",
    "        ('lin_regressor', LinearRegression())\n",
    "    ])\n",
    "    \n",
    "    return lin"
   ]
  },
  {
   "cell_type": "code",
   "execution_count": 1172,
   "metadata": {},
   "outputs": [],
   "source": [
    "def sup_model(df):\n",
    "    \"\"\"\n",
    "    OUTPUT:\n",
    "    full_pipeline : full pipeline of the the ML model\n",
    "    \"\"\"\n",
    "    preprocessing = full_data_pipeline(df)\n",
    "    sup = Pipeline([\n",
    "        ('preprocess',preprocessing),\n",
    "        ('svm_regressor', svm.SVR())\n",
    "    ])\n",
    "    \n",
    "    return sup"
   ]
  },
  {
   "cell_type": "code",
   "execution_count": 1173,
   "metadata": {},
   "outputs": [],
   "source": [
    "rf = rf_model(df = X_train)"
   ]
  },
  {
   "cell_type": "code",
   "execution_count": 1174,
   "metadata": {},
   "outputs": [],
   "source": [
    "lin = lin_model(df = X_train)"
   ]
  },
  {
   "cell_type": "code",
   "execution_count": 1175,
   "metadata": {},
   "outputs": [],
   "source": [
    "sup = sup_model(df = X_train)"
   ]
  },
  {
   "cell_type": "code",
   "execution_count": 1196,
   "metadata": {},
   "outputs": [],
   "source": [
    "#rf.fit(X_train,y_train.values.ravel())"
   ]
  },
  {
   "cell_type": "code",
   "execution_count": 1077,
   "metadata": {},
   "outputs": [
    {
     "data": {
      "text/plain": [
       "0.694306381831229"
      ]
     },
     "execution_count": 1077,
     "metadata": {},
     "output_type": "execute_result"
    }
   ],
   "source": [
    "rf.score(X_train,y_train.values.ravel())"
   ]
  },
  {
   "cell_type": "code",
   "execution_count": 1078,
   "metadata": {},
   "outputs": [
    {
     "data": {
      "text/plain": [
       "0.14857503322125365"
      ]
     },
     "execution_count": 1078,
     "metadata": {},
     "output_type": "execute_result"
    }
   ],
   "source": [
    "rf.score(X_test,y_test.values.ravel())"
   ]
  },
  {
   "cell_type": "code",
   "execution_count": 835,
   "metadata": {},
   "outputs": [
    {
     "data": {
      "text/plain": [
       "array([ 3.62857107, 18.3383485 , 16.73058028, ...,  6.75458664,\n",
       "       37.82519002,  3.44282618])"
      ]
     },
     "execution_count": 835,
     "metadata": {},
     "output_type": "execute_result"
    }
   ],
   "source": [
    "rf.predict(X_test)"
   ]
  },
  {
   "cell_type": "code",
   "execution_count": 836,
   "metadata": {},
   "outputs": [
    {
     "data": {
      "text/plain": [
       "array([11.61588235,  1.86545455,  8.468     , ..., 24.215     ,\n",
       "        2.2075    ,  3.115     ])"
      ]
     },
     "execution_count": 836,
     "metadata": {},
     "output_type": "execute_result"
    }
   ],
   "source": [
    "y_train.values.ravel()"
   ]
  },
  {
   "cell_type": "code",
   "execution_count": 837,
   "metadata": {},
   "outputs": [
    {
     "data": {
      "text/plain": [
       "Pipeline(steps=[('preprocess',\n",
       "                 Pipeline(steps=[('transform',\n",
       "                                  ColumnTransformer(transformers=[('num',\n",
       "                                                                   Pipeline(steps=[('impute',\n",
       "                                                                                    SimpleImputer(fill_value=0.01,\n",
       "                                                                                                  strategy='constant')),\n",
       "                                                                                   ('std_scaler',\n",
       "                                                                                    StandardScaler())]),\n",
       "                                                                   ['income',\n",
       "                                                                    'age']),\n",
       "                                                                  ('cat',\n",
       "                                                                   OneHotEncoder(),\n",
       "                                                                   ['gender'])])),\n",
       "                                 ('custom', CustomAttrAdder())])),\n",
       "                ('lin_regressor', LinearRegression())])"
      ]
     },
     "execution_count": 837,
     "metadata": {},
     "output_type": "execute_result"
    }
   ],
   "source": [
    "lin.fit(X_train,y_train.values.ravel())"
   ]
  },
  {
   "cell_type": "code",
   "execution_count": 838,
   "metadata": {},
   "outputs": [
    {
     "data": {
      "text/plain": [
       "0.2914412469826335"
      ]
     },
     "execution_count": 838,
     "metadata": {},
     "output_type": "execute_result"
    }
   ],
   "source": [
    "lin.score(X_train,y_train.values.ravel())"
   ]
  },
  {
   "cell_type": "code",
   "execution_count": 839,
   "metadata": {},
   "outputs": [
    {
     "data": {
      "text/plain": [
       "0.3271854486907245"
      ]
     },
     "execution_count": 839,
     "metadata": {},
     "output_type": "execute_result"
    }
   ],
   "source": [
    "lin.score(X_test,y_test.values.ravel())"
   ]
  },
  {
   "cell_type": "code",
   "execution_count": null,
   "metadata": {},
   "outputs": [],
   "source": [
    "lin.predict"
   ]
  },
  {
   "cell_type": "code",
   "execution_count": 840,
   "metadata": {},
   "outputs": [
    {
     "data": {
      "text/plain": [
       "Pipeline(steps=[('preprocess',\n",
       "                 Pipeline(steps=[('transform',\n",
       "                                  ColumnTransformer(transformers=[('num',\n",
       "                                                                   Pipeline(steps=[('impute',\n",
       "                                                                                    SimpleImputer(fill_value=0.01,\n",
       "                                                                                                  strategy='constant')),\n",
       "                                                                                   ('std_scaler',\n",
       "                                                                                    StandardScaler())]),\n",
       "                                                                   ['income',\n",
       "                                                                    'age']),\n",
       "                                                                  ('cat',\n",
       "                                                                   OneHotEncoder(),\n",
       "                                                                   ['gender'])])),\n",
       "                                 ('custom', CustomAttrAdder())])),\n",
       "                ('svm_regressor', SVR())])"
      ]
     },
     "execution_count": 840,
     "metadata": {},
     "output_type": "execute_result"
    }
   ],
   "source": [
    "sup.fit(X_train,y_train.values.ravel())"
   ]
  },
  {
   "cell_type": "code",
   "execution_count": 725,
   "metadata": {},
   "outputs": [
    {
     "data": {
      "text/plain": [
       "0.29104689054679533"
      ]
     },
     "execution_count": 725,
     "metadata": {},
     "output_type": "execute_result"
    }
   ],
   "source": [
    "sup.score(X_train,y_train.values.ravel())"
   ]
  },
  {
   "cell_type": "code",
   "execution_count": 726,
   "metadata": {},
   "outputs": [
    {
     "data": {
      "text/plain": [
       "0.32910751744995914"
      ]
     },
     "execution_count": 726,
     "metadata": {},
     "output_type": "execute_result"
    }
   ],
   "source": [
    "sup.score(X_test,y_test.values.ravel())"
   ]
  },
  {
   "cell_type": "code",
   "execution_count": 1038,
   "metadata": {},
   "outputs": [],
   "source": [
    "# import lightgbm as lgb\n",
    "\n",
    "# def build_lgb_model(params, X_train, X_val, y_train, y_val):\n",
    "#     lgb_train = lgb.Dataset(X_train, y_train)\n",
    "#     lgb_val = lgb.Dataset(X_val, y_val)\n",
    "#     model = lgb.train(params=params, train_set=lgb_train, valid_sets=(lgb_train, lgb_val), verbose_eval=50,\n",
    "#                      )\n",
    "#     return model"
   ]
  },
  {
   "cell_type": "code",
   "execution_count": 1035,
   "metadata": {},
   "outputs": [],
   "source": [
    "#### LightGBM\n",
    "\n",
    "# cat_features = []\n",
    "\n",
    "# lgb_params = {\n",
    "#     'objective': 'rmse',\n",
    "#     'metric': 'rmse',\n",
    "#     'num_leaves': 200,\n",
    "#     'min_data_in_leaf':20,\n",
    "#     'feature_fraction':0.8,\n",
    "#     'learning_rate': 0.01,\n",
    "#     'num_rounds': 100,\n",
    "#     'early_stopping_rounds':50,\n",
    "#     'seed': 1\n",
    "# }\n",
    "\n",
    "# model = build_lgb_model(lgb_params, xtrain,xtest, ytrain, ytest)"
   ]
  },
  {
   "cell_type": "code",
   "execution_count": 1036,
   "metadata": {},
   "outputs": [],
   "source": [
    "# predict_lgb = model.predict(pipe.fit_transform(X_test))"
   ]
  },
  {
   "cell_type": "code",
   "execution_count": 1037,
   "metadata": {},
   "outputs": [],
   "source": [
    "# from sklearn.metrics import r2_score\n",
    "# r2_score(y_test.values.ravel(),predict_lgb)"
   ]
  },
  {
   "cell_type": "code",
   "execution_count": 1408,
   "metadata": {},
   "outputs": [],
   "source": [
    "pipe = full_data_pipeline(X_data)\n",
    "\n",
    "X_data_mod = pipe.fit_transform(X_data)"
   ]
  },
  {
   "cell_type": "code",
   "execution_count": 1409,
   "metadata": {},
   "outputs": [],
   "source": [
    "#X_data_mod = np.c_[np.log(X_data_mod[:,(0,1)]+1e-08),X_data_mod[:,-4:]]"
   ]
  },
  {
   "cell_type": "code",
   "execution_count": 1410,
   "metadata": {},
   "outputs": [],
   "source": [
    "xtrain,xtest,ytrain,ytest = train_test_split(X_data_mod, y_data.values.clip(0,25).ravel(), test_size=0.2, random_state=42)"
   ]
  },
  {
   "cell_type": "code",
   "execution_count": 1411,
   "metadata": {},
   "outputs": [],
   "source": [
    "#xtrain,xtest,ytrain,ytest = train_test_split(X_data_mod, np.log(scaler.fit_transform(y_data)), test_size=0.2, random_state=42)"
   ]
  },
  {
   "cell_type": "code",
   "execution_count": 1412,
   "metadata": {},
   "outputs": [],
   "source": [
    "import xgboost as xgb"
   ]
  },
  {
   "cell_type": "code",
   "execution_count": 1413,
   "metadata": {},
   "outputs": [],
   "source": [
    "xgb_reg = xgb.XGBRegressor(base_score=0.75, booster='gbtree', colsample_bylevel=1,\n",
    "             colsample_bynode=1, colsample_bytree=1, gamma=0, gpu_id=-1,\n",
    "             importance_type='gain', interaction_constraints='',\n",
    "             learning_rate=0.01, max_delta_step=0, max_depth=5,\n",
    "             min_child_weight=4,n_estimators=500, n_jobs=8, num_parallel_tree=1, random_state=0,\n",
    "             reg_alpha=0, reg_lambda=1, scale_pos_weight=1, subsample=1,\n",
    "             tree_method='exact', validate_parameters=1, verbosity=None)"
   ]
  },
  {
   "cell_type": "code",
   "execution_count": 1414,
   "metadata": {},
   "outputs": [
    {
     "data": {
      "text/plain": [
       "XGBRegressor(base_score=0.75, booster='gbtree', colsample_bylevel=1,\n",
       "             colsample_bynode=1, colsample_bytree=1, gamma=0, gpu_id=-1,\n",
       "             importance_type='gain', interaction_constraints='',\n",
       "             learning_rate=0.01, max_delta_step=0, max_depth=5,\n",
       "             min_child_weight=4, missing=nan, monotone_constraints='()',\n",
       "             n_estimators=500, n_jobs=8, num_parallel_tree=1, random_state=0,\n",
       "             reg_alpha=0, reg_lambda=1, scale_pos_weight=1, subsample=1,\n",
       "             tree_method='exact', validate_parameters=1, verbosity=None)"
      ]
     },
     "execution_count": 1414,
     "metadata": {},
     "output_type": "execute_result"
    }
   ],
   "source": [
    "xgb_reg.fit(xtrain,ytrain)"
   ]
  },
  {
   "cell_type": "code",
   "execution_count": 1415,
   "metadata": {},
   "outputs": [
    {
     "data": {
      "text/plain": [
       "0.683928021407646"
      ]
     },
     "execution_count": 1415,
     "metadata": {},
     "output_type": "execute_result"
    }
   ],
   "source": [
    "xgb_reg.score(xtrain,ytrain)"
   ]
  },
  {
   "cell_type": "code",
   "execution_count": 1416,
   "metadata": {},
   "outputs": [
    {
     "data": {
      "text/plain": [
       "0.6550454775035774"
      ]
     },
     "execution_count": 1416,
     "metadata": {},
     "output_type": "execute_result"
    }
   ],
   "source": [
    "xgb_reg.score(xtest,ytest)"
   ]
  },
  {
   "cell_type": "code",
   "execution_count": 1417,
   "metadata": {},
   "outputs": [
    {
     "data": {
      "text/plain": [
       "array([ 5.7400274,  4.660019 , 19.725134 , 24.174536 , 22.90105  ,\n",
       "       11.498415 , 13.039097 ,  7.4045672, 23.86957  , 20.749676 ],\n",
       "      dtype=float32)"
      ]
     },
     "execution_count": 1417,
     "metadata": {},
     "output_type": "execute_result"
    }
   ],
   "source": [
    "xgb_reg.predict(xtest)[:10]"
   ]
  },
  {
   "cell_type": "code",
   "execution_count": 1418,
   "metadata": {},
   "outputs": [
    {
     "data": {
      "text/plain": [
       "array([ 2.65,  7.76, 24.16, 25.  , 25.  ,  3.9 , 14.84,  5.77, 25.  ,\n",
       "       20.34])"
      ]
     },
     "execution_count": 1418,
     "metadata": {},
     "output_type": "execute_result"
    }
   ],
   "source": [
    "ytest[:10]"
   ]
  },
  {
   "cell_type": "code",
   "execution_count": 1090,
   "metadata": {},
   "outputs": [],
   "source": [
    "booster = ['gbtree','gblinear']\n",
    "base_score = [0.25,0.5,0.75,1]\n",
    "n_estimators = [100,500]#,900,1100,1500]\n",
    "max_depth = [2,3,5]#,10,15]\n",
    "learning_rate = [0.05,0.1]#,0.15,0.20]\n",
    "min_child_weight = [1,2]#,3,4]\n",
    "\n",
    "hyperparameter_grid = {\n",
    "    'n_estimators': n_estimators,\n",
    "    'max_depth' : max_depth,\n",
    "    'learning_rate' : learning_rate,\n",
    "    'min_child_weight' : min_child_weight,\n",
    "    'booster' : booster,\n",
    "    'base_score': base_score\n",
    "}"
   ]
  },
  {
   "cell_type": "code",
   "execution_count": 1091,
   "metadata": {},
   "outputs": [],
   "source": [
    "from sklearn.model_selection import RandomizedSearchCV\n",
    "random_cv = RandomizedSearchCV(estimator = xgb_reg,\n",
    "                              param_distributions = hyperparameter_grid,\n",
    "                              cv = 5, n_iter = 10,\n",
    "                              scoring = 'neg_mean_absolute_error',n_jobs = 4,\n",
    "                              verbose = 5,\n",
    "                              return_train_score = True,\n",
    "                              random_state = 42)"
   ]
  },
  {
   "cell_type": "code",
   "execution_count": 1092,
   "metadata": {},
   "outputs": [
    {
     "name": "stdout",
     "output_type": "stream",
     "text": [
      "Fitting 5 folds for each of 10 candidates, totalling 50 fits\n"
     ]
    },
    {
     "name": "stderr",
     "output_type": "stream",
     "text": [
      "[Parallel(n_jobs=4)]: Using backend LokyBackend with 4 concurrent workers.\n",
      "[Parallel(n_jobs=4)]: Done  10 tasks      | elapsed:  2.6min\n",
      "[Parallel(n_jobs=4)]: Done  50 out of  50 | elapsed: 37.8min finished\n"
     ]
    },
    {
     "data": {
      "text/plain": [
       "RandomizedSearchCV(cv=5,\n",
       "                   estimator=XGBRegressor(base_score=0.5, booster='gbtree',\n",
       "                                          colsample_bylevel=1,\n",
       "                                          colsample_bynode=1,\n",
       "                                          colsample_bytree=1, gamma=0,\n",
       "                                          gpu_id=-1, importance_type='gain',\n",
       "                                          interaction_constraints='',\n",
       "                                          learning_rate=0.300000012,\n",
       "                                          max_delta_step=0, max_depth=6,\n",
       "                                          min_child_weight=1, missing=nan,\n",
       "                                          monotone_constraints='()',\n",
       "                                          n_estimators=100, n_jobs=8,\n",
       "                                          num_par...\n",
       "                                          scale_pos_weight=1, subsample=1,\n",
       "                                          tree_method='exact',\n",
       "                                          validate_parameters=1,\n",
       "                                          verbosity=None),\n",
       "                   n_jobs=4,\n",
       "                   param_distributions={'base_score': [0.25, 0.5, 0.75, 1],\n",
       "                                        'booster': ['gbtree', 'gblinear'],\n",
       "                                        'learning_rate': [0.05, 0.1],\n",
       "                                        'max_depth': [2, 3, 5],\n",
       "                                        'min_child_weight': [1, 2],\n",
       "                                        'n_estimators': [100, 500]},\n",
       "                   random_state=42, return_train_score=True,\n",
       "                   scoring='neg_mean_absolute_error', verbose=5)"
      ]
     },
     "execution_count": 1092,
     "metadata": {},
     "output_type": "execute_result"
    }
   ],
   "source": [
    "random_cv.fit(xtrain,ytrain)"
   ]
  },
  {
   "cell_type": "code",
   "execution_count": 1093,
   "metadata": {},
   "outputs": [
    {
     "data": {
      "text/plain": [
       "XGBRegressor(base_score=0.25, booster='gbtree', colsample_bylevel=1,\n",
       "             colsample_bynode=1, colsample_bytree=1, gamma=0, gpu_id=-1,\n",
       "             importance_type='gain', interaction_constraints='',\n",
       "             learning_rate=0.1, max_delta_step=0, max_depth=3,\n",
       "             min_child_weight=1, missing=nan, monotone_constraints='()',\n",
       "             n_estimators=100, n_jobs=8, num_parallel_tree=1, random_state=0,\n",
       "             reg_alpha=0, reg_lambda=1, scale_pos_weight=1, subsample=1,\n",
       "             tree_method='exact', validate_parameters=1, verbosity=None)"
      ]
     },
     "execution_count": 1093,
     "metadata": {},
     "output_type": "execute_result"
    }
   ],
   "source": [
    "random_cv.best_estimator_"
   ]
  },
  {
   "cell_type": "code",
   "execution_count": 1169,
   "metadata": {},
   "outputs": [
    {
     "ename": "ValueError",
     "evalue": "feature_names mismatch: ['f0', 'f1', 'f2', 'f3', 'f4', 'f5', 'f6', 'f7', 'f8', 'f9', 'f10', 'f11', 'f12'] ['f0', 'f1', 'f2', 'f3', 'f4', 'f5', 'f6', 'f7', 'f8', 'f9', 'f10', 'f11']\nexpected f12 in input data",
     "output_type": "error",
     "traceback": [
      "\u001b[0;31m---------------------------------------------------------------------------\u001b[0m",
      "\u001b[0;31mValueError\u001b[0m                                Traceback (most recent call last)",
      "\u001b[0;32m<ipython-input-1169-a63560acc845>\u001b[0m in \u001b[0;36m<module>\u001b[0;34m\u001b[0m\n\u001b[0;32m----> 1\u001b[0;31m \u001b[0mrandom_cv\u001b[0m\u001b[0;34m.\u001b[0m\u001b[0mscore\u001b[0m\u001b[0;34m(\u001b[0m\u001b[0mxtrain\u001b[0m\u001b[0;34m,\u001b[0m\u001b[0mytrain\u001b[0m\u001b[0;34m)\u001b[0m\u001b[0;34m\u001b[0m\u001b[0;34m\u001b[0m\u001b[0m\n\u001b[0m",
      "\u001b[0;32m~/.local/lib/python3.8/site-packages/sklearn/model_selection/_search.py\u001b[0m in \u001b[0;36mscore\u001b[0;34m(self, X, y)\u001b[0m\n\u001b[1;32m    456\u001b[0m                              % self.best_estimator_)\n\u001b[1;32m    457\u001b[0m         \u001b[0mscore\u001b[0m \u001b[0;34m=\u001b[0m \u001b[0mself\u001b[0m\u001b[0;34m.\u001b[0m\u001b[0mscorer_\u001b[0m\u001b[0;34m[\u001b[0m\u001b[0mself\u001b[0m\u001b[0;34m.\u001b[0m\u001b[0mrefit\u001b[0m\u001b[0;34m]\u001b[0m \u001b[0;32mif\u001b[0m \u001b[0mself\u001b[0m\u001b[0;34m.\u001b[0m\u001b[0mmultimetric_\u001b[0m \u001b[0;32melse\u001b[0m \u001b[0mself\u001b[0m\u001b[0;34m.\u001b[0m\u001b[0mscorer_\u001b[0m\u001b[0;34m\u001b[0m\u001b[0;34m\u001b[0m\u001b[0m\n\u001b[0;32m--> 458\u001b[0;31m         \u001b[0;32mreturn\u001b[0m \u001b[0mscore\u001b[0m\u001b[0;34m(\u001b[0m\u001b[0mself\u001b[0m\u001b[0;34m.\u001b[0m\u001b[0mbest_estimator_\u001b[0m\u001b[0;34m,\u001b[0m \u001b[0mX\u001b[0m\u001b[0;34m,\u001b[0m \u001b[0my\u001b[0m\u001b[0;34m)\u001b[0m\u001b[0;34m\u001b[0m\u001b[0;34m\u001b[0m\u001b[0m\n\u001b[0m\u001b[1;32m    459\u001b[0m \u001b[0;34m\u001b[0m\u001b[0m\n\u001b[1;32m    460\u001b[0m     \u001b[0;32mdef\u001b[0m \u001b[0m_check_is_fitted\u001b[0m\u001b[0;34m(\u001b[0m\u001b[0mself\u001b[0m\u001b[0;34m,\u001b[0m \u001b[0mmethod_name\u001b[0m\u001b[0;34m)\u001b[0m\u001b[0;34m:\u001b[0m\u001b[0;34m\u001b[0m\u001b[0;34m\u001b[0m\u001b[0m\n",
      "\u001b[0;32m~/.local/lib/python3.8/site-packages/sklearn/metrics/_scorer.py\u001b[0m in \u001b[0;36m__call__\u001b[0;34m(self, estimator, X, y_true, sample_weight)\u001b[0m\n\u001b[1;32m    167\u001b[0m                           \u001b[0mcategory\u001b[0m\u001b[0;34m=\u001b[0m\u001b[0mFutureWarning\u001b[0m\u001b[0;34m,\u001b[0m\u001b[0;34m\u001b[0m\u001b[0;34m\u001b[0m\u001b[0m\n\u001b[1;32m    168\u001b[0m                           stacklevel=2)\n\u001b[0;32m--> 169\u001b[0;31m         return self._score(partial(_cached_call, None), estimator, X, y_true,\n\u001b[0m\u001b[1;32m    170\u001b[0m                            sample_weight=sample_weight)\n\u001b[1;32m    171\u001b[0m \u001b[0;34m\u001b[0m\u001b[0m\n",
      "\u001b[0;32m~/.local/lib/python3.8/site-packages/sklearn/metrics/_scorer.py\u001b[0m in \u001b[0;36m_score\u001b[0;34m(self, method_caller, estimator, X, y_true, sample_weight)\u001b[0m\n\u001b[1;32m    204\u001b[0m         \"\"\"\n\u001b[1;32m    205\u001b[0m \u001b[0;34m\u001b[0m\u001b[0m\n\u001b[0;32m--> 206\u001b[0;31m         \u001b[0my_pred\u001b[0m \u001b[0;34m=\u001b[0m \u001b[0mmethod_caller\u001b[0m\u001b[0;34m(\u001b[0m\u001b[0mestimator\u001b[0m\u001b[0;34m,\u001b[0m \u001b[0;34m\"predict\"\u001b[0m\u001b[0;34m,\u001b[0m \u001b[0mX\u001b[0m\u001b[0;34m)\u001b[0m\u001b[0;34m\u001b[0m\u001b[0;34m\u001b[0m\u001b[0m\n\u001b[0m\u001b[1;32m    207\u001b[0m         \u001b[0;32mif\u001b[0m \u001b[0msample_weight\u001b[0m \u001b[0;32mis\u001b[0m \u001b[0;32mnot\u001b[0m \u001b[0;32mNone\u001b[0m\u001b[0;34m:\u001b[0m\u001b[0;34m\u001b[0m\u001b[0;34m\u001b[0m\u001b[0m\n\u001b[1;32m    208\u001b[0m             return self._sign * self._score_func(y_true, y_pred,\n",
      "\u001b[0;32m~/.local/lib/python3.8/site-packages/sklearn/metrics/_scorer.py\u001b[0m in \u001b[0;36m_cached_call\u001b[0;34m(cache, estimator, method, *args, **kwargs)\u001b[0m\n\u001b[1;32m     51\u001b[0m     \u001b[0;34m\"\"\"Call estimator with method and args and kwargs.\"\"\"\u001b[0m\u001b[0;34m\u001b[0m\u001b[0;34m\u001b[0m\u001b[0m\n\u001b[1;32m     52\u001b[0m     \u001b[0;32mif\u001b[0m \u001b[0mcache\u001b[0m \u001b[0;32mis\u001b[0m \u001b[0;32mNone\u001b[0m\u001b[0;34m:\u001b[0m\u001b[0;34m\u001b[0m\u001b[0;34m\u001b[0m\u001b[0m\n\u001b[0;32m---> 53\u001b[0;31m         \u001b[0;32mreturn\u001b[0m \u001b[0mgetattr\u001b[0m\u001b[0;34m(\u001b[0m\u001b[0mestimator\u001b[0m\u001b[0;34m,\u001b[0m \u001b[0mmethod\u001b[0m\u001b[0;34m)\u001b[0m\u001b[0;34m(\u001b[0m\u001b[0;34m*\u001b[0m\u001b[0margs\u001b[0m\u001b[0;34m,\u001b[0m \u001b[0;34m**\u001b[0m\u001b[0mkwargs\u001b[0m\u001b[0;34m)\u001b[0m\u001b[0;34m\u001b[0m\u001b[0;34m\u001b[0m\u001b[0m\n\u001b[0m\u001b[1;32m     54\u001b[0m \u001b[0;34m\u001b[0m\u001b[0m\n\u001b[1;32m     55\u001b[0m     \u001b[0;32mtry\u001b[0m\u001b[0;34m:\u001b[0m\u001b[0;34m\u001b[0m\u001b[0;34m\u001b[0m\u001b[0m\n",
      "\u001b[0;32m~/anaconda3/lib/python3.8/site-packages/xgboost/sklearn.py\u001b[0m in \u001b[0;36mpredict\u001b[0;34m(self, data, output_margin, ntree_limit, validate_features, base_margin)\u001b[0m\n\u001b[1;32m    649\u001b[0m         \u001b[0;32mif\u001b[0m \u001b[0mntree_limit\u001b[0m \u001b[0;32mis\u001b[0m \u001b[0;32mNone\u001b[0m\u001b[0;34m:\u001b[0m\u001b[0;34m\u001b[0m\u001b[0;34m\u001b[0m\u001b[0m\n\u001b[1;32m    650\u001b[0m             \u001b[0mntree_limit\u001b[0m \u001b[0;34m=\u001b[0m \u001b[0mgetattr\u001b[0m\u001b[0;34m(\u001b[0m\u001b[0mself\u001b[0m\u001b[0;34m,\u001b[0m \u001b[0;34m\"best_ntree_limit\"\u001b[0m\u001b[0;34m,\u001b[0m \u001b[0;36m0\u001b[0m\u001b[0;34m)\u001b[0m\u001b[0;34m\u001b[0m\u001b[0;34m\u001b[0m\u001b[0m\n\u001b[0;32m--> 651\u001b[0;31m         return self.get_booster().predict(test_dmatrix,\n\u001b[0m\u001b[1;32m    652\u001b[0m                                           \u001b[0moutput_margin\u001b[0m\u001b[0;34m=\u001b[0m\u001b[0moutput_margin\u001b[0m\u001b[0;34m,\u001b[0m\u001b[0;34m\u001b[0m\u001b[0;34m\u001b[0m\u001b[0m\n\u001b[1;32m    653\u001b[0m                                           \u001b[0mntree_limit\u001b[0m\u001b[0;34m=\u001b[0m\u001b[0mntree_limit\u001b[0m\u001b[0;34m,\u001b[0m\u001b[0;34m\u001b[0m\u001b[0;34m\u001b[0m\u001b[0m\n",
      "\u001b[0;32m~/anaconda3/lib/python3.8/site-packages/xgboost/core.py\u001b[0m in \u001b[0;36mpredict\u001b[0;34m(self, data, output_margin, ntree_limit, pred_leaf, pred_contribs, approx_contribs, pred_interactions, validate_features, training)\u001b[0m\n\u001b[1;32m   1483\u001b[0m \u001b[0;34m\u001b[0m\u001b[0m\n\u001b[1;32m   1484\u001b[0m         \u001b[0;32mif\u001b[0m \u001b[0mvalidate_features\u001b[0m\u001b[0;34m:\u001b[0m\u001b[0;34m\u001b[0m\u001b[0;34m\u001b[0m\u001b[0m\n\u001b[0;32m-> 1485\u001b[0;31m             \u001b[0mself\u001b[0m\u001b[0;34m.\u001b[0m\u001b[0m_validate_features\u001b[0m\u001b[0;34m(\u001b[0m\u001b[0mdata\u001b[0m\u001b[0;34m)\u001b[0m\u001b[0;34m\u001b[0m\u001b[0;34m\u001b[0m\u001b[0m\n\u001b[0m\u001b[1;32m   1486\u001b[0m \u001b[0;34m\u001b[0m\u001b[0m\n\u001b[1;32m   1487\u001b[0m         \u001b[0mlength\u001b[0m \u001b[0;34m=\u001b[0m \u001b[0mc_bst_ulong\u001b[0m\u001b[0;34m(\u001b[0m\u001b[0;34m)\u001b[0m\u001b[0;34m\u001b[0m\u001b[0;34m\u001b[0m\u001b[0m\n",
      "\u001b[0;32m~/anaconda3/lib/python3.8/site-packages/xgboost/core.py\u001b[0m in \u001b[0;36m_validate_features\u001b[0;34m(self, data)\u001b[0m\n\u001b[1;32m   2058\u001b[0m                             ', '.join(str(s) for s in my_missing))\n\u001b[1;32m   2059\u001b[0m \u001b[0;34m\u001b[0m\u001b[0m\n\u001b[0;32m-> 2060\u001b[0;31m                 raise ValueError(msg.format(self.feature_names,\n\u001b[0m\u001b[1;32m   2061\u001b[0m                                             data.feature_names))\n\u001b[1;32m   2062\u001b[0m \u001b[0;34m\u001b[0m\u001b[0m\n",
      "\u001b[0;31mValueError\u001b[0m: feature_names mismatch: ['f0', 'f1', 'f2', 'f3', 'f4', 'f5', 'f6', 'f7', 'f8', 'f9', 'f10', 'f11', 'f12'] ['f0', 'f1', 'f2', 'f3', 'f4', 'f5', 'f6', 'f7', 'f8', 'f9', 'f10', 'f11']\nexpected f12 in input data"
     ]
    }
   ],
   "source": [
    "random_cv.score(xtrain,ytrain)"
   ]
  },
  {
   "cell_type": "code",
   "execution_count": 1095,
   "metadata": {},
   "outputs": [
    {
     "data": {
      "text/plain": [
       "-3.8998106542199844"
      ]
     },
     "execution_count": 1095,
     "metadata": {},
     "output_type": "execute_result"
    }
   ],
   "source": [
    "random_cv.score(xtest,ytest)"
   ]
  },
  {
   "cell_type": "code",
   "execution_count": 1100,
   "metadata": {},
   "outputs": [
    {
     "data": {
      "text/plain": [
       "array([10.444561 , 17.296297 , 23.549171 ,  5.198769 , 20.244839 ,\n",
       "       24.52509  ,  9.132585 , 10.223261 , 26.606625 ,  5.0386353],\n",
       "      dtype=float32)"
      ]
     },
     "execution_count": 1100,
     "metadata": {},
     "output_type": "execute_result"
    }
   ],
   "source": [
    "random_cv.predict(xtest)[:10]"
   ]
  },
  {
   "cell_type": "code",
   "execution_count": 1101,
   "metadata": {},
   "outputs": [
    {
     "data": {
      "text/plain": [
       "array([15.2825    , 19.23      , 35.        ,  6.255     , 22.36      ,\n",
       "       24.41272727,  2.1325    ,  2.5475    , 26.53285714,  2.294     ])"
      ]
     },
     "execution_count": 1101,
     "metadata": {},
     "output_type": "execute_result"
    }
   ],
   "source": [
    "ytest[:10]"
   ]
  },
  {
   "cell_type": "code",
   "execution_count": 1109,
   "metadata": {},
   "outputs": [
    {
     "data": {
      "text/plain": [
       "5.520570697274889"
      ]
     },
     "execution_count": 1109,
     "metadata": {},
     "output_type": "execute_result"
    }
   ],
   "source": [
    "from sklearn.metrics import mean_squared_error\n",
    "\n",
    "mean_squared_error(ytest, random_cv.predict(xtest), squared=False)"
   ]
  },
  {
   "cell_type": "code",
   "execution_count": null,
   "metadata": {},
   "outputs": [],
   "source": []
  }
 ],
 "metadata": {
  "kernelspec": {
   "display_name": "Python 3",
   "language": "python",
   "name": "python3"
  },
  "language_info": {
   "codemirror_mode": {
    "name": "ipython",
    "version": 3
   },
   "file_extension": ".py",
   "mimetype": "text/x-python",
   "name": "python",
   "nbconvert_exporter": "python",
   "pygments_lexer": "ipython3",
   "version": "3.8.5"
  }
 },
 "nbformat": 4,
 "nbformat_minor": 4
}
